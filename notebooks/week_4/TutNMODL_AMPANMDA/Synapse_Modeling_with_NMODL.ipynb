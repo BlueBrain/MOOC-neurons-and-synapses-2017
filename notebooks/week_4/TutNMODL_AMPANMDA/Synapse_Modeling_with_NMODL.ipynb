{
 "cells": [
  {
   "cell_type": "markdown",
   "metadata": {},
   "source": [
    "# NEURON Tutorial: Defining your own synapses\n",
    "\n",
    "## Introduction\n",
    "\n",
    "This tutorial will give you an introduction to the NMODL language,\n",
    "which allows you to define your own synapse models for the NEURON simulator.\n",
    "We will walk you through this process, and the NMODL syntax, on the example of \n",
    "a model of AMPA and NMDA glutamate receptors.\n",
    "\n",
    "You will learn how to:\n",
    "* Make your own NMODL .mod file\n",
    "* Model AMPA and NMDA glutamate receptors using the NMODL language\n",
    "* Compile your .mod file\n",
    "* Insert it into a simple neuron and stimulate it."
   ]
  },
  {
   "cell_type": "markdown",
   "metadata": {},
   "source": [
    "## MOD Files: Editing and Syntax\n",
    "\n",
    "The NMODL language is a domain specific language of the NEURON simulator to define extensions, such as ion channel or synapse models.  To use NMODL, the user writes .mod files adhering to the NMODL language syntax.  These are programs external to python, and so must be editing using an external editor.\n",
    "\n",
    "Here, we will use the embedded editing capabilities of Jupyter."
   ]
  },
  {
   "cell_type": "markdown",
   "metadata": {},
   "source": [
    "## Compiling MOD files\n",
    "\n",
    "MOD files need to be compiled before they can be used with NEURON.  \n",
    "NEURON provides a tool called \"nrnivmodl\", which has the syntax:\n",
    "```bash\n",
    "$ nrnivmodl <directory>\n",
    "```\n",
    "Invocation will compile all `.mod` files found in `<directory>`, if specified, otherwise the current directory.\n",
    "\n",
    "Our `.mod` file is located in \"`mechanisms`\", so we compile it as follows (the prefix `!` is used to invoke a system call outside python):"
   ]
  },
  {
   "cell_type": "code",
   "execution_count": null,
   "metadata": {},
   "outputs": [],
   "source": [
    "!nrnivmodl  mechanisms"
   ]
  },
  {
   "cell_type": "markdown",
   "metadata": {},
   "source": [
    "## nrnivmodl: Verify successful compilation\n",
    "\n",
    "The output above indicates `nrnivmodl` completed successfully.  If error messages are generated, then something maybe wrong in your `.mod` file program.  Double-check your .mod file, and try again. "
   ]
  },
  {
   "cell_type": "markdown",
   "metadata": {},
   "source": [
    "## Trying out your new synapse model\n",
    "\n",
    "If your .mod files are compiled before you import neuron, NEURON will load your compiled models automatically if they are in your local directory."
   ]
  },
  {
   "cell_type": "code",
   "execution_count": null,
   "metadata": {},
   "outputs": [],
   "source": [
    "import neuron\n",
    "from neuron import h\n",
    "import numpy\n",
    "import matplotlib.pyplot as plt\n",
    "# Load external files & initialize\n",
    "neuron.h.load_file(\"stdrun.hoc\");\n",
    "neuron.h.stdinit();"
   ]
  },
  {
   "cell_type": "markdown",
   "metadata": {},
   "source": [
    "If you forgot to compile your .mod files before importing neuron, you can trigger NEURON to load them as follows.  Note, this command can only be executed once for a given directory of .mod files.  Executing it a second time will crash your jupyter kernel.  "
   ]
  },
  {
   "cell_type": "code",
   "execution_count": null,
   "metadata": {},
   "outputs": [],
   "source": [
    "#neuron.load_mechanisms(\".\")"
   ]
  },
  {
   "cell_type": "markdown",
   "metadata": {},
   "source": [
    "## A neuron to host your synapse\n",
    "\n",
    "Following previous exercises, we will create a single compartment soma neuron to host the synapse."
   ]
  },
  {
   "cell_type": "code",
   "execution_count": null,
   "metadata": {},
   "outputs": [],
   "source": [
    "soma = neuron.h.Section()\n",
    "soma.L = 40\n",
    "soma.diam = 40\n",
    "soma.insert('pas')"
   ]
  },
  {
   "cell_type": "code",
   "execution_count": null,
   "metadata": {},
   "outputs": [],
   "source": [
    "# Configure the passive biophysics\n",
    "for sec in h.allsec():\n",
    "    sec.Ra = 100\n",
    "    sec.cm = 1"
   ]
  },
  {
   "cell_type": "markdown",
   "metadata": {},
   "source": [
    "Create the synapse at the center of the soma compartment"
   ]
  },
  {
   "cell_type": "code",
   "execution_count": null,
   "metadata": {},
   "outputs": [],
   "source": [
    "synapse = h.SimpleAMPA_NMDA(soma(0.5))"
   ]
  },
  {
   "cell_type": "markdown",
   "metadata": {},
   "source": [
    "Define the stimulus: 8 spikes at 20Hz + 1 spike 500 ms later"
   ]
  },
  {
   "cell_type": "code",
   "execution_count": null,
   "metadata": {},
   "outputs": [],
   "source": [
    "stimulator = h.VecStim()\n",
    "spike_times = [100.0, 150.0, 200.0, 250.0, 300.0, 350.0, 400.0, 450.0, 950.0]\n",
    "spikes_vector = h.Vector(spike_times)\n",
    "stimulator.play(spikes_vector)\n",
    "\n",
    "connection = h.NetCon(stimulator, synapse)\n",
    "connection.weight[0] = 1.0        # In units of [nS] due to the gmax scaling factor in our .mod file"
   ]
  },
  {
   "cell_type": "markdown",
   "metadata": {},
   "source": [
    "Create a recorder for the synaptic conductance, current, the soma voltage, and the time intervals"
   ]
  },
  {
   "cell_type": "code",
   "execution_count": null,
   "metadata": {},
   "outputs": [],
   "source": [
    "g_syn = h.Vector()\n",
    "g_syn.record(synapse._ref_g)\n",
    "i_syn = h.Vector()\n",
    "i_syn.record(synapse._ref_i)\n",
    "v_soma = h.Vector()\n",
    "v_soma.record(soma(0.5)._ref_v)\n",
    "time = h.Vector()\n",
    "time.record(neuron.h._ref_t)"
   ]
  },
  {
   "cell_type": "markdown",
   "metadata": {},
   "source": [
    "First, let's zero the NMDA conductance, and validate that the AMPA conductance is behaving as we expect\n",
    "First we simulate, then we plot the voltage, and the conductance trajectories."
   ]
  },
  {
   "cell_type": "code",
   "execution_count": null,
   "metadata": {},
   "outputs": [],
   "source": [
    "h.tstop = 1000.0 # ms\n",
    "synapse.gmax_NMDA = 0.0\n",
    "synapse.gmax_AMPA = 0.001 # uS\n",
    "neuron.h.run()"
   ]
  },
  {
   "cell_type": "code",
   "execution_count": null,
   "metadata": {},
   "outputs": [],
   "source": [
    "# This command gives us fancy interactive inline plots\n",
    "%matplotlib inline\n",
    "\n",
    "def plot_timecourse(time_array, dependent_var, newfigure=True, label=None, ylabel='Membrane voltage (mV)', constants=[]):\n",
    "    \"\"\"Convenience function to plot time courses of dependent variables\"\"\"\n",
    "    if newfigure:\n",
    "        plt.figure()\n",
    "    plt.plot(time_array, dependent_var, label=label)\n",
    "    for constant in constants:\n",
    "        plt.plot(time_array, constant*numpy.ones(len(time_array)))\n",
    "    plt.xlabel('Time (ms)')\n",
    "    plt.ylabel(ylabel)\n",
    "        \n",
    "plot_timecourse(time, v_soma)"
   ]
  },
  {
   "cell_type": "markdown",
   "metadata": {},
   "source": [
    "The dual exponential model for the conductance time course has a closed form for the response due to a single pulse.\n",
    "Below we validate our .mod file implementation running in NEURON against this closed form solution. "
   ]
  },
  {
   "cell_type": "code",
   "execution_count": null,
   "metadata": {},
   "outputs": [],
   "source": [
    "plot_timecourse(time, g_syn, ylabel=\"Conductance (uS)\", label=\"NEURON\")\n",
    "\n",
    "def dual_exp(t, tau_r, tau_d, t_start):\n",
    "    \"\"\"Compute the dual exponential time course using the closed form expression.\"\"\"\n",
    "    t = numpy.array(t)\n",
    "    time_to_peak = (tau_r*tau_d)/(tau_d-tau_r)*numpy.log(tau_d/tau_r)\n",
    "    factor = -numpy.exp(-time_to_peak/tau_r)+numpy.exp(-time_to_peak/tau_d)\n",
    "    f_dual_exp = lambda t: (numpy.exp(-t/tau_d) - numpy.exp(-t/tau_r))/factor\n",
    "    dual_exp = numpy.zeros_like(t)\n",
    "    dual_exp[t>=t_start] = f_dual_exp(t[t>=t_start]-t_start)\n",
    "    return dual_exp\n",
    "    \n",
    "plt.plot(time, 0.001*connection.weight[0]*dual_exp(time, synapse.tau_r_AMPA, synapse.tau_d_AMPA, \n",
    "                                                   t_start=100.0+connection.delay), 'r--', lw=2, label=\"math. expr.\")\n",
    "plt.legend()"
   ]
  },
  {
   "cell_type": "markdown",
   "metadata": {},
   "source": [
    "Now, let's also validate the trajectory for the NMDA receptor alone\n",
    "Here, we have to remove the Magnesium block by zeroing the Mg2+ concentration"
   ]
  },
  {
   "cell_type": "code",
   "execution_count": null,
   "metadata": {},
   "outputs": [],
   "source": [
    "synapse.gmax_NMDA = 0.001 # uS\n",
    "synapse.mg = 0.0 # mM\n",
    "synapse.gmax_AMPA = 0 # uS\n",
    "neuron.h.run()"
   ]
  },
  {
   "cell_type": "code",
   "execution_count": null,
   "metadata": {},
   "outputs": [],
   "source": [
    "plot_timecourse(time, g_syn, ylabel=\"Conductance (uS)\", label=\"NEURON\")\n",
    "plt.plot(time, 0.001*connection.weight[0]*dual_exp(time, synapse.tau_r_NMDA, synapse.tau_d_NMDA, \n",
    "                                                   t_start=100.0+connection.delay), 'r--', lw=2, label=\"math. expr.\")\n",
    "plt.legend()"
   ]
  },
  {
   "cell_type": "markdown",
   "metadata": {},
   "source": [
    "Finally, let's configure the synapse to realistic biological ranges for the AMPA and NMDA conductances, and the Mg2+ concentration.  We'll record both the NMDA and AMPA conductances serperately to visualize their contributions to the total conductance trajectory."
   ]
  },
  {
   "cell_type": "code",
   "execution_count": null,
   "metadata": {},
   "outputs": [],
   "source": [
    "synapse.gmax_AMPA = 0.001 # uS\n",
    "synapse.gmax_NMDA = 0.7 * 0.001 # uS - 0.7 is a biologically typical ratio of NMDA to AMPA conductance\n",
    "synapse.mg = 1.0 # mM\n",
    "g_NMDA = h.Vector()\n",
    "g_NMDA.record(synapse._ref_g_NMDA)\n",
    "g_AMPA = h.Vector()\n",
    "g_AMPA.record(synapse._ref_g_AMPA)\n",
    "neuron.h.run()"
   ]
  },
  {
   "cell_type": "code",
   "execution_count": null,
   "metadata": {},
   "outputs": [],
   "source": [
    "plot_timecourse(time, g_syn, ylabel=\"Conductance (uS)\", label=\"NEURON - g\")\n",
    "plot_timecourse(time, g_NMDA, ylabel=\"Conductance (uS)\", label=\"NEURON - g_NMDA\", newfigure=False)\n",
    "plot_timecourse(time, g_AMPA, ylabel=\"Conductance (uS)\", label=\"NEURON - g_AMPA\", newfigure=False)\n",
    "plt.axis([80.0, 150.0, 0.0, 0.0011])\n",
    "plt.legend()"
   ]
  },
  {
   "cell_type": "markdown",
   "metadata": {},
   "source": [
    "Finally, let's plot the dependence of the NMDA conductance on the Mg2+ concentration."
   ]
  },
  {
   "cell_type": "code",
   "execution_count": null,
   "metadata": {},
   "outputs": [],
   "source": [
    "g_NMDA_1mM = numpy.zeros_like(g_NMDA)\n",
    "g_NMDA_1mM[:] = g_NMDA"
   ]
  },
  {
   "cell_type": "code",
   "execution_count": null,
   "metadata": {},
   "outputs": [],
   "source": [
    "plot_timecourse(time, g_NMDA_1mM, ylabel=\"Conductance (uS)\", label=\"[Mg2+] = 1mM\")\n",
    "mgs = [0.5, 0.25, 0.1, 0.0]\n",
    "for mg in mgs:\n",
    "    synapse.mg = mg\n",
    "    neuron.h.run()\n",
    "    plot_timecourse(time, g_NMDA, ylabel=\"Conductance (uS)\", label=\"[Mg2+] = %fmM\" % mg, newfigure=False)\n",
    "plt.axis([80.0, 150.0, 0.0, 0.0011])\n",
    "plt.legend()\n"
   ]
  },
  {
   "cell_type": "markdown",
   "metadata": {},
   "source": [
    "The plot shows a marked increase in g_NMDA as [Mg2+] decreases, indicating the NMDA receptor requires the presence of Mg2+ for the voltage block to be effective."
   ]
  },
  {
   "cell_type": "code",
   "execution_count": null,
   "metadata": {},
   "outputs": [],
   "source": []
  }
 ],
 "metadata": {
  "kernelspec": {
   "display_name": "Python 3 (ipykernel)",
   "language": "python",
   "name": "python3"
  },
  "language_info": {
   "codemirror_mode": {
    "name": "ipython",
    "version": 3
   },
   "file_extension": ".py",
   "mimetype": "text/x-python",
   "name": "python",
   "nbconvert_exporter": "python",
   "pygments_lexer": "ipython3",
   "version": "3.8.10"
  }
 },
 "nbformat": 4,
 "nbformat_minor": 4
}
