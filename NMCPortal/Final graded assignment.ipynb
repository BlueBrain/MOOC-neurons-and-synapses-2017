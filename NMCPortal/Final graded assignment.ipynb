{
 "cells": [
  {
   "cell_type": "markdown",
   "metadata": {},
   "source": [
    "# Final graded assignment: \n",
    "# _Input-output properties of a layer 4 pyramidal cell_"
   ]
  },
  {
   "cell_type": "markdown",
   "metadata": {},
   "source": [
    "Blue Brain Project / EPFL ©2005-2017. This notebook is under a [LGPLv3](https://raw.githubusercontent.com/BlueBrain/MOOC-neurons-and-synapses-2017/master/LICENSE.txt) license."
   ]
  },
  {
   "cell_type": "markdown",
   "metadata": {},
   "source": [
    "Using techniques from the previous week 6 exercise on the Layer 5 pyramidal cell from the NMC portal, in this assignment you will simulate a layer 4 pyramidal cell from the NMC portal under several input configurations, and assess its output."
   ]
  },
  {
   "cell_type": "markdown",
   "metadata": {},
   "source": [
    "Let's begin with installing and importing the required Python packages"
   ]
  },
  {
   "cell_type": "code",
   "execution_count": null,
   "metadata": {
    "collapsed": true
   },
   "outputs": [],
   "source": [
    "!pip install --user -q bluepyopt==1.5.12 matplotlib==2.0.2 numpy==1.13.0 2>&1 | grep -v 'SNIMissingWarning\\|InsecurePlatformWarning'\n",
    "!pip install --user -q neurom\n",
    "!pip install --user -q log_progress"
   ]
  },
  {
   "cell_type": "code",
   "execution_count": null,
   "metadata": {
    "collapsed": true
   },
   "outputs": [],
   "source": [
    "%matplotlib inline\n",
    "import matplotlib.pyplot as plt\n",
    "import numpy\n",
    "from log_progress import log_progress\n",
    "\n",
    "import os\n",
    "os.unsetenv('PYTHONHOME') # Solve an issue with NEURON simulator import\n",
    "import zipfile # Extract zip files\n",
    "import urllib # Download files from the web\n",
    "import neurom # Analyse / view morphologies\n",
    "import neurom.viewer"
   ]
  },
  {
   "cell_type": "markdown",
   "metadata": {},
   "source": [
    "## Downloading the model"
   ]
  },
  {
   "cell_type": "markdown",
   "metadata": {},
   "source": [
    "As in the Week 6 Tutorial, let's download a Neocortical Layer 4 Pyramidal cell model from the NMC Portal:"
   ]
  },
  {
   "cell_type": "code",
   "execution_count": null,
   "metadata": {
    "collapsed": true
   },
   "outputs": [],
   "source": [
    "urllib.urlretrieve('https://bbp.epfl.ch/nmc-portal/assets/documents/static/downloads-zip/L4_PC_cADpyr230_2.zip','L4_PC_cADpyr230_2.zip');"
   ]
  },
  {
   "cell_type": "markdown",
   "metadata": {},
   "source": [
    "Then we extract this zip file on disk:"
   ]
  },
  {
   "cell_type": "code",
   "execution_count": null,
   "metadata": {
    "collapsed": true
   },
   "outputs": [],
   "source": [
    "import os, zipfile\n",
    "with zipfile.ZipFile('L4_PC_cADpyr230_2.zip', 'r') as zip_file:\n",
    "    zip_file.extractall('.')"
   ]
  },
  {
   "cell_type": "markdown",
   "metadata": {},
   "source": [
    "Now we change directory to the model dir. (**Be careful**, once this line is executed don't execute the lines above because it will create nested subdirectories)"
   ]
  },
  {
   "cell_type": "code",
   "execution_count": null,
   "metadata": {
    "collapsed": true
   },
   "outputs": [],
   "source": [
    "os.chdir('L4_PC_cADpyr230_2')"
   ]
  },
  {
   "cell_type": "markdown",
   "metadata": {},
   "source": [
    "The model contains MOD files describing the NEURON simulator mechanisms used in the model. Compile these files using the 'nrnivmodl' command:"
   ]
  },
  {
   "cell_type": "code",
   "execution_count": null,
   "metadata": {
    "collapsed": true
   },
   "outputs": [],
   "source": [
    "!nrnivmodl mechanisms"
   ]
  },
  {
   "cell_type": "markdown",
   "metadata": {},
   "source": [
    "## Visualizing the morphology"
   ]
  },
  {
   "cell_type": "markdown",
   "metadata": {},
   "source": [
    "The morphology of the cell is located in the 'morphology' subdirectory. \n",
    "We can visualize this morphology using NeuroM:"
   ]
  },
  {
   "cell_type": "code",
   "execution_count": null,
   "metadata": {
    "collapsed": true
   },
   "outputs": [],
   "source": [
    "neurom.viewer.draw(neurom.load_neuron('morphology/dend-C310897B-P3_axon-C220498B-P3_cor_-_Clone_1.asc'));"
   ]
  },
  {
   "cell_type": "markdown",
   "metadata": {},
   "source": [
    "## Initializing the model"
   ]
  },
  {
   "cell_type": "markdown",
   "metadata": {},
   "source": [
    "To load the functionality of the electrical model we load the 'init.hoc' HOC file."
   ]
  },
  {
   "cell_type": "code",
   "execution_count": null,
   "metadata": {
    "collapsed": true
   },
   "outputs": [],
   "source": [
    "import neuron as nrn # NEURON simulator\n",
    "nrn.h.load_file(\"./init.hoc\");"
   ]
  },
  {
   "cell_type": "markdown",
   "metadata": {},
   "source": [
    "The init.hoc has created a function 'create_cell' to instantiate the neuron in the NEURON simulator. As argument it takes a value to enable/disable the synapses of the cell. (1=True, 0=False)"
   ]
  },
  {
   "cell_type": "code",
   "execution_count": null,
   "metadata": {
    "collapsed": true
   },
   "outputs": [],
   "source": [
    "nrn.h.create_cell(1); # argument 1 stands for 'load synapses'"
   ]
  },
  {
   "cell_type": "markdown",
   "metadata": {},
   "source": [
    "After this function has been called the global name space of the NEURON simulator contains a variable 'cell'. \n",
    "Let's create a python variable to point to this object and for the soma:"
   ]
  },
  {
   "cell_type": "code",
   "execution_count": null,
   "metadata": {
    "collapsed": true
   },
   "outputs": [],
   "source": [
    "cell = nrn.h.cell\n",
    "soma = cell.soma[0]"
   ]
  },
  {
   "cell_type": "markdown",
   "metadata": {},
   "source": [
    "## Injecting a step current"
   ]
  },
  {
   "cell_type": "markdown",
   "metadata": {},
   "source": [
    "Now that we have a pointer to the soma of the neuron, we can inject a current into it. As we've learned in another tutorial, we can create an IClamp to inject the current:"
   ]
  },
  {
   "cell_type": "code",
   "execution_count": null,
   "metadata": {
    "collapsed": true
   },
   "outputs": [],
   "source": [
    "stimulus = nrn.h.IClamp(0.5, sec=soma)"
   ]
  },
  {
   "cell_type": "code",
   "execution_count": null,
   "metadata": {
    "collapsed": true
   },
   "outputs": [],
   "source": [
    "stimulus.dur = 100000 # ms\n",
    "stimulus.delay = 100  # ms     "
   ]
  },
  {
   "cell_type": "markdown",
   "metadata": {},
   "source": [
    "As in the tutorial, let's retrieve the holding and step currents from a file in the model package:"
   ]
  },
  {
   "cell_type": "code",
   "execution_count": null,
   "metadata": {
    "collapsed": true
   },
   "outputs": [],
   "source": [
    "with open('current_amps.dat') as current_file:\n",
    "    current_content = current_file.read()\n",
    "\n",
    "print 'File content: ', current_content\n",
    "holding_current, step1_current, step2_current, step3_current = [float(x) for x in current_content.split()]\n",
    "\n",
    "print\n",
    "print 'Holding current: %f nA' % holding_current\n",
    "print 'Step 1: %f nA' % step1_current\n",
    "print 'Step 2: %f nA' % step2_current\n",
    "print 'Step 3: %f nA' % step3_current"
   ]
  },
  {
   "cell_type": "markdown",
   "metadata": {},
   "source": [
    "The 'holding current' is the current the experimentalists inject during the entire recording to hold the neuron at a predefined voltage before the actual stimulus is applied."
   ]
  },
  {
   "cell_type": "markdown",
   "metadata": {},
   "source": [
    "The init.hoc also has provided us with a function to enable the recording of the voltage:"
   ]
  },
  {
   "cell_type": "code",
   "execution_count": null,
   "metadata": {
    "collapsed": true
   },
   "outputs": [],
   "source": [
    "nrn.h.create_recording();    #activate recording of activity "
   ]
  },
  {
   "cell_type": "markdown",
   "metadata": {},
   "source": [
    "In what follows, we will run some fairly long simulations.\n",
    "Let's define a function to run simulations with a progress bar:"
   ]
  },
  {
   "cell_type": "code",
   "execution_count": null,
   "metadata": {
    "collapsed": true
   },
   "outputs": [],
   "source": [
    "def run_progressbar(tstop=600):\n",
    "    # make windows approimately 50ms long\n",
    "    num_windows = int(float(tstop)/50)\n",
    "    if num_windows<10:\n",
    "        num_windows=10\n",
    "    windows = numpy.linspace(0,tstop,num_windows)\n",
    "    for nrn.h.tstop in log_progress(windows[1:], every=1):\n",
    "        if nrn.h.tstop==windows[1]:\n",
    "            # first run\n",
    "            nrn.h.run()\n",
    "        else:\n",
    "            nrn.h.continuerun(nrn.h.tstop)"
   ]
  },
  {
   "cell_type": "markdown",
   "metadata": {},
   "source": [
    "... and define a convenience function to simulate and plot"
   ]
  },
  {
   "cell_type": "code",
   "execution_count": null,
   "metadata": {
    "collapsed": true
   },
   "outputs": [],
   "source": [
    "time = nrn.h.time\n",
    "voltage = nrn.h.voltage\n",
    "\n",
    "def plot_tv(time_array, voltage_array, show=True, label=None, constants=[]):\n",
    "    plt.plot(time_array, voltage_array, label=label)\n",
    "    for constant in constants:\n",
    "        plt.plot(time_array, constant*numpy.ones(len(time_array)))\n",
    "    plt.xlabel('Time (ms)')\n",
    "    plt.ylabel('Membrane voltage (mV)')\n",
    "    if show:\n",
    "        plt.show()\n",
    "        \n",
    "def run_plot(tstop=600):\n",
    "    nrn.h.dt = 0.05\n",
    "\n",
    "    run_progressbar(tstop)\n",
    "    nrn.h.save_recording()\n",
    "\n",
    "    plot_tv(time, voltage)"
   ]
  },
  {
   "cell_type": "markdown",
   "metadata": {},
   "source": [
    "First let's stimulate the cell with the first step current protocol"
   ]
  },
  {
   "cell_type": "code",
   "execution_count": null,
   "metadata": {
    "collapsed": true,
    "scrolled": true
   },
   "outputs": [],
   "source": [
    "stimulus.amp = holding_current + step1_current\n",
    "run_plot(10000)"
   ]
  },
  {
   "cell_type": "markdown",
   "metadata": {},
   "source": [
    "## Exercise Question 1\n",
    "Using a threshold of 0mV, detect the spike times in the voltage train.  Throw away spike times less that 1s, as they represent a transient phase where the system relaxes from its initial conditions.  Compute the time intervals between subsequent spikes, known as the inter-spike intervals (ISI).  That is, if $t_i$ are the spike times, then $ISI_i=t_{i+1}-t_i$.  This offset subtraction can be compactly represented using numpy indexing of the form `y = x[1:] - x[:-1]`.  Try it out!  \n",
    "\n",
    "Plot the histogram of ISIs for your spike dataset. How does it look? A Poisson process has an exponential ISI distribution, and a coefficient of variation (CV; see week 4) of 1.  Spiking more \"regular\" than Poisson will have a CV less than 1.  Spiking more \"irregular\" than Poisson will have a CV greater than 1.  Compute the CV for your simulation, and add it to an **ans** dictionary as a string or float with key \"Q1\"."
   ]
  },
  {
   "cell_type": "code",
   "execution_count": null,
   "metadata": {
    "collapsed": true
   },
   "outputs": [],
   "source": [
    "ans = {}\n",
    "ans[\"Q1\"] = \"my CV\""
   ]
  },
  {
   "cell_type": "markdown",
   "metadata": {},
   "source": [
    "## Activating synapses\n",
    "Now let's define an _in vivo_-like stimulus, where input neurons are firing like Poisson processes with presynaptic morphology type (mtype) specific rates.  "
   ]
  },
  {
   "cell_type": "markdown",
   "metadata": {},
   "source": [
    "Following the tutorial, load and build the mtype id map:"
   ]
  },
  {
   "cell_type": "code",
   "execution_count": null,
   "metadata": {
    "collapsed": true,
    "scrolled": true
   },
   "outputs": [],
   "source": [
    "with open('synapses/mtype_map.tsv') as mtype_map_file:\n",
    "    mtype_map_content = mtype_map_file.read()\n",
    "    \n",
    "mtype_map = {}\n",
    "for line in mtype_map_content.split('\\n')[:-1]:\n",
    "    n, mtype = line.split()\n",
    "    mtype_map[mtype] = int(n)\n",
    "    \n",
    "print mtype_map"
   ]
  },
  {
   "cell_type": "markdown",
   "metadata": {},
   "source": [
    "Now, following the tutorial, we will enable all the synapses that are projected onto this cell from all mtypes.\n",
    "To this end we will define, as before, the init_synapses function:"
   ]
  },
  {
   "cell_type": "code",
   "execution_count": null,
   "metadata": {
    "collapsed": true
   },
   "outputs": [],
   "source": [
    "def init_synapses(enabled_mtypes=[]):\n",
    "    \"\"\"Enable all the synapses that are projected onto this cell from mtype listed in enabled_mtypes.\"\"\"\n",
    "    enabled_mtype_ints = [mtype_map[mtype] for mtype in enabled_mtypes]\n",
    "    \n",
    "    for i in range(0, int(cell.synapses.n_of_mtypes)): # Loop over all the m-type\n",
    "        if i in enabled_mtype_ints: # Enable synapses\n",
    "            #  The [were_]active_pre_mtypes is a NEURON vector \n",
    "            # (it uses the .x syntax to access the elements)\n",
    "            # When the value in the vector is 1 all the presynaptic neurons\n",
    "            # of a particular m-types are active (and inactive when it is 0)\n",
    "            cell.synapses.were_active_pre_mtypes.x[i]= 0\n",
    "            cell.synapses.active_pre_mtypes.x[i] = 1        \n",
    "        else: # Disable synapses\n",
    "            cell.synapses.were_active_pre_mtypes.x[i]= 1\n",
    "            cell.synapses.active_pre_mtypes.x[i] = 0\n",
    "            \n",
    "    cell.synapses.update_synapses(nrn.h.synapse_plot); # Update the synapses\n"
   ]
  },
  {
   "cell_type": "code",
   "execution_count": null,
   "metadata": {
    "collapsed": true
   },
   "outputs": [],
   "source": [
    "# Enable incoming synapses from all mtypes\n",
    "init_synapses(enabled_mtypes=mtype_map.keys())"
   ]
  },
  {
   "cell_type": "code",
   "execution_count": null,
   "metadata": {
    "collapsed": true
   },
   "outputs": [],
   "source": [
    "# The in vivo fluctation driven regime: \n",
    "# Depolarize at approx. 100%\n",
    "# firing times are determined by synaptic drive \"fluctuations\"\n",
    "stimulus.amp = holding_current + (step1_current/1.2) # inject the 100% threshold\n",
    "stimulus.dur = 100000 # keep it on"
   ]
  },
  {
   "cell_type": "markdown",
   "metadata": {},
   "source": [
    "Each of the synapses is driven by a Poisson process with a firing rate that can be configured for each presynaptic mtype.  Let's configure mtype specific firing rates as described in [Gentet et al., 2010](http://www.sciencedirect.com/science/article/pii/S0896627310000115) for awake conditions, i.e. about 1 Hz for excitatory cells, and 5.0 Hz for inhibitory cells."
   ]
  },
  {
   "cell_type": "code",
   "execution_count": null,
   "metadata": {
    "collapsed": true
   },
   "outputs": [],
   "source": [
    "exc_cells = ['L23_PC', 'L4_PC', 'L4_SS', 'L4_SP', \n",
    "             'L5_TTPC1', 'L5_TTPC2', 'L5_STPC', 'L5_UTPC',\n",
    "             'L6_TPC_L1', 'L6_TPC_L4', 'L6_BPC', 'L6_IPC', 'L6_UTPC']\n",
    "for mtype in mtype_map:\n",
    "    if mtype in exc_cells:\n",
    "        freq = 1.0 # [Hz]\n",
    "    else:\n",
    "        freq = 5.0 # [Hz]\n",
    "    cell.synapses.pre_mtype_freqs.x[mtype_map[mtype]]=freq\n",
    "    \n",
    "cell.synapses.update_synapses(nrn.h.synapse_plot);"
   ]
  },
  {
   "cell_type": "markdown",
   "metadata": {},
   "source": [
    "Now run 100s of simulation, to collect ample statistics.  Note: this will take about 10 minutes to complete."
   ]
  },
  {
   "cell_type": "code",
   "execution_count": null,
   "metadata": {
    "collapsed": true
   },
   "outputs": [],
   "source": [
    "run_plot(100000)"
   ]
  },
  {
   "cell_type": "markdown",
   "metadata": {},
   "source": [
    "## Exercise Question 2\n",
    "As in **Question 1**, plot the histogram of ISIs of your spike dataset for this _in vivo_-like stimulation.  How does it look? Compute the CV.  A Poisson process has an exponential ISI distribution, and a coefficient of variation (CV; see week 4) of 1.  Add your answer to the ans dictionary as a string or float with key \"Q2\". "
   ]
  },
  {
   "cell_type": "code",
   "execution_count": null,
   "metadata": {
    "collapsed": true
   },
   "outputs": [],
   "source": [
    "ans[\"Q2\"]=cv"
   ]
  },
  {
   "cell_type": "markdown",
   "metadata": {},
   "source": [
    "## Statistical models for neuronal firing\n",
    "\n",
    "The gamma process, with ISI statistics governed by a gamma probability distribution function (PDF) or gamma distribution, is often used to describe the ISI statistics of neuronal firing.  The gamma distribution has two parameters, shape and scale, which parameterize the distribution as described [here](https://en.wikipedia.org/wiki/Gamma_distribution).  The shape and scale parameters uniquely determine the mean and standard deviation of the distribution and vice versa: $\\mu=k\\theta$, $\\sigma=\\sqrt{k\\theta^2}$, where $\\mu$ and $\\sigma$ are the mean and standard deviation, and $k$ and $\\theta$ are the shape and scale parameters, respectively.  \n",
    "\n",
    "The various stats of the [gamma process](https://docs.scipy.org/doc/scipy/reference/generated/scipy.stats.gamma.html) are available in scipy:\n"
   ]
  },
  {
   "cell_type": "code",
   "execution_count": null,
   "metadata": {
    "collapsed": true
   },
   "outputs": [],
   "source": [
    "from scipy.stats import gamma"
   ]
  },
  {
   "cell_type": "markdown",
   "metadata": {},
   "source": [
    "The gamma process provided by scipy has an additional parameter, loc (which stands for location), which implements a translation of the PDF along the x-axis.  This can be used to describe  neurons which exhibit a refractory period, a time interval following a spike for which spiking is forbidden. \n",
    "\n",
    "Assuming your inter-spike interval data are stored in the variable `isi`,\n",
    "the following command can be used to fit a gamma distribution to your ISI data:\n",
    "\n",
    "`shape, loc, scale = gamma.fit(isi)`\n",
    "\n",
    "For a pure gamma distribution, one must force a zero refractory period, i.e. loc=0, for the fit as follows:\n"
   ]
  },
  {
   "cell_type": "code",
   "execution_count": null,
   "metadata": {
    "collapsed": true
   },
   "outputs": [],
   "source": [
    "shape, loc, scale = gamma.fit(isi, floc=0)\n",
    "print shape\n",
    "print scale"
   ]
  },
  {
   "cell_type": "code",
   "execution_count": null,
   "metadata": {
    "collapsed": true
   },
   "outputs": [],
   "source": [
    "# For the gamma distribution, shape and scale can also be computed from mean and variance \n",
    "shape2 = numpy.mean(isi)**2/numpy.var(isi)\n",
    "print shape2\n",
    "scale2 = numpy.var(isi)/numpy.mean(isi)\n",
    "print scale2"
   ]
  },
  {
   "cell_type": "markdown",
   "metadata": {},
   "source": [
    "Now, lets compare our fit to a histogram of our ISI data, to visually inspect how well the gamma process describes the firing of our model neuron."
   ]
  },
  {
   "cell_type": "code",
   "execution_count": null,
   "metadata": {
    "collapsed": true
   },
   "outputs": [],
   "source": [
    "# The 'denstity' kwarg results in a pdf, i.e. its normalized to 1\n",
    "# so it can be directly compared to gamma.pdf \n",
    "h1, bins = numpy.histogram(isi, bins=50, density=True);\n",
    "# append a zero bin at the end to make same dimensions as bins (for plotting)\n",
    "h1 = numpy.hstack((h1, 0))"
   ]
  },
  {
   "cell_type": "code",
   "execution_count": null,
   "metadata": {
    "collapsed": true
   },
   "outputs": [],
   "source": [
    "plt.plot(bins, h1, ls=\"steps-post\")\n",
    "x = numpy.arange(0,1000,0.5)\n",
    "plt.plot(x, gamma.pdf(x, a=shape, loc=loc, scale=scale))"
   ]
  },
  {
   "cell_type": "markdown",
   "metadata": {},
   "source": [
    "## Exercise Question 3\n",
    "Following the development above, fit a gamma process with refractory period (loc>=0) to your isi data.  From visual inspection, does the additional refractory period parameter make much difference in describing your isi data for short isi intervals?  Submit your resulting shape, loc, scale fits as follows: "
   ]
  },
  {
   "cell_type": "code",
   "execution_count": null,
   "metadata": {
    "collapsed": true
   },
   "outputs": [],
   "source": [
    "ans[\"Q3\"]=(shape, loc, scale)"
   ]
  },
  {
   "cell_type": "markdown",
   "metadata": {},
   "source": [
    "## ISI Correlations\n",
    "\n",
    "The gamma process is a special case of a renewal process, and as such, subsequent ISIs are statistically independent.  By contrast, neuronal ISIs are generally negatively correlated, as a result of [spike frequency adaptation](http://www.scholarpedia.org/article/Spike_frequency_adaptation) due to spike activated $K^+$ channels such as the [M-current](http://channelpedia.epfl.ch/ionchannels/26). Let's investigate this concept more closely.\n",
    "\n",
    "To begin, let's generate some ISIs for our fitted gamma process, and plot a scatter plot of $ISI_{i+1}$ vs $ISI_i$.  To this end, the `gamma.rvs` can generate these \"random variates\" according to the parameters we fit previously."
   ]
  },
  {
   "cell_type": "code",
   "execution_count": null,
   "metadata": {
    "collapsed": true
   },
   "outputs": [],
   "source": [
    "gamma_isi = gamma.rvs(size=isi.shape, a=shape, loc=loc, scale=scale)"
   ]
  },
  {
   "cell_type": "code",
   "execution_count": null,
   "metadata": {
    "collapsed": true
   },
   "outputs": [],
   "source": [
    "plt.plot(gamma_isi[:-1], gamma_isi[1:], '.')\n",
    "plt.xlabel('$ISI_i$ [ms]', fontsize=16)\n",
    "plt.ylabel('$ISI_{i+1}$ [ms]', fontsize=16)"
   ]
  },
  {
   "cell_type": "markdown",
   "metadata": {},
   "source": [
    "We can assess if subsequent ISIs of the gamma process are correlated using a linear regression:"
   ]
  },
  {
   "cell_type": "code",
   "execution_count": null,
   "metadata": {
    "collapsed": true
   },
   "outputs": [],
   "source": [
    "from scipy.stats import linregress"
   ]
  },
  {
   "cell_type": "code",
   "execution_count": null,
   "metadata": {
    "collapsed": true
   },
   "outputs": [],
   "source": [
    "slope, intercept, r_value, p_value, std_err = linregress(gamma_isi[:-1], gamma_isi[1:])"
   ]
  },
  {
   "cell_type": "code",
   "execution_count": null,
   "metadata": {
    "collapsed": true
   },
   "outputs": [],
   "source": [
    "r_value, p_value "
   ]
  },
  {
   "cell_type": "markdown",
   "metadata": {},
   "source": [
    "As described [here](https://docs.scipy.org/doc/scipy-0.14.0/reference/generated/scipy.stats.linregress.html), the r_value is the correlation coefficient, and the p_value is for the test of the null hypothesis (no correlation).  We find an r_value close to zero, and a high p_value indicating we cannot reject the null hypothesis that subsequent ISIs are uncorrelated.  Indeed they ISIs are uncorrelated by definition for the gamma process.\n",
    "\n",
    "Let's plot the result of the linear regression:"
   ]
  },
  {
   "cell_type": "code",
   "execution_count": null,
   "metadata": {
    "collapsed": true
   },
   "outputs": [],
   "source": [
    "plt.plot(gamma_isi[:-1], gamma_isi[1:], '.')\n",
    "plt.plot(bins, slope*bins+intercept, 'r-')"
   ]
  },
  {
   "cell_type": "markdown",
   "metadata": {},
   "source": [
    "Let's now generate the scatter plot for our simulated neuronal ISI data"
   ]
  },
  {
   "cell_type": "code",
   "execution_count": null,
   "metadata": {
    "collapsed": true
   },
   "outputs": [],
   "source": [
    "plt.plot(isi[:-1], isi[1:], '.')\n",
    "plt.xlabel('$ISI_i$ [ms]', fontsize=16)\n",
    "plt.ylabel('$ISI_{i+1}$ [ms]', fontsize=16)"
   ]
  },
  {
   "cell_type": "markdown",
   "metadata": {},
   "source": [
    "We get a clear picture that long ISIs ($>500$ ms) are followed by short ISIs ($<300$ ms), whereas short ISIs ($<300$ ms) are followed by the longest ISIs, sometimes $>700$ ms.  This suggests that subequent ISIs are negatively correlated.  We can again investigate this correlation more quantitatively using linear regression."
   ]
  },
  {
   "cell_type": "markdown",
   "metadata": {},
   "source": [
    "## Exercise Question 4\n",
    "Undertake a similar analysis as above for your simulated neuronal ISIs.  Perform a linear regression on subsequent ISIs.  Submit your r_value and p_value for your neuronal ISI data as follows.  Consider the result: Does linear regression reveal a statistically significant negative correlation, as expected?  "
   ]
  },
  {
   "cell_type": "code",
   "execution_count": null,
   "metadata": {
    "collapsed": true
   },
   "outputs": [],
   "source": [
    "ans[\"Q4\"]=(r_value, p_value)"
   ]
  },
  {
   "cell_type": "markdown",
   "metadata": {},
   "source": [
    "## Submit you answers\n",
    "Print your **ans** dictionary as a json string, and submit the string to the course platform by executing the submission code below.  You will also need a submission key from the course platform. "
   ]
  },
  {
   "cell_type": "code",
   "execution_count": null,
   "metadata": {
    "collapsed": true
   },
   "outputs": [],
   "source": [
    "import json; print json.dumps(ans)"
   ]
  },
  {
   "cell_type": "code",
   "execution_count": null,
   "metadata": {
    "collapsed": true
   },
   "outputs": [],
   "source": [
    "# Install the grader client\n",
    "import os; os.unsetenv('PYTHONHOME')\n",
    "!pip install -q --upgrade -i https://bbpteam.epfl.ch/repository/devpi/simple/ 'single-cell-mooc-client>=0.0.1,<0.1.0'"
   ]
  },
  {
   "cell_type": "code",
   "execution_count": null,
   "metadata": {
    "collapsed": true
   },
   "outputs": [],
   "source": [
    "# Submit your answer.  The submission key can be retrieved from the edX platform\n",
    "import single_cell_mooc_client as sc_mc\n",
    "submission_widget = sc_mc.Submission()"
   ]
  }
 ],
 "metadata": {
  "kernelspec": {
   "display_name": "Python 2",
   "language": "python",
   "name": "python2"
  },
  "language_info": {
   "codemirror_mode": {
    "name": "ipython",
    "version": 2
   },
   "file_extension": ".py",
   "mimetype": "text/x-python",
   "name": "python",
   "nbconvert_exporter": "python",
   "pygments_lexer": "ipython2",
   "version": "2.7.12"
  }
 },
 "nbformat": 4,
 "nbformat_minor": 2
}
