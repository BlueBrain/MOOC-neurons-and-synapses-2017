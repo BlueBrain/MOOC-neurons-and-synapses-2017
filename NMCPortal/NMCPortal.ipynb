{
 "cells": [
  {
   "cell_type": "markdown",
   "metadata": {},
   "source": [
    "# Tutorial: The Neocortical Microcircuit Collaboration Portal"
   ]
  },
  {
   "cell_type": "markdown",
   "metadata": {},
   "source": [
    "Blue Brain Project / EPFL ©2005-2017. This notebook is under a [LGPLv3](https://raw.githubusercontent.com/BlueBrain/MOOC-neurons-and-synapses-2017/master/LICENSE.txt) license."
   ]
  },
  {
   "cell_type": "markdown",
   "metadata": {},
   "source": [
    "The Neocortical Microcircuit Collaboration Portal (NMC Portal, at [https://bbp.epfl.ch/nmc-portal](https://bbp.epfl.ch/nmc-portal)) provides an online public resource of the Blue Brain Project's first release of a digital reconstruction of the microcircuitry of juvenile Rat somatosensory cortex, access to experimental data sets used in the reconstruction, and the resulting single cell models.\n",
    "\n",
    "![NMC Portal web page](https://bbp.epfl.ch/public/SimNeuroMOOC/images/NMCPortal/NMCWeb.png)\n",
    "\n",
    "In this tutorial we will focus on working with the electrical models of single neurons one can download from the NMC portal."
   ]
  },
  {
   "cell_type": "markdown",
   "metadata": {},
   "source": [
    "Let's begin with importing useful Python packages"
   ]
  },
  {
   "cell_type": "code",
   "execution_count": 1,
   "metadata": {
    "collapsed": true
   },
   "outputs": [],
   "source": [
    "!pip install -q bluepyopt==1.5.12 matplotlib==2.0.2 numpy==1.13.0\n",
    "\n",
    "%matplotlib inline\n",
    "import matplotlib.pyplot as pyplot\n",
    "\n",
    "import os\n",
    "import zipfile # Extract zip files\n",
    "import urllib # Download files from the web\n",
    "import neurom # Analyse / view morphologies\n",
    "import neurom.viewer"
   ]
  },
  {
   "cell_type": "markdown",
   "metadata": {},
   "source": [
    "## Downloading the model"
   ]
  },
  {
   "cell_type": "markdown",
   "metadata": {},
   "source": [
    "We can [select](https://bbp.epfl.ch/nmc-portal/microcircuit#/metype/L5_TTPC2_cADpyr/details) a model from the NMC Portal, and download the zip file containing the code of the model. Let us download a Neocortical Layer 5 Thick Tufted Pyramidal cell model:"
   ]
  },
  {
   "cell_type": "code",
   "execution_count": 2,
   "metadata": {
    "collapsed": true
   },
   "outputs": [],
   "source": [
    "urllib.urlretrieve('https://bbp.epfl.ch/nmc-portal/documents/10184/1921755/L5_TTPC2_cADpyr232_1.zip/a058fc9c-6c67-417b-a65b-20742902ccbb','L5_TTPC2_cADpyr232_1.zip');"
   ]
  },
  {
   "cell_type": "markdown",
   "metadata": {},
   "source": [
    "Then we extract this zip file on disk:"
   ]
  },
  {
   "cell_type": "code",
   "execution_count": 3,
   "metadata": {
    "collapsed": true
   },
   "outputs": [],
   "source": [
    "import os, zipfile\n",
    "with zipfile.ZipFile('L5_TTPC2_cADpyr232_1.zip', 'r') as zip_file:\n",
    "    zip_file.extractall('.')"
   ]
  },
  {
   "cell_type": "markdown",
   "metadata": {},
   "source": [
    "Now we change directory to the model dir. (**Be careful**, once this line is executed don't execute the lines above because it will create nested subdirectories)"
   ]
  },
  {
   "cell_type": "code",
   "execution_count": 4,
   "metadata": {
    "collapsed": true
   },
   "outputs": [],
   "source": [
    "os.chdir('L5_TTPC2_cADpyr232_1')"
   ]
  },
  {
   "cell_type": "markdown",
   "metadata": {},
   "source": [
    "The model contains MOD files describing the NEURON simulator mechanisms used in the model. As we have seen in another tutorial, one can compile these files using the 'nrnivmodl' command:"
   ]
  },
  {
   "cell_type": "code",
   "execution_count": 5,
   "metadata": {},
   "outputs": [
    {
     "name": "stdout",
     "output_type": "stream",
     "text": [
      "/Users/werner/src/MOOC-SingleCell-2017/NMCPortal/L5_TTPC2_cADpyr232_1\n",
      "mechanisms/CaDynamics_E2.mod mechanisms/Ca_HVA.mod mechanisms/Ca_LVAst.mod mechanisms/Ih.mod mechanisms/Im.mod mechanisms/K_Pst.mod mechanisms/K_Tst.mod mechanisms/NaTa_t.mod mechanisms/NaTs2_t.mod mechanisms/Nap_Et2.mod mechanisms/ProbAMPANMDA_EMS.mod mechanisms/ProbGABAAB_EMS.mod mechanisms/SK_E2.mod mechanisms/SKv3_1.mod\n",
      "CaDynamics_E2.mod Ca_HVA.mod Ca_LVAst.mod Ih.mod Im.mod K_Pst.mod K_Tst.mod NaTa_t.mod NaTs2_t.mod Nap_Et2.mod ProbAMPANMDA_EMS.mod ProbGABAAB_EMS.mod SK_E2.mod SKv3_1.mod\n",
      "\"/Users/werner/local/nrnnogui/x86_64/bin/nocmodl\" CaDynamics_E2\n",
      "Translating CaDynamics_E2.mod into CaDynamics_E2.c\n",
      "Thread Safe\n",
      "\"/Users/werner/local/nrnnogui/share/nrn/libtool\"  --mode=compile gcc -DHAVE_CONFIG_H  -I. -I.. -I\"/Users/werner/local/nrnnogui/include/nrn\" -I\"/Users/werner/local/nrnnogui/x86_64/lib\"      -g -O2 -c -o CaDynamics_E2.lo `test -f 'CaDynamics_E2.c' || echo '/'`CaDynamics_E2.c\n",
      "libtool: compile:  gcc -DHAVE_CONFIG_H -I. -I.. -I/Users/werner/local/nrnnogui/include/nrn -I/Users/werner/local/nrnnogui/x86_64/lib -g -O2 -c CaDynamics_E2.c  -fno-common -DPIC -o .libs/CaDynamics_E2.o\n",
      "\"/Users/werner/local/nrnnogui/x86_64/bin/nocmodl\" Ca_HVA\n",
      "Translating Ca_HVA.mod into Ca_HVA.c\n",
      "Thread Safe\n",
      "\"/Users/werner/local/nrnnogui/share/nrn/libtool\"  --mode=compile gcc -DHAVE_CONFIG_H  -I. -I.. -I\"/Users/werner/local/nrnnogui/include/nrn\" -I\"/Users/werner/local/nrnnogui/x86_64/lib\"      -g -O2 -c -o Ca_HVA.lo `test -f 'Ca_HVA.c' || echo '/'`Ca_HVA.c\n",
      "libtool: compile:  gcc -DHAVE_CONFIG_H -I. -I.. -I/Users/werner/local/nrnnogui/include/nrn -I/Users/werner/local/nrnnogui/x86_64/lib -g -O2 -c Ca_HVA.c  -fno-common -DPIC -o .libs/Ca_HVA.o\n",
      "\u001b[1mCa_HVA.c:249:15: \u001b[0m\u001b[0;1;35mwarning: \u001b[0m\u001b[1mequality comparison with extraneous parentheses\n",
      "      [-Wparentheses-equality]\u001b[0m\n",
      "    if ( ( v  == - 27.0 ) ) {\n",
      "\u001b[0;1;32m           ~~~^~~~~~~~~\n",
      "\u001b[0m\u001b[1mCa_HVA.c:249:15: \u001b[0m\u001b[0;1;30mnote: \u001b[0mremove extraneous parentheses around the comparison to\n",
      "      silence this warning\u001b[0m\n",
      "    if ( ( v  == - 27.0 ) ) {\n",
      "\u001b[0;1;32m         ~~   ^         ~~\n",
      "\u001b[0m\u001b[1mCa_HVA.c:249:15: \u001b[0m\u001b[0;1;30mnote: \u001b[0muse '=' to turn this equality comparison into an\n",
      "      assignment\u001b[0m\n",
      "    if ( ( v  == - 27.0 ) ) {\n",
      "\u001b[0;1;32m              ^~\n",
      "\u001b[0m\u001b[0;32m              =\n",
      "\u001b[0m1 warning generated.\n",
      "\"/Users/werner/local/nrnnogui/x86_64/bin/nocmodl\" Ca_LVAst\n",
      "Translating Ca_LVAst.mod into Ca_LVAst.c\n",
      "Thread Safe\n",
      "\"/Users/werner/local/nrnnogui/share/nrn/libtool\"  --mode=compile gcc -DHAVE_CONFIG_H  -I. -I.. -I\"/Users/werner/local/nrnnogui/include/nrn\" -I\"/Users/werner/local/nrnnogui/x86_64/lib\"      -g -O2 -c -o Ca_LVAst.lo `test -f 'Ca_LVAst.c' || echo '/'`Ca_LVAst.c\n",
      "libtool: compile:  gcc -DHAVE_CONFIG_H -I. -I.. -I/Users/werner/local/nrnnogui/include/nrn -I/Users/werner/local/nrnnogui/x86_64/lib -g -O2 -c Ca_LVAst.c  -fno-common -DPIC -o .libs/Ca_LVAst.o\n",
      "\"/Users/werner/local/nrnnogui/x86_64/bin/nocmodl\" Ih\n",
      "Translating Ih.mod into Ih.c\n",
      "Thread Safe\n",
      "\"/Users/werner/local/nrnnogui/share/nrn/libtool\"  --mode=compile gcc -DHAVE_CONFIG_H  -I. -I.. -I\"/Users/werner/local/nrnnogui/include/nrn\" -I\"/Users/werner/local/nrnnogui/x86_64/lib\"      -g -O2 -c -o Ih.lo `test -f 'Ih.c' || echo '/'`Ih.c\n",
      "libtool: compile:  gcc -DHAVE_CONFIG_H -I. -I.. -I/Users/werner/local/nrnnogui/include/nrn -I/Users/werner/local/nrnnogui/x86_64/lib -g -O2 -c Ih.c  -fno-common -DPIC -o .libs/Ih.o\n",
      "\"/Users/werner/local/nrnnogui/x86_64/bin/nocmodl\" Im\n",
      "Translating Im.mod into Im.c\n",
      "Thread Safe\n",
      "\"/Users/werner/local/nrnnogui/share/nrn/libtool\"  --mode=compile gcc -DHAVE_CONFIG_H  -I. -I.. -I\"/Users/werner/local/nrnnogui/include/nrn\" -I\"/Users/werner/local/nrnnogui/x86_64/lib\"      -g -O2 -c -o Im.lo `test -f 'Im.c' || echo '/'`Im.c\n",
      "libtool: compile:  gcc -DHAVE_CONFIG_H -I. -I.. -I/Users/werner/local/nrnnogui/include/nrn -I/Users/werner/local/nrnnogui/x86_64/lib -g -O2 -c Im.c  -fno-common -DPIC -o .libs/Im.o\n",
      "\"/Users/werner/local/nrnnogui/x86_64/bin/nocmodl\" K_Pst\n",
      "Translating K_Pst.mod into K_Pst.c\n",
      "Thread Safe\n",
      "\"/Users/werner/local/nrnnogui/share/nrn/libtool\"  --mode=compile gcc -DHAVE_CONFIG_H  -I. -I.. -I\"/Users/werner/local/nrnnogui/include/nrn\" -I\"/Users/werner/local/nrnnogui/x86_64/lib\"      -g -O2 -c -o K_Pst.lo `test -f 'K_Pst.c' || echo '/'`K_Pst.c\n",
      "libtool: compile:  gcc -DHAVE_CONFIG_H -I. -I.. -I/Users/werner/local/nrnnogui/include/nrn -I/Users/werner/local/nrnnogui/x86_64/lib -g -O2 -c K_Pst.c  -fno-common -DPIC -o .libs/K_Pst.o\n",
      "\"/Users/werner/local/nrnnogui/x86_64/bin/nocmodl\" K_Tst\n",
      "Translating K_Tst.mod into K_Tst.c\n",
      "Thread Safe\n",
      "\"/Users/werner/local/nrnnogui/share/nrn/libtool\"  --mode=compile gcc -DHAVE_CONFIG_H  -I. -I.. -I\"/Users/werner/local/nrnnogui/include/nrn\" -I\"/Users/werner/local/nrnnogui/x86_64/lib\"      -g -O2 -c -o K_Tst.lo `test -f 'K_Tst.c' || echo '/'`K_Tst.c\n",
      "libtool: compile:  gcc -DHAVE_CONFIG_H -I. -I.. -I/Users/werner/local/nrnnogui/include/nrn -I/Users/werner/local/nrnnogui/x86_64/lib -g -O2 -c K_Tst.c  -fno-common -DPIC -o .libs/K_Tst.o\n",
      "\"/Users/werner/local/nrnnogui/x86_64/bin/nocmodl\" NaTa_t\n",
      "Translating NaTa_t.mod into NaTa_t.c\n",
      "Thread Safe\n",
      "\"/Users/werner/local/nrnnogui/share/nrn/libtool\"  --mode=compile gcc -DHAVE_CONFIG_H  -I. -I.. -I\"/Users/werner/local/nrnnogui/include/nrn\" -I\"/Users/werner/local/nrnnogui/x86_64/lib\"      -g -O2 -c -o NaTa_t.lo `test -f 'NaTa_t.c' || echo '/'`NaTa_t.c\n",
      "libtool: compile:  gcc -DHAVE_CONFIG_H -I. -I.. -I/Users/werner/local/nrnnogui/include/nrn -I/Users/werner/local/nrnnogui/x86_64/lib -g -O2 -c NaTa_t.c  -fno-common -DPIC -o .libs/NaTa_t.o\n",
      "\"/Users/werner/local/nrnnogui/x86_64/bin/nocmodl\" NaTs2_t\n",
      "Translating NaTs2_t.mod into NaTs2_t.c\n",
      "Thread Safe\n",
      "\"/Users/werner/local/nrnnogui/share/nrn/libtool\"  --mode=compile gcc -DHAVE_CONFIG_H  -I. -I.. -I\"/Users/werner/local/nrnnogui/include/nrn\" -I\"/Users/werner/local/nrnnogui/x86_64/lib\"      -g -O2 -c -o NaTs2_t.lo `test -f 'NaTs2_t.c' || echo '/'`NaTs2_t.c\n",
      "libtool: compile:  gcc -DHAVE_CONFIG_H -I. -I.. -I/Users/werner/local/nrnnogui/include/nrn -I/Users/werner/local/nrnnogui/x86_64/lib -g -O2 -c NaTs2_t.c  -fno-common -DPIC -o .libs/NaTs2_t.o\n",
      "\"/Users/werner/local/nrnnogui/x86_64/bin/nocmodl\" Nap_Et2\n",
      "Translating Nap_Et2.mod into Nap_Et2.c\n",
      "Thread Safe\n",
      "\"/Users/werner/local/nrnnogui/share/nrn/libtool\"  --mode=compile gcc -DHAVE_CONFIG_H  -I. -I.. -I\"/Users/werner/local/nrnnogui/include/nrn\" -I\"/Users/werner/local/nrnnogui/x86_64/lib\"      -g -O2 -c -o Nap_Et2.lo `test -f 'Nap_Et2.c' || echo '/'`Nap_Et2.c\n",
      "libtool: compile:  gcc -DHAVE_CONFIG_H -I. -I.. -I/Users/werner/local/nrnnogui/include/nrn -I/Users/werner/local/nrnnogui/x86_64/lib -g -O2 -c Nap_Et2.c  -fno-common -DPIC -o .libs/Nap_Et2.o\n",
      "\"/Users/werner/local/nrnnogui/x86_64/bin/nocmodl\" ProbAMPANMDA_EMS\n",
      "Translating ProbAMPANMDA_EMS.mod into ProbAMPANMDA_EMS.c\n",
      "Notice: This mechanism cannot be used with CVODE\n",
      "Warning: dt undefined. (declared within VERBATIM?)\n",
      "Warning: value undefined. (declared within VERBATIM?)\n",
      "Thread Safe\n",
      "\"/Users/werner/local/nrnnogui/share/nrn/libtool\"  --mode=compile gcc -DHAVE_CONFIG_H  -I. -I.. -I\"/Users/werner/local/nrnnogui/include/nrn\" -I\"/Users/werner/local/nrnnogui/x86_64/lib\"      -g -O2 -c -o ProbAMPANMDA_EMS.lo `test -f 'ProbAMPANMDA_EMS.c' || echo '/'`ProbAMPANMDA_EMS.c\n",
      "libtool: compile:  gcc -DHAVE_CONFIG_H -I. -I.. -I/Users/werner/local/nrnnogui/include/nrn -I/Users/werner/local/nrnnogui/x86_64/lib -g -O2 -c ProbAMPANMDA_EMS.c  -fno-common -DPIC -o .libs/ProbAMPANMDA_EMS.o\n",
      "\"/Users/werner/local/nrnnogui/x86_64/bin/nocmodl\" ProbGABAAB_EMS\n",
      "Translating ProbGABAAB_EMS.mod into ProbGABAAB_EMS.c\n",
      "Notice: This mechanism cannot be used with CVODE\n",
      "Warning: dt undefined. (declared within VERBATIM?)\n",
      "Warning: value undefined. (declared within VERBATIM?)\n",
      "Thread Safe\n",
      "\"/Users/werner/local/nrnnogui/share/nrn/libtool\"  --mode=compile gcc -DHAVE_CONFIG_H  -I. -I.. -I\"/Users/werner/local/nrnnogui/include/nrn\" -I\"/Users/werner/local/nrnnogui/x86_64/lib\"      -g -O2 -c -o ProbGABAAB_EMS.lo `test -f 'ProbGABAAB_EMS.c' || echo '/'`ProbGABAAB_EMS.c\n",
      "libtool: compile:  gcc -DHAVE_CONFIG_H -I. -I.. -I/Users/werner/local/nrnnogui/include/nrn -I/Users/werner/local/nrnnogui/x86_64/lib -g -O2 -c ProbGABAAB_EMS.c  -fno-common -DPIC -o .libs/ProbGABAAB_EMS.o\n"
     ]
    },
    {
     "name": "stdout",
     "output_type": "stream",
     "text": [
      "\"/Users/werner/local/nrnnogui/x86_64/bin/nocmodl\" SK_E2\n",
      "Translating SK_E2.mod into SK_E2.c\n",
      "Thread Safe\n",
      "\"/Users/werner/local/nrnnogui/share/nrn/libtool\"  --mode=compile gcc -DHAVE_CONFIG_H  -I. -I.. -I\"/Users/werner/local/nrnnogui/include/nrn\" -I\"/Users/werner/local/nrnnogui/x86_64/lib\"      -g -O2 -c -o SK_E2.lo `test -f 'SK_E2.c' || echo '/'`SK_E2.c\n",
      "libtool: compile:  gcc -DHAVE_CONFIG_H -I. -I.. -I/Users/werner/local/nrnnogui/include/nrn -I/Users/werner/local/nrnnogui/x86_64/lib -g -O2 -c SK_E2.c  -fno-common -DPIC -o .libs/SK_E2.o\n",
      "\"/Users/werner/local/nrnnogui/x86_64/bin/nocmodl\" SKv3_1\n",
      "Translating SKv3_1.mod into SKv3_1.c\n",
      "Thread Safe\n",
      "\"/Users/werner/local/nrnnogui/share/nrn/libtool\"  --mode=compile gcc -DHAVE_CONFIG_H  -I. -I.. -I\"/Users/werner/local/nrnnogui/include/nrn\" -I\"/Users/werner/local/nrnnogui/x86_64/lib\"      -g -O2 -c -o SKv3_1.lo `test -f 'SKv3_1.c' || echo '/'`SKv3_1.c\n",
      "libtool: compile:  gcc -DHAVE_CONFIG_H -I. -I.. -I/Users/werner/local/nrnnogui/include/nrn -I/Users/werner/local/nrnnogui/x86_64/lib -g -O2 -c SKv3_1.c  -fno-common -DPIC -o .libs/SKv3_1.o\n",
      "\"/Users/werner/local/nrnnogui/share/nrn/libtool\"  --mode=compile gcc -DHAVE_CONFIG_H  -I. -I.. -I\"/Users/werner/local/nrnnogui/include/nrn\" -I\"/Users/werner/local/nrnnogui/x86_64/lib\"      -g -O2 -c -o mod_func.lo mod_func.c\n",
      "libtool: compile:  gcc -DHAVE_CONFIG_H -I. -I.. -I/Users/werner/local/nrnnogui/include/nrn -I/Users/werner/local/nrnnogui/x86_64/lib -g -O2 -c mod_func.c  -fno-common -DPIC -o .libs/mod_func.o\n",
      "\"/Users/werner/local/nrnnogui/share/nrn/libtool\"  --mode=link gcc -module  -g -O2    -headerpad_max_install_names -o libnrnmech.la -rpath \"/Users/werner/local/nrnnogui/x86_64/lib\"  CaDynamics_E2.lo Ca_HVA.lo Ca_LVAst.lo Ih.lo Im.lo K_Pst.lo K_Tst.lo NaTa_t.lo NaTs2_t.lo Nap_Et2.lo ProbAMPANMDA_EMS.lo ProbGABAAB_EMS.lo SK_E2.lo SKv3_1.lo mod_func.lo  -L\"/Users/werner/local/nrnnogui/x86_64/lib\" -lnrnoc -loc -lmemacs -lnrnmpi -lscopmath -lsparse13 -lreadline -lncurses -L\"/Users/werner/local/nrnnogui/x86_64/lib\" \"/Users/werner/local/nrnnogui/x86_64/lib/libnrniv.la\" -livoc -lneuron_gnu -lmeschach -lsundials -livos      \n",
      "libtool: link: rm -fr  .libs/libnrnmech.0.so .libs/libnrnmech.la .libs/libnrnmech.lai .libs/libnrnmech.so\n",
      "libtool: link: gcc -Wl,-undefined -Wl,dynamic_lookup -o .libs/libnrnmech.0.so -bundle  .libs/CaDynamics_E2.o .libs/Ca_HVA.o .libs/Ca_LVAst.o .libs/Ih.o .libs/Im.o .libs/K_Pst.o .libs/K_Tst.o .libs/NaTa_t.o .libs/NaTs2_t.o .libs/Nap_Et2.o .libs/ProbAMPANMDA_EMS.o .libs/ProbGABAAB_EMS.o .libs/SK_E2.o .libs/SKv3_1.o .libs/mod_func.o   -L/Users/werner/local/nrnnogui/x86_64/lib /Users/werner/local/nrnnogui/x86_64/lib/libnrnoc.dylib /Users/werner/local/nrnnogui/x86_64/lib/liboc.dylib /Users/werner/local/nrnnogui/x86_64/lib/libmemacs.dylib /Users/werner/local/nrnnogui/x86_64/lib/libnrnmpi.dylib /Users/werner/local/nrnnogui/x86_64/lib/libscopmath.dylib /Users/werner/local/nrnnogui/x86_64/lib/libsparse13.dylib -lreadline -lncurses /Users/werner/local/nrnnogui/x86_64/lib/libnrniv.dylib /Users/werner/local/nrnnogui/x86_64/lib/libivoc.dylib /Users/werner/local/nrnnogui/x86_64/lib/libneuron_gnu.dylib /Users/werner/local/nrnnogui/x86_64/lib/libmeschach.dylib /Users/werner/local/nrnnogui/x86_64/lib/libsundials.dylib /Users/werner/local/nrnnogui/x86_64/lib/libivos.dylib  -g -O2  \n",
      "libtool: link: (cd \".libs\" && rm -f \"libnrnmech.so\" && ln -s \"libnrnmech.0.so\" \"libnrnmech.so\")\n",
      "libtool: link: ( cd \".libs\" && rm -f \"libnrnmech.la\" && ln -s \"../libnrnmech.la\" \"libnrnmech.la\" )\n",
      "Successfully created x86_64/special\n"
     ]
    }
   ],
   "source": [
    "!nrnivmodl mechanisms"
   ]
  },
  {
   "cell_type": "markdown",
   "metadata": {},
   "source": [
    "## Visualizing the morphology"
   ]
  },
  {
   "cell_type": "markdown",
   "metadata": {},
   "source": [
    "The morphology of the cell is located in the 'morphology' subdirectory. \n",
    "We can visualize this morphology using NeuroM:"
   ]
  },
  {
   "cell_type": "code",
   "execution_count": 6,
   "metadata": {},
   "outputs": [
    {
     "name": "stderr",
     "output_type": "stream",
     "text": [
      "/Users/werner/local/pythonenv/lib/python2.7/site-packages/neurom/io/neurolucida.py:263: UserWarning: This is an experimental reader. There are no guarantees regarding ability to parse Neurolucida .asc files or correctness of output.\n",
      "  warnings.warn(msg)\n",
      "No handlers could be found for logger \"neurom.io.neurolucida\"\n"
     ]
    },
    {
     "data": {
      "image/png": "[encoded data removed]",
      "text/plain": [
       "<matplotlib.figure.Figure at 0x10e4a8710>"
      ]
     },
     "metadata": {},
     "output_type": "display_data"
    }
   ],
   "source": [
    "neurom.viewer.draw(neurom.load_neuron('morphology/dend-C060114A7_axon-C060116A3_-_Clone_2.asc'));"
   ]
  },
  {
   "cell_type": "markdown",
   "metadata": {},
   "source": [
    "## Initializing the model"
   ]
  },
  {
   "cell_type": "markdown",
   "metadata": {},
   "source": [
    "To load the functionality of the electrical model we load the 'init.hoc' HOC file."
   ]
  },
  {
   "cell_type": "code",
   "execution_count": 7,
   "metadata": {
    "collapsed": true
   },
   "outputs": [],
   "source": [
    "import neuron as nrn # NEURON simulator\n",
    "nrn.h.load_file(\"./init.hoc\");"
   ]
  },
  {
   "cell_type": "markdown",
   "metadata": {},
   "source": [
    "The init.hoc has created a function 'create_cell' to instantiate the neuron in the NEURON simulator. As argument it takes a value to enable/disable the synapses of the cell. (1=True, 0=False)"
   ]
  },
  {
   "cell_type": "code",
   "execution_count": 8,
   "metadata": {
    "collapsed": true
   },
   "outputs": [],
   "source": [
    "nrn.h.create_cell(1); # argument 1 stands for 'load synapses'"
   ]
  },
  {
   "cell_type": "markdown",
   "metadata": {},
   "source": [
    "After this function has been called the global name space of the NEURON simulator contains a variable 'cell'. \n",
    "Let's create a python variable to point to this object and for the soma:"
   ]
  },
  {
   "cell_type": "code",
   "execution_count": 9,
   "metadata": {
    "collapsed": true
   },
   "outputs": [],
   "source": [
    "cell = nrn.h.cell\n",
    "soma = cell.soma[0]"
   ]
  },
  {
   "cell_type": "markdown",
   "metadata": {},
   "source": [
    "## Injecting a step current"
   ]
  },
  {
   "cell_type": "markdown",
   "metadata": {},
   "source": [
    "Now that we have a pointer to the soma of the neuron, we can inject a current into it. As we've learned in another tutorial, we can create an IClamp to inject the current:"
   ]
  },
  {
   "cell_type": "code",
   "execution_count": 10,
   "metadata": {
    "collapsed": true
   },
   "outputs": [],
   "source": [
    "# Mention source of amplitude\n",
    "stimulus = nrn.h.IClamp(0.5, sec=soma)\n",
    "stimulus.dur = 400 # ms\n",
    "stimulus.delay = 100  # ms     \n",
    "stimulus.amp = 0.691907 # nA"
   ]
  },
  {
   "cell_type": "markdown",
   "metadata": {},
   "source": [
    "The current amplitude is exactly the value used to generate the trace for the highest step current on the [model page](https://bbp.epfl.ch/nmc-portal/microcircuit#/metype/L5_TTPC2_cADpyr/details).\n",
    "The values to recreate the three traces can be retrieved from a file in the model package:"
   ]
  },
  {
   "cell_type": "code",
   "execution_count": 11,
   "metadata": {},
   "outputs": [
    {
     "name": "stdout",
     "output_type": "stream",
     "text": [
      "File content:  -0.286011 0.5930628 0.6424847 0.6919066\n",
      "\n",
      "Holding current: -0.286011 nA\n",
      "Step 1: 0.593063 nA\n",
      "Step 2: 0.642485 nA\n",
      "Step 3: 0.691907 nA\n"
     ]
    }
   ],
   "source": [
    "with open('current_amps.dat') as current_file:\n",
    "    current_content = current_file.read()\n",
    "\n",
    "print 'File content: ', current_content\n",
    "holding_current, step1_current, step2_current, step3_current = [float(x) for x in current_content.split()]\n",
    "\n",
    "print\n",
    "print 'Holding current: %f nA' % holding_current\n",
    "print 'Step 1: %f nA' % step1_current\n",
    "print 'Step 2: %f nA' % step2_current\n",
    "print 'Step 3: %f nA' % step3_current"
   ]
  },
  {
   "cell_type": "markdown",
   "metadata": {},
   "source": [
    "The 'holding current' is current the experimentalists inject during the entire recording to hold the neuron at a predefined voltage before the actual stimulus is applied."
   ]
  },
  {
   "cell_type": "markdown",
   "metadata": {},
   "source": [
    "The init.hoc also has provided us with a function to enable the recording of the voltage:"
   ]
  },
  {
   "cell_type": "code",
   "execution_count": 12,
   "metadata": {
    "collapsed": true
   },
   "outputs": [],
   "source": [
    "nrn.h.create_recording();    #activate recording of activity "
   ]
  },
  {
   "cell_type": "markdown",
   "metadata": {},
   "source": [
    "Now we can run the simulation:"
   ]
  },
  {
   "cell_type": "code",
   "execution_count": 13,
   "metadata": {
    "collapsed": true
   },
   "outputs": [],
   "source": [
    "nrn.h.tstop = 600 # ms\n",
    "nrn.h.dt = 0.05 # \n",
    "nrn.h.run();\n",
    "\n",
    "nrn.h.save_recording();"
   ]
  },
  {
   "cell_type": "markdown",
   "metadata": {},
   "source": [
    "And plot the time/voltage:"
   ]
  },
  {
   "cell_type": "code",
   "execution_count": 14,
   "metadata": {},
   "outputs": [
    {
     "data": {
      "image/png": "[encoded data removed]",
      "text/plain": [
       "<matplotlib.figure.Figure at 0x10d7abc90>"
      ]
     },
     "metadata": {},
     "output_type": "display_data"
    }
   ],
   "source": [
    "time = nrn.h.time\n",
    "voltage = nrn.h.voltage\n",
    "\n",
    "def plot_tv(time_array, voltage_array, show=True, label=None, constants=[]):\n",
    "    import matplotlib.pyplot as plt\n",
    "    import numpy\n",
    "    plt.plot(time_array, voltage_array, label=label)\n",
    "    for constant in constants:\n",
    "        plt.plot(time_array, constant*numpy.ones(len(time_array)))\n",
    "    plt.xlabel('Time (ms)')\n",
    "    plt.ylabel('Membrane voltage (mV)')\n",
    "    if show:\n",
    "        plt.show()\n",
    "    \n",
    "\n",
    "plot_tv(time, voltage);"
   ]
  },
  {
   "cell_type": "markdown",
   "metadata": {
    "collapsed": true
   },
   "source": [
    "## Exercise\n",
    "\n",
    "To reduce the simulation time, the simulation ends at 600 ms. \n",
    "Try to replicate the exact traces on the NMC portal.\n",
    "The trace shown on the portal is the result of a 3000 ms simulation. The stimulus starts at 700 ms, and last for 2000 ms. Create two iclamps and inject a holding current for the full duration of the simulation, and step current for 2000 ms. Used the amplitudes retrieved from the current_amps.dat file."
   ]
  },
  {
   "cell_type": "markdown",
   "metadata": {},
   "source": [
    "## Activating synapses"
   ]
  },
  {
   "cell_type": "markdown",
   "metadata": {},
   "source": [
    "To handle the synapses of the cell we will make use of 'synapses' attribute of the cell object. E.g. all the synapse objects are stored in the synapse_list attribute. We can print the number of synapses on this neuron: "
   ]
  },
  {
   "cell_type": "code",
   "execution_count": 15,
   "metadata": {},
   "outputs": [
    {
     "name": "stdout",
     "output_type": "stream",
     "text": [
      "Number of synapses:  5267\n"
     ]
    }
   ],
   "source": [
    "print \"Number of synapses: \", len(list(cell.synapses.synapse_list))"
   ]
  },
  {
   "cell_type": "markdown",
   "metadata": {},
   "source": [
    "Similarly, all the neurons that are presynaptic to this cell are represented as a netstim object. A netstim is a NEURON mechanism that acts as a virtual cell. It can connect to a synapse and e.g. inject a poisson spike train into the synapse. All the presynaptic netstims are in the netstim_list:"
   ]
  },
  {
   "cell_type": "code",
   "execution_count": 16,
   "metadata": {},
   "outputs": [
    {
     "name": "stdout",
     "output_type": "stream",
     "text": [
      "Number of pre-synaptic cells:  920\n"
     ]
    }
   ],
   "source": [
    "print \"Number of pre-synaptic cells: \", len(list(cell.synapses.netstim_list))"
   ]
  },
  {
   "cell_type": "markdown",
   "metadata": {},
   "source": [
    "As you can see there are less presynaptic cells than synapses. This is because cells can project to several synapses on the postsynaptic cell at the same time (these are called a multisynaptic connections)."
   ]
  },
  {
   "cell_type": "markdown",
   "metadata": {},
   "source": [
    "The presynaptic connections are ordered according the morphological type (m-type) of the presynaptic cells.\n",
    "In the neocortical microcircuit model there are 55 m-types defined. A glossary of all the abreviations used in the m-types is available on the [NMC portal website](https://bbp.epfl.ch/nmc-portal/glossary).\n",
    "The model package we downloaded from the NMC portal has a file that maps every m-type to an integer:"
   ]
  },
  {
   "cell_type": "code",
   "execution_count": 17,
   "metadata": {},
   "outputs": [
    {
     "name": "stdout",
     "output_type": "stream",
     "text": [
      "integer\tm-type\n",
      "---------------\n",
      "0\tL1_DAC\n",
      "1\tL1_NGC-DA\n",
      "2\tL1_NGC-SA\n",
      "3\tL1_HAC\n",
      "4\tL1_DLAC\n",
      "5\tL1_SLAC\n",
      "6\tL23_PC\n",
      "7\tL23_MC\n",
      "8\tL23_BTC\n",
      "9\tL23_DBC\n",
      "10\tL23_BP\n",
      "11\tL23_NGC\n",
      "12\tL23_LBC\n",
      "13\tL23_NBC\n",
      "14\tL23_SBC\n",
      "15\tL23_ChC\n",
      "16\tL4_PC\n",
      "17\tL4_SP\n",
      "18\tL4_SS\n",
      "19\tL4_MC\n",
      "20\tL4_BTC\n",
      "21\tL4_DBC\n",
      "22\tL4_BP\n",
      "23\tL4_NGC\n",
      "24\tL4_LBC\n",
      "25\tL4_NBC\n",
      "26\tL4_SBC\n",
      "27\tL4_ChC\n",
      "28\tL5_TTPC1\n",
      "29\tL5_TTPC2\n",
      "30\tL5_UTPC\n",
      "31\tL5_STPC\n",
      "32\tL5_MC\n",
      "33\tL5_BTC\n",
      "34\tL5_DBC\n",
      "35\tL5_BP\n",
      "36\tL5_NGC\n",
      "37\tL5_LBC\n",
      "38\tL5_NBC\n",
      "39\tL5_SBC\n",
      "40\tL5_ChC\n",
      "41\tL6_TPC_L1\n",
      "42\tL6_TPC_L4\n",
      "43\tL6_UTPC\n",
      "44\tL6_IPC\n",
      "45\tL6_BPC\n",
      "46\tL6_MC\n",
      "47\tL6_BTC\n",
      "48\tL6_DBC\n",
      "49\tL6_BP\n",
      "50\tL6_NGC\n",
      "51\tL6_LBC\n",
      "52\tL6_NBC\n",
      "53\tL6_SBC\n",
      "54\tL6_ChC\n",
      "\n"
     ]
    }
   ],
   "source": [
    "with open('synapses/mtype_map.tsv') as mtype_map_file:\n",
    "    mtype_map_content = mtype_map_file.read()\n",
    "print 'integer\\tm-type'\n",
    "print '---------------'\n",
    "print mtype_map_content"
   ]
  },
  {
   "cell_type": "markdown",
   "metadata": {},
   "source": [
    "This map is very useful, because many lists in the model code are ordered according to m-type. So we will store this map in a dictionary for later use: "
   ]
  },
  {
   "cell_type": "code",
   "execution_count": 18,
   "metadata": {},
   "outputs": [
    {
     "name": "stdout",
     "output_type": "stream",
     "text": [
      "Integer for L23_PC: 6\n"
     ]
    }
   ],
   "source": [
    "mtype_map = {}\n",
    "for line in mtype_map_content.split('\\n')[:-1]:\n",
    "    n, mtype = line.split()\n",
    "    mtype_map[mtype] = int(n)\n",
    "    \n",
    "print 'Integer for L23_PC: %d' % mtype_map['L23_PC']\n"
   ]
  },
  {
   "cell_type": "markdown",
   "metadata": {},
   "source": [
    "Now we can e.g. enable all the synapses that are projected onto this cell from L23_PC (layer 2/3 pyramidal cell).\n",
    "The active_pre_mtypes is a NEURON [vector](https://www.neuron.yale.edu/neuron/static/docs/help/neuron/general/classes/vector/vect.html) (it uses the .x syntax to access the elements). The index of the vector is determined by the m-type map. When the value in the vector is 1 all the presynaptic neurons of a particular m-types are active (and inactive when it is 0)"
   ]
  },
  {
   "cell_type": "code",
   "execution_count": 19,
   "metadata": {
    "collapsed": true
   },
   "outputs": [],
   "source": [
    "def init_synapses(enabled_mtypes=[]):\n",
    "    enabled_mtype_ints = [mtype_map[mtype] for mtype in enabled_mtypes]\n",
    "    \n",
    "    for i in range(0, int(cell.synapses.n_of_mtypes)): # Loop over all the m-type\n",
    "        if i in enabled_mtype_ints: # Enable synapses\n",
    "            cell.synapses.were_active_pre_mtypes.x[i]= 0\n",
    "            cell.synapses.active_pre_mtypes.x[i] = 1        \n",
    "        else: # Disable synapses\n",
    "            cell.synapses.were_active_pre_mtypes.x[i]= 1\n",
    "            cell.synapses.active_pre_mtypes.x[i] = 0\n",
    "            \n",
    "    cell.synapses.update_synapses(nrn.h.synapse_plot); # Update the synapses\n",
    "\n",
    "init_synapses(enabled_mtypes=['L23_PC'])"
   ]
  },
  {
   "cell_type": "markdown",
   "metadata": {},
   "source": [
    "When now we run a simulation we see the voltage recorded in the soma \n",
    "of the postsynaptic cell when all the L23_PC presynaptic cells are firing a poisson spike train:"
   ]
  },
  {
   "cell_type": "code",
   "execution_count": 20,
   "metadata": {},
   "outputs": [
    {
     "data": {
      "image/png": "[encoded data removed]",
      "text/plain": [
       "<matplotlib.figure.Figure at 0x10f407410>"
      ]
     },
     "metadata": {},
     "output_type": "display_data"
    }
   ],
   "source": [
    "# Remove any previously defined stimulus\n",
    "if 'stimulus' in locals():\n",
    "    del stimulus\n",
    "\n",
    "def run_plot():\n",
    "    nrn.h.tstop = 600\n",
    "    nrn.h.dt = 0.05\n",
    "\n",
    "    nrn.h.run()\n",
    "    nrn.h.save_recording()\n",
    "\n",
    "    plot_tv(time, voltage)\n",
    "    \n",
    "run_plot()"
   ]
  },
  {
   "cell_type": "markdown",
   "metadata": {},
   "source": [
    "As you can see the cell is not very active. Let's activate all the Layer 5 Thick Tufted Pyramidal cell connections instead:"
   ]
  },
  {
   "cell_type": "code",
   "execution_count": 21,
   "metadata": {},
   "outputs": [
    {
     "data": {
      "image/png": "[encoded data removed]",
      "text/plain": [
       "<matplotlib.figure.Figure at 0x10f555d10>"
      ]
     },
     "metadata": {},
     "output_type": "display_data"
    }
   ],
   "source": [
    "init_synapses(enabled_mtypes=['L5_TTPC2'])\n",
    "run_plot()"
   ]
  },
  {
   "cell_type": "markdown",
   "metadata": {},
   "source": [
    "We can also counteract the spiking by e.g. activating some inhibitory interneurons together with the excitatory input"
   ]
  },
  {
   "cell_type": "code",
   "execution_count": 22,
   "metadata": {},
   "outputs": [
    {
     "data": {
      "image/png": "[encoded data removed]",
      "text/plain": [
       "<matplotlib.figure.Figure at 0x10f64e710>"
      ]
     },
     "metadata": {},
     "output_type": "display_data"
    }
   ],
   "source": [
    "init_synapses(enabled_mtypes=['L23_PC', 'L23_MC', 'L23_BTC', 'L23_LBC', 'L23_SBC', 'L23_DBC'])\n",
    "run_plot()"
   ]
  },
  {
   "cell_type": "markdown",
   "metadata": {},
   "source": [
    "One can also influence parameters of e.g. the poisson processes that are creating the spike timings of the presynaptic cells. This is done by manipulating the attributes of the [Netstim](https://www.neuron.yale.edu/neuron/static/docs/help/neuron/neuron/mech.html#NetStim) objects."
   ]
  },
  {
   "cell_type": "code",
   "execution_count": 23,
   "metadata": {},
   "outputs": [
    {
     "data": {
      "image/png": "[encoded data removed]",
      "text/plain": [
       "<matplotlib.figure.Figure at 0x10f767710>"
      ]
     },
     "metadata": {},
     "output_type": "display_data"
    }
   ],
   "source": [
    "init_synapses(enabled_mtypes=['L5_TTPC2'])\n",
    "\n",
    "pre_mtype_netstims = list(cell.synapses.pre_mtype_netstimlists)\n",
    "\n",
    "for netstims in pre_mtype_netstims:\n",
    "    for netstim in netstims: \n",
    "        netstim.interval = 10000 # ms, Average interval between spikes in the Poisson process   \n",
    "\n",
    "run_plot()"
   ]
  }
 ],
 "metadata": {
  "kernelspec": {
   "display_name": "Python 2",
   "language": "python",
   "name": "python2"
  },
  "language_info": {
   "codemirror_mode": {
    "name": "ipython",
    "version": 2
   },
   "file_extension": ".py",
   "mimetype": "text/x-python",
   "name": "python",
   "nbconvert_exporter": "python",
   "pygments_lexer": "ipython2",
   "version": "2.7.13"
  }
 },
 "nbformat": 4,
 "nbformat_minor": 2
}
