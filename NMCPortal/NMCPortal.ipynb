{
 "cells": [
  {
   "cell_type": "markdown",
   "metadata": {},
   "source": [
    "# Tutorial: The Neocortical Microcircuit Collaboration Portal"
   ]
  },
  {
   "cell_type": "markdown",
   "metadata": {},
   "source": [
    "Copyright © 2005-2021 Blue Brain Project/EPFL. This notebook is under a [LGPLv3](https://raw.githubusercontent.com/BlueBrain/MOOC-neurons-and-synapses-2017/master/LICENSE.txt) license."
   ]
  },
  {
   "cell_type": "markdown",
   "metadata": {},
   "source": [
    "The Neocortical Microcircuit Collaboration Portal (NMC Portal, at [https://bbp.epfl.ch/nmc-portal](https://bbp.epfl.ch/nmc-portal)) provides an online public resource of the Blue Brain Project's first release of a digital reconstruction of the microcircuitry of juvenile Rat somatosensory cortex, access to experimental data sets used in the reconstruction, and the resulting single cell models.\n",
    "\n",
    "![NMC Portal web page](https://bbp.epfl.ch/public/SimNeuroMOOC/images/NMCPortal/NMCWeb.png)\n",
    "\n",
    "In this tutorial we will focus on working with the electrical models of single neurons one can download from the NMC portal."
   ]
  },
  {
   "cell_type": "markdown",
   "metadata": {},
   "source": [
    "Let's begin with importing useful Python packages"
   ]
  },
  {
   "cell_type": "code",
   "execution_count": 1,
   "metadata": {},
   "outputs": [],
   "source": [
    "%matplotlib inline\n",
    "import matplotlib.pyplot as pyplot\n",
    "\n",
    "import os\n",
    "import zipfile # Extract zip files\n",
    "import urllib # Download files from the web\n",
    "import neurom # Analyse / view morphologies\n",
    "import neurom.viewer"
   ]
  },
  {
   "cell_type": "markdown",
   "metadata": {},
   "source": [
    "## Downloading the model"
   ]
  },
  {
   "cell_type": "markdown",
   "metadata": {},
   "source": [
    "We can [select](https://bbp.epfl.ch/nmc-portal/microcircuit.html#/metype/L5_TTPC2_cADpyr/details) a model from the NMC Portal, and download the zip file containing the code of the model. Let us download a Neocortical Layer 5 Thick Tufted Pyramidal cell model:"
   ]
  },
  {
   "cell_type": "code",
   "execution_count": 2,
   "metadata": {},
   "outputs": [],
   "source": [
    "urllib.request.urlretrieve('https://bbp.epfl.ch/nmc-portal/assets/documents/static/downloads-zip/L5_TTPC2_cADpyr232_1.zip','L5_TTPC2_cADpyr232_1.zip');"
   ]
  },
  {
   "cell_type": "markdown",
   "metadata": {},
   "source": [
    "Then we extract this zip file on disk:"
   ]
  },
  {
   "cell_type": "code",
   "execution_count": 3,
   "metadata": {},
   "outputs": [],
   "source": [
    "import os, zipfile\n",
    "with zipfile.ZipFile('L5_TTPC2_cADpyr232_1.zip', 'r') as zip_file:\n",
    "    zip_file.extractall('.')"
   ]
  },
  {
   "cell_type": "markdown",
   "metadata": {},
   "source": [
    "Now we change directory to the model dir. (**Be careful**, once this line is executed don't execute the lines above because it will create nested subdirectories)"
   ]
  },
  {
   "cell_type": "code",
   "execution_count": 4,
   "metadata": {},
   "outputs": [],
   "source": [
    "os.chdir('L5_TTPC2_cADpyr232_1')"
   ]
  },
  {
   "cell_type": "markdown",
   "metadata": {},
   "source": [
    "The model contains MOD files describing the NEURON simulator mechanisms used in the model. As we have seen in another tutorial, one can compile these files using the 'nrnivmodl' command:"
   ]
  },
  {
   "cell_type": "code",
   "execution_count": 5,
   "metadata": {},
   "outputs": [
    {
     "name": "stdout",
     "output_type": "stream",
     "text": [
      "/home/MOOC_I_2021/NMCPortal/L5_TTPC2_cADpyr232_1\n",
      "Mod files: \"mechanisms/CaDynamics_E2.mod\" \"mechanisms/Ca_HVA.mod\" \"mechanisms/Ca_LVAst.mod\" \"mechanisms/Ih.mod\" \"mechanisms/Im.mod\" \"mechanisms/K_Pst.mod\" \"mechanisms/K_Tst.mod\" \"mechanisms/NaTa_t.mod\" \"mechanisms/NaTs2_t.mod\" \"mechanisms/Nap_Et2.mod\" \"mechanisms/ProbAMPANMDA_EMS.mod\" \"mechanisms/ProbGABAAB_EMS.mod\" \"mechanisms/SK_E2.mod\" \"mechanisms/SKv3_1.mod\"\n",
      "\n",
      "Creating x86_64 directory for .o files.\n",
      "\n",
      "COBJS=''\n",
      " -> \u001b[32mCompiling\u001b[0m mod_func.c\n",
      "x86_64-linux-gnu-gcc -O2   -I.   -I/usr/local/lib/python3.8/dist-packages/neuron/.data/include  -I/nrnwheel/openmpi/include -fPIC -c mod_func.c -o mod_func.o\n",
      " -> \u001b[32mNMODL\u001b[0m ../mechanisms/Ca_HVA.mod\n",
      " -> \u001b[32mNMODL\u001b[0m ../mechanisms/CaDynamics_E2.mod\n",
      "(cd \"../mechanisms\"; MODLUNIT=/usr/local/lib/python3.8/dist-packages/neuron/.data/share/nrn/lib/nrnunits.lib /usr/local/lib/python3.8/dist-packages/neuron/.data/bin/nocmodl CaDynamics_E2.mod -o \"/home/MOOC_I_2021/NMCPortal/L5_TTPC2_cADpyr232_1/x86_64\")\n",
      " -> \u001b[32mNMODL\u001b[0m ../mechanisms/Ca_LVAst.mod\n",
      "(cd \"../mechanisms\"; MODLUNIT=/usr/local/lib/python3.8/dist-packages/neuron/.data/share/nrn/lib/nrnunits.lib /usr/local/lib/python3.8/dist-packages/neuron/.data/bin/nocmodl Ca_HVA.mod -o \"/home/MOOC_I_2021/NMCPortal/L5_TTPC2_cADpyr232_1/x86_64\")\n",
      "(cd \"../mechanisms\"; MODLUNIT=/usr/local/lib/python3.8/dist-packages/neuron/.data/share/nrn/lib/nrnunits.lib /usr/local/lib/python3.8/dist-packages/neuron/.data/bin/nocmodl Ca_LVAst.mod -o \"/home/MOOC_I_2021/NMCPortal/L5_TTPC2_cADpyr232_1/x86_64\")\n",
      "Translating Ca_HVA.mod into /home/MOOC_I_2021/NMCPortal/L5_TTPC2_cADpyr232_1/x86_64/Ca_HVA.c\n",
      "Translating Ca_LVAst.mod into /home/MOOC_I_2021/NMCPortal/L5_TTPC2_cADpyr232_1/x86_64/Ca_LVAst.c\n",
      "Translating CaDynamics_E2.mod into /home/MOOC_I_2021/NMCPortal/L5_TTPC2_cADpyr232_1/x86_64/CaDynamics_E2.c\n",
      "Thread Safe\n",
      " -> \u001b[32mNMODL\u001b[0m ../mechanisms/Ih.mod\n",
      "(cd \"../mechanisms\"; MODLUNIT=/usr/local/lib/python3.8/dist-packages/neuron/.data/share/nrn/lib/nrnunits.lib /usr/local/lib/python3.8/dist-packages/neuron/.data/bin/nocmodl Ih.mod -o \"/home/MOOC_I_2021/NMCPortal/L5_TTPC2_cADpyr232_1/x86_64\")\n",
      "Translating Ih.mod into /home/MOOC_I_2021/NMCPortal/L5_TTPC2_cADpyr232_1/x86_64/Ih.c\n",
      "Thread Safe\n",
      "Thread Safe\n",
      " -> \u001b[32mNMODL\u001b[0m ../mechanisms/Im.mod\n",
      "(cd \"../mechanisms\"; MODLUNIT=/usr/local/lib/python3.8/dist-packages/neuron/.data/share/nrn/lib/nrnunits.lib /usr/local/lib/python3.8/dist-packages/neuron/.data/bin/nocmodl Im.mod -o \"/home/MOOC_I_2021/NMCPortal/L5_TTPC2_cADpyr232_1/x86_64\")\n",
      " -> \u001b[32mNMODL\u001b[0m ../mechanisms/K_Pst.mod\n",
      "(cd \"../mechanisms\"; MODLUNIT=/usr/local/lib/python3.8/dist-packages/neuron/.data/share/nrn/lib/nrnunits.lib /usr/local/lib/python3.8/dist-packages/neuron/.data/bin/nocmodl K_Pst.mod -o \"/home/MOOC_I_2021/NMCPortal/L5_TTPC2_cADpyr232_1/x86_64\")\n",
      "Translating K_Pst.mod into /home/MOOC_I_2021/NMCPortal/L5_TTPC2_cADpyr232_1/x86_64/K_Pst.c\n",
      "Translating Im.mod into /home/MOOC_I_2021/NMCPortal/L5_TTPC2_cADpyr232_1/x86_64/Im.c\n",
      "Thread Safe\n",
      " -> \u001b[32mNMODL\u001b[0m ../mechanisms/K_Tst.mod\n",
      "(cd \"../mechanisms\"; MODLUNIT=/usr/local/lib/python3.8/dist-packages/neuron/.data/share/nrn/lib/nrnunits.lib /usr/local/lib/python3.8/dist-packages/neuron/.data/bin/nocmodl K_Tst.mod -o \"/home/MOOC_I_2021/NMCPortal/L5_TTPC2_cADpyr232_1/x86_64\")\n",
      "Thread Safe\n",
      "Thread Safe\n",
      "Translating K_Tst.mod into /home/MOOC_I_2021/NMCPortal/L5_TTPC2_cADpyr232_1/x86_64/K_Tst.c\n",
      " -> \u001b[32mNMODL\u001b[0m ../mechanisms/NaTa_t.mod\n",
      "(cd \"../mechanisms\"; MODLUNIT=/usr/local/lib/python3.8/dist-packages/neuron/.data/share/nrn/lib/nrnunits.lib /usr/local/lib/python3.8/dist-packages/neuron/.data/bin/nocmodl NaTa_t.mod -o \"/home/MOOC_I_2021/NMCPortal/L5_TTPC2_cADpyr232_1/x86_64\")\n",
      " -> \u001b[32mNMODL\u001b[0m ../mechanisms/NaTs2_t.mod\n",
      "(cd \"../mechanisms\"; MODLUNIT=/usr/local/lib/python3.8/dist-packages/neuron/.data/share/nrn/lib/nrnunits.lib /usr/local/lib/python3.8/dist-packages/neuron/.data/bin/nocmodl NaTs2_t.mod -o \"/home/MOOC_I_2021/NMCPortal/L5_TTPC2_cADpyr232_1/x86_64\")\n",
      "Translating NaTa_t.mod into /home/MOOC_I_2021/NMCPortal/L5_TTPC2_cADpyr232_1/x86_64/NaTa_t.c\n",
      "Translating NaTs2_t.mod into /home/MOOC_I_2021/NMCPortal/L5_TTPC2_cADpyr232_1/x86_64/NaTs2_t.c\n",
      "Thread Safe\n",
      " -> \u001b[32mNMODL\u001b[0m ../mechanisms/Nap_Et2.mod\n",
      "(cd \"../mechanisms\"; MODLUNIT=/usr/local/lib/python3.8/dist-packages/neuron/.data/share/nrn/lib/nrnunits.lib /usr/local/lib/python3.8/dist-packages/neuron/.data/bin/nocmodl Nap_Et2.mod -o \"/home/MOOC_I_2021/NMCPortal/L5_TTPC2_cADpyr232_1/x86_64\")\n",
      "Translating Nap_Et2.mod into /home/MOOC_I_2021/NMCPortal/L5_TTPC2_cADpyr232_1/x86_64/Nap_Et2.c\n",
      "Thread Safe\n",
      "Thread Safe\n",
      " -> \u001b[32mNMODL\u001b[0m ../mechanisms/ProbAMPANMDA_EMS.mod\n",
      "(cd \"../mechanisms\"; MODLUNIT=/usr/local/lib/python3.8/dist-packages/neuron/.data/share/nrn/lib/nrnunits.lib /usr/local/lib/python3.8/dist-packages/neuron/.data/bin/nocmodl ProbAMPANMDA_EMS.mod -o \"/home/MOOC_I_2021/NMCPortal/L5_TTPC2_cADpyr232_1/x86_64\")\n",
      " -> \u001b[32mNMODL\u001b[0m ../mechanisms/ProbGABAAB_EMS.mod\n",
      "(cd \"../mechanisms\"; MODLUNIT=/usr/local/lib/python3.8/dist-packages/neuron/.data/share/nrn/lib/nrnunits.lib /usr/local/lib/python3.8/dist-packages/neuron/.data/bin/nocmodl ProbGABAAB_EMS.mod -o \"/home/MOOC_I_2021/NMCPortal/L5_TTPC2_cADpyr232_1/x86_64\")\n",
      "Translating ProbAMPANMDA_EMS.mod into /home/MOOC_I_2021/NMCPortal/L5_TTPC2_cADpyr232_1/x86_64/ProbAMPANMDA_EMS.c\n",
      "Translating ProbGABAAB_EMS.mod into /home/MOOC_I_2021/NMCPortal/L5_TTPC2_cADpyr232_1/x86_64/ProbGABAAB_EMS.c\n",
      "Notice: This mechanism cannot be used with CVODE\n",
      "Notice: A_AMPA discontinuity adjustment not available.\n",
      "Notice: B_AMPA discontinuity adjustment not available.\n",
      "Notice: A_NMDA discontinuity adjustment not available.\n",
      "Notice: B_NMDA discontinuity adjustment not available.\n",
      "Warning: dt undefined. (declared within VERBATIM?)\n",
      "Warning: value undefined. (declared within VERBATIM?)\n",
      "Notice: This mechanism cannot be used with CVODE\n",
      "Notice: A_GABAA discontinuity adjustment not available.\n",
      "Notice: B_GABAA discontinuity adjustment not available.\n",
      "Notice: A_GABAB discontinuity adjustment not available.\n",
      "Notice: B_GABAB discontinuity adjustment not available.\n",
      "Warning: dt undefined. (declared within VERBATIM?)\n",
      "Warning: value undefined. (declared within VERBATIM?)\n",
      "Thread Safe\n",
      " -> \u001b[32mNMODL\u001b[0m ../mechanisms/SK_E2.mod\n",
      "(cd \"../mechanisms\"; MODLUNIT=/usr/local/lib/python3.8/dist-packages/neuron/.data/share/nrn/lib/nrnunits.lib /usr/local/lib/python3.8/dist-packages/neuron/.data/bin/nocmodl SK_E2.mod -o \"/home/MOOC_I_2021/NMCPortal/L5_TTPC2_cADpyr232_1/x86_64\")\n",
      "Translating SK_E2.mod into /home/MOOC_I_2021/NMCPortal/L5_TTPC2_cADpyr232_1/x86_64/SK_E2.c\n",
      "Thread Safe\n",
      "Thread Safe\n",
      " -> \u001b[32mNMODL\u001b[0m ../mechanisms/SKv3_1.mod\n",
      "(cd \"../mechanisms\"; MODLUNIT=/usr/local/lib/python3.8/dist-packages/neuron/.data/share/nrn/lib/nrnunits.lib /usr/local/lib/python3.8/dist-packages/neuron/.data/bin/nocmodl SKv3_1.mod -o \"/home/MOOC_I_2021/NMCPortal/L5_TTPC2_cADpyr232_1/x86_64\")\n",
      "Translating SKv3_1.mod into /home/MOOC_I_2021/NMCPortal/L5_TTPC2_cADpyr232_1/x86_64/SKv3_1.c\n",
      "Thread Safe\n",
      " -> \u001b[32mCompiling\u001b[0m CaDynamics_E2.c\n",
      " -> \u001b[32mCompiling\u001b[0m Ca_HVA.c\n",
      "x86_64-linux-gnu-gcc -O2   -I\"../mechanisms\" -I.   -I/usr/local/lib/python3.8/dist-packages/neuron/.data/include  -I/nrnwheel/openmpi/include -fPIC -c CaDynamics_E2.c -o CaDynamics_E2.o\n",
      "x86_64-linux-gnu-gcc -O2   -I\"../mechanisms\" -I.   -I/usr/local/lib/python3.8/dist-packages/neuron/.data/include  -I/nrnwheel/openmpi/include -fPIC -c Ca_HVA.c -o Ca_HVA.o\n",
      "Thread Safe\n",
      " -> \u001b[32mCompiling\u001b[0m Ca_LVAst.c\n",
      "x86_64-linux-gnu-gcc -O2   -I\"../mechanisms\" -I.   -I/usr/local/lib/python3.8/dist-packages/neuron/.data/include  -I/nrnwheel/openmpi/include -fPIC -c Ca_LVAst.c -o Ca_LVAst.o\n",
      " -> \u001b[32mCompiling\u001b[0m Ih.c\n",
      "x86_64-linux-gnu-gcc -O2   -I\"../mechanisms\" -I.   -I/usr/local/lib/python3.8/dist-packages/neuron/.data/include  -I/nrnwheel/openmpi/include -fPIC -c Ih.c -o Ih.o\n",
      " -> \u001b[32mCompiling\u001b[0m Im.c\n",
      "x86_64-linux-gnu-gcc -O2   -I\"../mechanisms\" -I.   -I/usr/local/lib/python3.8/dist-packages/neuron/.data/include  -I/nrnwheel/openmpi/include -fPIC -c Im.c -o Im.o\n",
      " -> \u001b[32mCompiling\u001b[0m K_Pst.c\n",
      "x86_64-linux-gnu-gcc -O2   -I\"../mechanisms\" -I.   -I/usr/local/lib/python3.8/dist-packages/neuron/.data/include  -I/nrnwheel/openmpi/include -fPIC -c K_Pst.c -o K_Pst.o\n",
      " -> \u001b[32mCompiling\u001b[0m K_Tst.c\n",
      "x86_64-linux-gnu-gcc -O2   -I\"../mechanisms\" -I.   -I/usr/local/lib/python3.8/dist-packages/neuron/.data/include  -I/nrnwheel/openmpi/include -fPIC -c K_Tst.c -o K_Tst.o\n",
      " -> \u001b[32mCompiling\u001b[0m NaTa_t.c\n",
      "x86_64-linux-gnu-gcc -O2   -I\"../mechanisms\" -I.   -I/usr/local/lib/python3.8/dist-packages/neuron/.data/include  -I/nrnwheel/openmpi/include -fPIC -c NaTa_t.c -o NaTa_t.o\n",
      " -> \u001b[32mCompiling\u001b[0m NaTs2_t.c\n",
      "x86_64-linux-gnu-gcc -O2   -I\"../mechanisms\" -I.   -I/usr/local/lib/python3.8/dist-packages/neuron/.data/include  -I/nrnwheel/openmpi/include -fPIC -c NaTs2_t.c -o NaTs2_t.o\n",
      " -> \u001b[32mCompiling\u001b[0m Nap_Et2.c\n",
      "x86_64-linux-gnu-gcc -O2   -I\"../mechanisms\" -I.   -I/usr/local/lib/python3.8/dist-packages/neuron/.data/include  -I/nrnwheel/openmpi/include -fPIC -c Nap_Et2.c -o Nap_Et2.o\n",
      " -> \u001b[32mCompiling\u001b[0m ProbAMPANMDA_EMS.c\n",
      "x86_64-linux-gnu-gcc -O2   -I\"../mechanisms\" -I.   -I/usr/local/lib/python3.8/dist-packages/neuron/.data/include  -I/nrnwheel/openmpi/include -fPIC -c ProbAMPANMDA_EMS.c -o ProbAMPANMDA_EMS.o\n",
      " -> \u001b[32mCompiling\u001b[0m ProbGABAAB_EMS.c\n",
      "x86_64-linux-gnu-gcc -O2   -I\"../mechanisms\" -I.   -I/usr/local/lib/python3.8/dist-packages/neuron/.data/include  -I/nrnwheel/openmpi/include -fPIC -c ProbGABAAB_EMS.c -o ProbGABAAB_EMS.o\n",
      " -> \u001b[32mCompiling\u001b[0m SK_E2.c\n",
      "x86_64-linux-gnu-gcc -O2   -I\"../mechanisms\" -I.   -I/usr/local/lib/python3.8/dist-packages/neuron/.data/include  -I/nrnwheel/openmpi/include -fPIC -c SK_E2.c -o SK_E2.o\n",
      " -> \u001b[32mCompiling\u001b[0m SKv3_1.c\n",
      "x86_64-linux-gnu-gcc -O2   -I\"../mechanisms\" -I.   -I/usr/local/lib/python3.8/dist-packages/neuron/.data/include  -I/nrnwheel/openmpi/include -fPIC -c SKv3_1.c -o SKv3_1.o\n",
      " => \u001b[32mLINKING\u001b[0m shared library ./libnrnmech.so\n",
      "x86_64-linux-gnu-g++ -O2 -DVERSION_INFO='8.0.0' -std=c++11 -shared -fPIC  -I /usr/local/lib/python3.8/dist-packages/neuron/.data/include -o ./libnrnmech.so -Wl,-soname,libnrnmech.so \\\n",
      "  ./mod_func.o ./CaDynamics_E2.o ./Ca_HVA.o ./Ca_LVAst.o ./Ih.o ./Im.o ./K_Pst.o ./K_Tst.o ./NaTa_t.o ./NaTs2_t.o ./Nap_Et2.o ./ProbAMPANMDA_EMS.o ./ProbGABAAB_EMS.o ./SK_E2.o ./SKv3_1.o  -L/usr/local/lib/python3.8/dist-packages/neuron/.data/lib -lnrniv -Wl,-rpath,/usr/local/lib/python3.8/dist-packages/neuron/.data/lib   \n",
      "rm -f ./.libs/libnrnmech.so ; mkdir -p ./.libs ; cp ./libnrnmech.so ./.libs/libnrnmech.so\n",
      "Successfully created x86_64/special\n"
     ]
    }
   ],
   "source": [
    "!nrnivmodl mechanisms"
   ]
  },
  {
   "cell_type": "markdown",
   "metadata": {},
   "source": [
    "## Visualizing the morphology"
   ]
  },
  {
   "cell_type": "markdown",
   "metadata": {},
   "source": [
    "The morphology of the cell is located in the 'morphology' subdirectory. \n",
    "We can visualize this morphology using NeuroM:"
   ]
  },
  {
   "cell_type": "code",
   "execution_count": 6,
   "metadata": {},
   "outputs": [
    {
     "data": {
      "image/png": "[encoded data removed]",
      "text/plain": [
       "<Figure size 432x288 with 1 Axes>"
      ]
     },
     "metadata": {
      "needs_background": "light"
     },
     "output_type": "display_data"
    }
   ],
   "source": [
    "neurom.viewer.draw(neurom.load_neuron('morphology/dend-C060114A7_axon-C060116A3_-_Clone_2.asc'));"
   ]
  },
  {
   "cell_type": "markdown",
   "metadata": {},
   "source": [
    "## Initializing the model"
   ]
  },
  {
   "cell_type": "markdown",
   "metadata": {},
   "source": [
    "To load the functionality of the electrical model we load the 'init.hoc' HOC file."
   ]
  },
  {
   "cell_type": "code",
   "execution_count": 7,
   "metadata": {
    "scrolled": true
   },
   "outputs": [],
   "source": [
    "%%capture\n",
    "import neuron as nrn # NEURON simulator\n",
    "nrn.h.load_file(\"./init.hoc\")"
   ]
  },
  {
   "cell_type": "markdown",
   "metadata": {},
   "source": [
    "The init.hoc has created a function 'create_cell' to instantiate the neuron in the NEURON simulator. As argument it takes a value to enable/disable the synapses of the cell. (1=True, 0=False)"
   ]
  },
  {
   "cell_type": "code",
   "execution_count": 8,
   "metadata": {},
   "outputs": [],
   "source": [
    "%%capture\n",
    "nrn.h.create_cell(1) # argument 1 stands for 'load synapses'"
   ]
  },
  {
   "cell_type": "markdown",
   "metadata": {},
   "source": [
    "After this function has been called the global name space of the NEURON simulator contains a variable 'cell'. \n",
    "Let's create a python variable to point to this object and for the soma:"
   ]
  },
  {
   "cell_type": "code",
   "execution_count": 9,
   "metadata": {},
   "outputs": [],
   "source": [
    "cell = nrn.h.cell\n",
    "soma = cell.soma[0]"
   ]
  },
  {
   "cell_type": "markdown",
   "metadata": {},
   "source": [
    "## Injecting a step current"
   ]
  },
  {
   "cell_type": "markdown",
   "metadata": {},
   "source": [
    "Now that we have a pointer to the soma of the neuron, we can inject a current into it. As we've learned in another tutorial, we can create an IClamp to inject the current:"
   ]
  },
  {
   "cell_type": "code",
   "execution_count": 10,
   "metadata": {},
   "outputs": [],
   "source": [
    "# Mention source of amplitude\n",
    "stimulus = nrn.h.IClamp(0.5, sec=soma)\n",
    "stimulus.dur = 400 # ms\n",
    "stimulus.delay = 100  # ms     \n",
    "stimulus.amp = 0.691907 # nA"
   ]
  },
  {
   "cell_type": "markdown",
   "metadata": {},
   "source": [
    "The current amplitude is exactly the value used to generate the trace for the highest step current on the [model page](https://bbp.epfl.ch/nmc-portal/microcircuit.html#/metype/L5_TTPC2_cADpyr/details).\n",
    "The values to recreate the three traces can be retrieved from a file in the model package:"
   ]
  },
  {
   "cell_type": "code",
   "execution_count": 11,
   "metadata": {},
   "outputs": [
    {
     "name": "stdout",
     "output_type": "stream",
     "text": [
      "File content:  -0.286011 0.5930628 0.6424847 0.6919066\n",
      "\n",
      "Holding current: -0.286011 nA\n",
      "Step 1: 0.593063 nA\n",
      "Step 2: 0.642485 nA\n",
      "Step 3: 0.691907 nA\n"
     ]
    }
   ],
   "source": [
    "with open('current_amps.dat') as current_file:\n",
    "    current_content = current_file.read()\n",
    "\n",
    "print('File content: ', current_content)\n",
    "holding_current, step1_current, step2_current, step3_current = [float(x) for x in current_content.split()]\n",
    "\n",
    "print('')\n",
    "print('Holding current: %f nA' % holding_current)\n",
    "print('Step 1: %f nA' % step1_current)\n",
    "print('Step 2: %f nA' % step2_current)\n",
    "print('Step 3: %f nA' % step3_current)"
   ]
  },
  {
   "cell_type": "markdown",
   "metadata": {},
   "source": [
    "The 'holding current' is current the experimentalists inject during the entire recording to hold the neuron at a predefined voltage before the actual stimulus is applied."
   ]
  },
  {
   "cell_type": "markdown",
   "metadata": {},
   "source": [
    "The init.hoc also has provided us with a function to enable the recording of the voltage:"
   ]
  },
  {
   "cell_type": "code",
   "execution_count": 12,
   "metadata": {},
   "outputs": [],
   "source": [
    "nrn.h.create_recording();    #activate recording of activity "
   ]
  },
  {
   "cell_type": "markdown",
   "metadata": {},
   "source": [
    "Now we can run the simulation:"
   ]
  },
  {
   "cell_type": "code",
   "execution_count": null,
   "metadata": {},
   "outputs": [],
   "source": [
    "nrn.h.tstop = 600 # ms\n",
    "nrn.h.dt = 0.05 # \n",
    "nrn.h.run();\n",
    "\n",
    "nrn.h.save_recording();"
   ]
  },
  {
   "cell_type": "markdown",
   "metadata": {},
   "source": [
    "And plot the time/voltage:"
   ]
  },
  {
   "cell_type": "code",
   "execution_count": null,
   "metadata": {},
   "outputs": [],
   "source": [
    "time = nrn.h.time\n",
    "voltage = nrn.h.voltage\n",
    "\n",
    "def plot_tv(time_array, voltage_array, label=None, constants=[]):\n",
    "    import matplotlib.pyplot as plt\n",
    "    import numpy\n",
    "    plt.plot(time_array, voltage_array, label=label)\n",
    "    for constant in constants:\n",
    "        plt.plot(time_array, constant*numpy.ones(len(time_array)))\n",
    "    plt.xlabel('Time (ms)')\n",
    "    plt.ylabel('Membrane voltage (mV)')\n",
    "    \n",
    "\n",
    "plot_tv(time, voltage);"
   ]
  },
  {
   "cell_type": "markdown",
   "metadata": {},
   "source": [
    "## Exercise\n",
    "\n",
    "To reduce the simulation time, the simulation ends at 600 ms. \n",
    "Try to replicate the exact traces on the NMC portal.\n",
    "The trace shown on the portal is the result of a 3000 ms simulation. The stimulus starts at 700 ms, and last for 2000 ms. Create two iclamps and inject a holding current for the full duration of the simulation, and step current for 2000 ms. Used the amplitudes retrieved from the current_amps.dat file."
   ]
  },
  {
   "cell_type": "markdown",
   "metadata": {},
   "source": [
    "## Activating synapses"
   ]
  },
  {
   "cell_type": "markdown",
   "metadata": {},
   "source": [
    "To handle the synapses of the cell we will make use of 'synapses' attribute of the cell object. E.g. all the synapse objects are stored in the synapse_list attribute. We can print the number of synapses on this neuron: "
   ]
  },
  {
   "cell_type": "code",
   "execution_count": null,
   "metadata": {},
   "outputs": [],
   "source": [
    "print(\"Number of synapses: \", len(list(cell.synapses.synapse_list)))"
   ]
  },
  {
   "cell_type": "markdown",
   "metadata": {},
   "source": [
    "Similarly, all the neurons that are presynaptic to this cell are represented as a netstim object. A netstim is a NEURON mechanism that acts as a virtual cell. It can connect to a synapse and e.g. inject a poisson spike train into the synapse. All the presynaptic netstims are in the netstim_list:"
   ]
  },
  {
   "cell_type": "code",
   "execution_count": null,
   "metadata": {},
   "outputs": [],
   "source": [
    "print(\"Number of pre-synaptic cells: \", len(list(cell.synapses.netstim_list)))"
   ]
  },
  {
   "cell_type": "markdown",
   "metadata": {},
   "source": [
    "As you can see there are less presynaptic cells than synapses. This is because cells can project to several synapses on the postsynaptic cell at the same time (these are called a multisynaptic connections)."
   ]
  },
  {
   "cell_type": "markdown",
   "metadata": {},
   "source": [
    "The presynaptic connections are ordered according the morphological type (m-type) of the presynaptic cells.\n",
    "In the neocortical microcircuit model there are 55 m-types defined. A glossary of all the abreviations used in the m-types is available on the [NMC portal website](https://bbp.epfl.ch/nmc-portal/glossary.html).\n",
    "The model package we downloaded from the NMC portal has a file that maps every m-type to an integer:"
   ]
  },
  {
   "cell_type": "code",
   "execution_count": null,
   "metadata": {},
   "outputs": [],
   "source": [
    "with open('synapses/mtype_map.tsv') as mtype_map_file:\n",
    "    mtype_map_content = mtype_map_file.read()\n",
    "print('integer\\tm-type')\n",
    "print('---------------')\n",
    "print(mtype_map_content)"
   ]
  },
  {
   "cell_type": "markdown",
   "metadata": {},
   "source": [
    "This map is very useful, because many lists in the model code are ordered according to m-type. So we will store this map in a dictionary for later use: "
   ]
  },
  {
   "cell_type": "code",
   "execution_count": null,
   "metadata": {},
   "outputs": [],
   "source": [
    "mtype_map = {}\n",
    "for line in mtype_map_content.split('\\n')[:-1]:\n",
    "    n, mtype = line.split()\n",
    "    mtype_map[mtype] = int(n)\n",
    "    \n",
    "print('Integer for L23_PC: %d' % mtype_map['L23_PC'])"
   ]
  },
  {
   "cell_type": "markdown",
   "metadata": {},
   "source": [
    "Now we can e.g. enable all the synapses that are projected onto this cell from L23_PC (layer 2/3 pyramidal cell).\n",
    "The active_pre_mtypes is a NEURON [vector](https://www.neuron.yale.edu/neuron/static/docs/help/neuron/general/classes/vector/vect.html) (it uses the .x syntax to access the elements). The index of the vector is determined by the m-type map. When the value in the vector is 1 all the presynaptic neurons of a particular m-types are active (and inactive when it is 0)"
   ]
  },
  {
   "cell_type": "code",
   "execution_count": null,
   "metadata": {},
   "outputs": [],
   "source": [
    "def init_synapses(enabled_mtypes=[]):\n",
    "    enabled_mtype_ints = [mtype_map[mtype] for mtype in enabled_mtypes]\n",
    "    \n",
    "    for i in range(0, int(cell.synapses.n_of_mtypes)): # Loop over all the m-type\n",
    "        if i in enabled_mtype_ints: # Enable synapses\n",
    "            cell.synapses.were_active_pre_mtypes.x[i]= 0\n",
    "            cell.synapses.active_pre_mtypes.x[i] = 1        \n",
    "        else: # Disable synapses\n",
    "            cell.synapses.were_active_pre_mtypes.x[i]= 1\n",
    "            cell.synapses.active_pre_mtypes.x[i] = 0\n",
    "            \n",
    "    cell.synapses.update_synapses(nrn.h.synapse_plot); # Update the synapses\n",
    "\n",
    "init_synapses(enabled_mtypes=['L23_PC'])"
   ]
  },
  {
   "cell_type": "markdown",
   "metadata": {},
   "source": [
    "When now we run a simulation we see the voltage recorded in the soma \n",
    "of the postsynaptic cell when all the L23_PC presynaptic cells are firing a poisson spike train:"
   ]
  },
  {
   "cell_type": "code",
   "execution_count": null,
   "metadata": {},
   "outputs": [],
   "source": [
    "# Remove any previously defined stimulus\n",
    "if 'stimulus' in locals():\n",
    "    del stimulus\n",
    "\n",
    "def run_plot():\n",
    "    nrn.h.tstop = 600\n",
    "    nrn.h.dt = 0.05\n",
    "\n",
    "    nrn.h.run()\n",
    "    nrn.h.save_recording()\n",
    "\n",
    "    plot_tv(time, voltage)\n",
    "    \n",
    "run_plot()"
   ]
  },
  {
   "cell_type": "markdown",
   "metadata": {},
   "source": [
    "As you can see the cell is not very active. Let's activate all the Layer 5 Thick Tufted Pyramidal cell connections instead:"
   ]
  },
  {
   "cell_type": "code",
   "execution_count": null,
   "metadata": {},
   "outputs": [],
   "source": [
    "init_synapses(enabled_mtypes=['L5_TTPC2'])\n",
    "run_plot()"
   ]
  },
  {
   "cell_type": "markdown",
   "metadata": {},
   "source": [
    "We can also counteract the spiking by e.g. activating some inhibitory interneurons together with the excitatory input"
   ]
  },
  {
   "cell_type": "code",
   "execution_count": null,
   "metadata": {},
   "outputs": [],
   "source": [
    "init_synapses(enabled_mtypes=['L23_PC', 'L23_MC', 'L23_BTC', 'L23_LBC', 'L23_SBC', 'L23_DBC'])\n",
    "run_plot()"
   ]
  },
  {
   "cell_type": "markdown",
   "metadata": {},
   "source": [
    "One can also influence parameters of e.g. the poisson processes that are creating the spike timings of the presynaptic cells. This is done by manipulating the attributes of the [Netstim](https://www.neuron.yale.edu/neuron/static/docs/help/neuron/neuron/mech.html#NetStim) objects."
   ]
  },
  {
   "cell_type": "code",
   "execution_count": null,
   "metadata": {},
   "outputs": [],
   "source": [
    "init_synapses(enabled_mtypes=['L5_TTPC2'])\n",
    "\n",
    "pre_mtype_netstims = list(cell.synapses.pre_mtype_netstimlists)\n",
    "\n",
    "for netstims in pre_mtype_netstims:\n",
    "    for netstim in netstims: \n",
    "        netstim.interval = 10000 # ms, Average interval between spikes in the Poisson process   \n",
    "\n",
    "run_plot()"
   ]
  },
  {
   "cell_type": "code",
   "execution_count": null,
   "metadata": {},
   "outputs": [],
   "source": []
  }
 ],
 "metadata": {
  "kernelspec": {
   "display_name": "Python 3",
   "language": "python",
   "name": "python3"
  },
  "language_info": {
   "codemirror_mode": {
    "name": "ipython",
    "version": 3
   },
   "file_extension": ".py",
   "mimetype": "text/x-python",
   "name": "python",
   "nbconvert_exporter": "python",
   "pygments_lexer": "ipython3",
   "version": "3.8.5"
  }
 },
 "nbformat": 4,
 "nbformat_minor": 4
}
