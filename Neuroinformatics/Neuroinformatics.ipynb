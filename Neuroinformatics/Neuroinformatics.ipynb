{
 "cells": [
  {
   "cell_type": "markdown",
   "metadata": {},
   "source": [
    "# Neuroinformatics Graded Exercise"
   ]
  },
  {
   "cell_type": "markdown",
   "metadata": {
    "collapsed": true
   },
   "source": [
    "\n",
    "## Registration of single cell electrophysiology and morphology reconstruction into the Blue Brain Nexus Platform using the Provenance Editor\n",
    "\n",
    "### Description of the task\n",
    "\n",
    "One of the greatest challenges in neuroscience is to make the data available to the scientific community using data standards and ontologies to make data searchable and promote its reusability.  The complexity of neuroscience data comes not only from the different scales of the data produced, ranging from single cell to organ, but also from the lack of a consensus in the use and production of data standards and ontologies. \n",
    "In this task, we would like that you place yourself into the role of the scientist who wants to submit some of the data produced by the Laboratory of Neural Microcircuitry (LNMC) into the Blue Brain Nexus Platform where it can be shared with other scientists.\n",
    "You will be provided with a description of the methods that were used to generate electrophysiological traces and a morphology reconstruction from a pyramidal cell of the somatosensory cortex of a rat (see below under ‘Methods section’). This experiment has been carried out to define the morphological and electrical type of the neuron. You will have to register the corresponding data through the Provenance Editor using the domain, ontologies and provenance model that were outlined in the last video lecture of week 2.\n",
    "\n",
    "### Instructions\n",
    "\n",
    " - A – Read the methods section\n",
    " - B – Fill in the required information using the Provenance Editor\n",
    " - C – Submit your curated data for grading\n",
    "\n",
    "### A – Methods section\n",
    "\n",
    "**Disclaimer**: The information in this section is derived from the protocols being currently used at LNMC of the EPFL to generate their electrophysiology traces and morphology reconstructions (refs 1-3). The cell ontology used has been directly derived from the work done at the LNMC and Blue Brain Project (ref. 4). \n",
    "\n",
    "__Summary__:\n",
    "In-vitro experiments performed on neurons require the use of a brain sample that is extracted from an animal. In this experiment, the brain slice was obtained from a rat brain. A neuron is chosen in the brain slice to perform electrophysiology and morphology reconstruction experiments. For electrophysiology experiments, an electrode is used to inject current into the neuron to evoke action potentials. These experiments are useful to define the electrical properties of the neuron. The morphology reconstruction experiments require the staining of the neuron, in this protocol biocytin is used for staining. It is used to reveal what form the neuron has, where the soma is located and to characterize the dendritic and axonal arborisation.\n",
    "\n",
    "__Introduction__:\n",
    "Pyramidal cells (PCs) are key neurons providing output signals from the neocortex. The superficial cortical layers 2/3 PCs project to the contralateral hemisphere via the corpus callosum while the deeper layer 5 PCs project mainly to subcortical targets. Layer 5 thick tufted PCs (TTPCs) are a subtype of PCs, they have a big soma and a thick apical dendrite forming tuft dendrites in layer 1 and their axons project to the tectum, brainstem and the spinal cord. They are the most extensively studied neuron type in the mammalian neocortex and have become a benchmark for understanding information processing in excitatory neurons. \n",
    "\n",
    "__Specimen__:\n",
    "Male rats of the strain Wistar Han and aged postnatal day 14 (P14) were used for the morphological and electrophysiology analysis of layer 5 TTPC neurons. The output of this study will help us define what the morphology-type and the electrical-type of one neuron is. \n",
    "\n",
    "__Protocol: Slice extraction and neuron selection for electrophysiology experiments__ \n",
    "After extraction from the rat skull, brains were quickly dissected and sliced into 300 µm-thick coronal slices (HR2 vibratome, Sigmann Elektronik, Germany) in ice-cold artificial cerebrospinal fluid (ACSF), followed by a 15 minute incubation at 34°C in standard ACSF.\n",
    "Neurons in the slices were visualized using infrared __differential interference contrast microscopy__ (VX55 camera, Till Photonics, Germany and BX51WI microscope, Olympus, Japan) and a neuron was selected for further experiments. \n",
    "\n",
    "__Protocol: Electrophysiology recording of single neuron__\n",
    "__Whole-cell patch__ clamp recordings were performed at 32 +/- 1°C in a standard ACSF solution with an Axon Multiclamp 700B Amplifier (Molecular Devices, USA) using 2 – 10 MOhm borosilicate pipettes, containing (in mM): K+-gluconate 110.00, KCl 10.00, ATP-Mg2+ 4.00, Na2-phosphocreatine 10.00, GTP-Na+ 0.30, HEPES 10.00, biocytin 3.00 mg/ml; pH 7.30, 300 mOsm. The patched neuron was submitted to an __IDRest__ current injection protocol (see fig 1). After analysis of the traces, the electrical type (__e-type__) was determined.\n",
    "\n",
    "The following file contains the electrophysiology traces that were produced:\n",
    "\n",
    "| Cell name | Cell e-type | File |\n",
    "| ------ | ------ | ------ |\n",
    "| C060109A1-SR | Classical accommodating cell | C060109A1-SR-C1_IDrest.zip\n",
    "\n",
    "![Example of current and voltage traces](img/fig1.png) \n",
    "\n",
    ">**Fig. 1:** Example of current and voltage traces using the IDRest protocol\n",
    "In the IDRest protocol the experimenter determines a hyperpolarizing offset current to keep the cell at -70 mV (before liquid junction potential correction) and applies this current during the entire protocol. After an initial period of 700 ms, a step current was applied for 2000 ms, and after the step, a final period of 300 ms is recorded. This protocol is repeated with different step currents normalized to the threshold current (i.e. the lowest current that generates one AP during the step) (4)._\n",
    "\n",
    "<br/><br/>\n",
    "__Protocol: Morphological reconstruction of a single cell__\n",
    "\n",
    "After the electrophysiological recording and overnight fixation of the slice in 2% PFA + 0.3% picric acid + 1% glutaraldehyde, the __biocytin-filled__ neuron was revealed with __3,3′-diaminobenzidine (DAB)__ staining. Next, each cell was reconstructed in 3D under an Olympus BX51W microscope with an oil-immersion 100x (NA 1.35) objective using Neurolucida software (MicroBrightField, Magdeburg, Germany).  The reconstructed neuron underwent quantitative analysis using NeuroExplorer (MicroBrightField). The quantitative morphometric analysis is based on multiple parameters derived from the dendrites and axons of reconstructed neuron. The staining procedure results in ~25% shrinkage of the slice thickness and ~10% anisotropic shrinkage along the x and y axes. After analysis of the morphologies, the morphology type (__m-type__) was determined.\n",
    "\n",
    "The following file containing the single cell morphology reconstruction was produced:\n",
    "\n",
    "| Cell name | Cell m-type | File |\n",
    "| ------ | ------ | ------ |\n",
    "| C060109A1-SR | Layer V early bifurcating thick tufted pyramidal cell | C060109A1.ASC\n",
    "\n",
    "![Morphology reconstruction](img/fig2.png)\n",
    "\n",
    ">**Fig. 2:** Morphology reconstruction of cell C060109A1-SR. Axon is shown in blue, basal dendrites in red and apical dendrites in pink. \n",
    "\n",
    "<br/><br/>\n",
    "__Contributors:__\n",
    "\n",
    "**Prof. Henry Markram**<br/>\n",
    " **Role**: Principal investigator<br/>\n",
    " **Affiliation**: Blue Brain Project, École polytechnique fédérale de Lausanne\n",
    "\n",
    "**Julie Meystre**<br/>\n",
    "**Role**: technical assistant<br/>\n",
    "**Contribution**: worked on the visualisation of the neuron using differential interference contrast video microscopy and on the cell biocytin staining for morphological cell reconstruction<br/>\n",
    "**Affiliation**: Laboratory of Neural Microcircuitry, École polytechnique fédérale de Lausanne\n",
    "\n",
    "**Ying Shi**<br/>\n",
    "**Role**: cell morphology reconstruction expert<br/>\n",
    "**Contribution**: worked on the morphological reconstruction of the neuron<br/>\n",
    "**Affiliation**: Blue Brain Project, École polytechnique fédérale de Lausanne\n",
    "\n",
    "**Dr. Sandrine Romand**<br/>\n",
    "**Role**: researcher<br/>\n",
    "**Contribution**: worked on generating the electrophysiological recordings<br/>\n",
    "**Affiliation**: Laboratory of Neural Microcircuitry,  École polytechnique fédérale de Lausanne\n",
    "\n",
    "<br/><br/>\n",
    "__References:__\n",
    "\n",
    "1) Le Bé JV, Silberberg G, Wang Y, Markram H. Morphological, electrophysiological, and synaptic properties of corticocallosal pyramidal cells in the neonatal rat neocortex. Cereb Cortex. 2007 Sep;17(9):2204-13. Epub 2006 Nov 23. PubMed PMID: 17124287.\n",
    "(https://goo.gl/YE9jUU)\n",
    "\n",
    "2) Ramaswamy S, Markram H. Anatomy and physiology of the thick-tufted layer 5 pyramidal neuron. Frontiers in Cellular Neuroscience. 2015;9:233. doi:10.3389/fncel.2015.00233.\n",
    "(https://goo.gl/yr3Qm9)\n",
    "\n",
    "3) De Schutter E, Computational Neuroscience: Realistic Modeling for Experimentalists, 2000 CRC Press, ISBN 9780849320682.\n",
    "\n",
    "4) Markram H, et al., Reconstruction and Simulation of Neocortical Microcircuitry. Cell. 2015 Oct 8;163(2):456-92. doi: 10.1016/j.cell.2015.09.029. PubMed PMID: 26451489.\n",
    "(https://goo.gl/o5fpFD)\n",
    "\n",
    "<br/><br/><br/>\n",
    "### B – Using the Provenance Editor to register your data\n",
    "\n",
    "#### B.1 Opening the Provenance Editor: To open the editor please follow this link:\n",
    "\n",
    " https://bbp-nexus.epfl.ch/dev/provenance-editor/ and login using your HBP credentials (to confirm). \n",
    "\n",
    "#### B.2 Template: \n",
    "Choose the “Single Neuron, Electrophysiology and Morphology” template and \n",
    "follow the instructions below to fill each of the entities’ form.\n",
    "\n",
    "#### B.3 Status: \n",
    "There is a progress status text to the right of the screen that will remain \n",
    "\n",
    "![Incomplete status indicator](img/incomplete_status.png)\n",
    "\n",
    "until you have finished filling and saving all the requested information. Once you have finished it will change to:\n",
    "\n",
    "![Complete status indicator](img/complete_status.png)\n",
    "\n",
    "#### B.4 Filling the entities’ forms: \n",
    "Click on each one of the entities provided (1-7) following the instructions below. To fill the activity (3) you must first fill in the specimen (1) and neuron (2) requested information. To fill the activities (5, 7) you must first fill the datasets (4, 6) respectively. \n",
    "\n",
    "#### B.5 ID field: \n",
    "The __ID__ field at the top of each of the entities __will be automatically updated__ once you finish filling the required fields and save your work clicking on the ‘SAVE’ button for each of the entities.\n",
    "\n",
    "![Provenance pattern](img/fig3.png)\n",
    "\n",
    ">**Fig. 3:** Provenance for the generation of electrophysiology and morphology experimental information generated from a single neuron.\n",
    "\n",
    "1) Specimen\n",
    "Find what is the specimen (the organism) used in this experiment. You will need the following information:\n",
    "- species that was used and add the official taxonomy description (i.e. rat = Rattus norvegicus)\n",
    "- strain (variant or subtype) of the specimen\n",
    "- sex of the specimen\n",
    "- age of the specimen and the age unit\n",
    "\n",
    "2) Neuron \n",
    "Find the information which describes the neuron that was characterized during the experiment:\n",
    "- name of the neuron as given by the researcher (cell name)\n",
    "- morphology and electrical type (also called m-type and e-type).\n",
    "\n",
    "3) Activity between specimen and neuron\n",
    "This screen captures the experimental protocol that was used to generate the brain slice and visualize the entity ‘neuron’.\n",
    "- find the activity type \n",
    "- find the protocol corresponding to the generation of the brain slices and the method used for visualization and add them in the “protocol” and “method” fields respectively\n",
    "- add the contributors and their roles in the “agents” field\n",
    "\n",
    "4) Electrophysiology dataset\n",
    "- select the file corresponding to the electrophysiological recording and upload it\n",
    "- give a meaningful name to your dataset\n",
    "- find the right category for your dataset\n",
    "- choose a license considering that we want to allow commercial use of the data.\n",
    "\n",
    "5) Activity between neuron and electrophysiology dataset\n",
    "This screen captures the experimental protocol that was used to generate electrophysiology recordings. \n",
    "- find the activity type \n",
    "- find the protocol corresponding to the generation of the electrophysiology recording and the method used for the recording and add them in the “protocol” and “method” fields respectively\n",
    "- add the contributors and their roles in the “agents” field\n",
    "Note: The __IDRest__ current injection protocol is very important and would normally be recordedbut we do not request you to add it in this activity.\n",
    "\n",
    "6) Morphology reconstruction dataset\n",
    "- select the file corresponding to the morphology reconstruction and upload it\n",
    "- give a meaningful name to your dataset\n",
    "- find the right category for your dataset\n",
    "- Choose a license considering that we want to allow commercial use of the data.\n",
    "\n",
    "\n",
    "7) Activity between neuron and morphology reconstruction dataset\n",
    "This screen captures the experimental protocol that was used to generate the single cell morphology reconstruction.\n",
    "- find the activity type \n",
    "- find the protocol corresponding to the generation of the single cell morphology reconstruction and the method used for visualization and add them in the “protocol” and “method” fields respectively\n",
    "- add the contributors and their roles in the “agents” field\n",
    "\n",
    "#### C - Submitting your curated data for grading\n",
    "\n",
    "Once you have finished filling and saving all the fields the progress status will change to \n",
    "\n",
    "![Complete status indicator](img/complete_status.png)\n",
    "\n",
    "This indicates that your data has been saved for grading. \n",
    "Please provide the generated specimen ID (you can find it in the ID field at the top of the specimen entity and it will have the following format: __bbp/specimen/1.0.0/<id>__). \n",
    "\n",
    "How the grading works: For the grading, the provenance chain will be traversed starting with the specimen. If the chain of provenance is broken at any point (i.e. wrong information is provided), the grading will stop and your score will be returned. The score range is 0 – 1. As the grading starts with the specimen ID please do not forget to provide it. \n",
    "\n"
   ]
  },
  {
   "cell_type": "markdown",
   "metadata": {},
   "source": [
    "## Starting the exercise\n",
    "\n",
    "Open the Provenance Editor web application using this link:\n",
    "\n",
    "https://bbp-nexus.epfl.ch/provenance-editor/\n",
    "\n",
    "If you are not yet authenticated, this link will first take you to the HBP login page as depicted below:\n",
    "\n",
    "![HBP login page](img/hbp_login.png)\n",
    "\n",
    "Once you login successfully, you will be taken to the landing screen of the Provenance Editor as depicted below:\n",
    "\n",
    "![HBP login page](img/template_choice.png)"
   ]
  },
  {
   "cell_type": "markdown",
   "metadata": {},
   "source": [
    "Now let's assemble your answer to this graded exercise.\n",
    "You will build below a json payload represented by a dictionary in which you will have to pass 2 parameters:\n",
    "   - **email**: the email address you have used to register your HBP account\n",
    "   - **specimen_id**: the identifier of the specimen you have curated in the provenance editor. Please open the specimen form and click on the button next to the identifier field to copy it to your clipboard (depicted below).\n",
    "   \n",
    "![How to copy the curated specimen ID](img/specimen_id.png)"
   ]
  },
  {
   "cell_type": "code",
   "execution_count": 7,
   "metadata": {},
   "outputs": [
    {
     "name": "stdout",
     "output_type": "stream",
     "text": [
      "{'specimen_id': '<INSERT YOUR CURATED SPECIMEN ID HERE>', 'email': '<INSERT YOUR EMAIL ADDRESS HERE>'}\n"
     ]
    }
   ],
   "source": [
    "answer = {'email': '<INSERT YOUR EMAIL ADDRESS HERE>',\n",
    "          'specimen_id': '<INSERT YOUR CURATED SPECIMEN ID HERE>'}\n",
    "print(answer)"
   ]
  },
  {
   "cell_type": "markdown",
   "metadata": {},
   "source": [
    "## Submit your answer\n",
    "First install the python package to contact the grader"
   ]
  },
  {
   "cell_type": "code",
   "execution_count": 8,
   "metadata": {},
   "outputs": [
    {
     "name": "stdout",
     "output_type": "stream",
     "text": [
      "Collecting single-cell-mooc-client\n",
      "Requirement already satisfied: requests in /usr/local/lib/python2.7/site-packages (from single-cell-mooc-client)\n",
      "Installing collected packages: single-cell-mooc-client\n",
      "Successfully installed single-cell-mooc-client-0.0.1.dev0\n"
     ]
    }
   ],
   "source": [
    "!pip install --pre -i https://bbpteam.epfl.ch/repository/devpi/simple/ single-cell-mooc-client"
   ]
  },
  {
   "cell_type": "markdown",
   "metadata": {
    "collapsed": true
   },
   "source": [
    "The code underneath will render the submission widget which will allow you to enter your exX submission key as well as your answer. Once your execute this snippet, the submission form will appear."
   ]
  },
  {
   "cell_type": "code",
   "execution_count": 1,
   "metadata": {},
   "outputs": [
    {
     "data": {
      "application/vnd.jupyter.widget-view+json": {
       "model_id": "113f46e76a7d401ab1e087f4c2250d95"
      }
     },
     "metadata": {},
     "output_type": "display_data"
    }
   ],
   "source": [
    "from single_cell_mooc_client import Submission\n",
    "submission_widget = Submission()"
   ]
  }
 ],
 "metadata": {
  "kernelspec": {
   "display_name": "Python 2",
   "language": "python",
   "name": "python2"
  },
  "language_info": {
   "codemirror_mode": {
    "name": "ipython",
    "version": 2
   },
   "file_extension": ".py",
   "mimetype": "text/x-python",
   "name": "python",
   "nbconvert_exporter": "python",
   "pygments_lexer": "ipython2",
   "version": "2.7.11"
  }
 },
 "nbformat": 4,
 "nbformat_minor": 2
}
