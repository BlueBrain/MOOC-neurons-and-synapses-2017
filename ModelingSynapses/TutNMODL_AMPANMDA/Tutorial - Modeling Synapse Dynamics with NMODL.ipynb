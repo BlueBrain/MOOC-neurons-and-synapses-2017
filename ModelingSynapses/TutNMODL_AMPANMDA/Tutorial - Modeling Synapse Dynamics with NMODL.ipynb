{
 "cells": [
  {
   "cell_type": "markdown",
   "metadata": {},
   "source": [
    "# NEURON Tutorial: The Tsodyks-Markram model of synapse dynamics\n",
    "\n",
    "## Introduction\n",
    "\n",
    "In this tutorial, we will interactively augment the AMPA and NMDA model of glutamate receptors we saw in the previous tutorial with a model of synapse dynamics, the Tsodyks-Markram model, as described in:\n",
    "\n",
    "G. Fuhrmann, I. Segev, H. Markram, M. Tsodyks. Coding of Temporal Information by Activity-Dependent Synapses. J. Neurophysiol. 2002, 87(1) 140-148; DOI: 10.1152/jn.00258.2001\n",
    "\n",
    "In doing so, you will learn how to implement the mathematical formulations of the model into NMODL syntax, and gain a deeper understanding of this widely used formulation of synapse dynamics. "
   ]
  },
  {
   "cell_type": "markdown",
   "metadata": {},
   "source": [
    "## Edit the MOD file\n",
    "\n",
    "As before, the definition of the synapse model is in a MOD file.  Let's now interactively augment this MOD file to account for synapses dynamics according to the Tsodyks-Markram model.\n",
    "\n",
    "Again, we will use the embedded editing capabilities of Jupyter."
   ]
  },
  {
   "cell_type": "markdown",
   "metadata": {},
   "source": [
    "## Compiling MOD files\n",
    "\n",
    "MOD files need to be compiled before they can be used with NEURON.  \n",
    "NEURON provides a tool called \"nrnivmodl\", which has the syntax:\n",
    "```bash\n",
    "$ nrnivmodl <directory>\n",
    "```\n",
    "Invocation will compile all `.mod` files found in `<directory>`, if specified, otherwise the current directory.\n",
    "\n",
    "Our `.mod` file is located in \"`mechanisms`\", so we compile it as follows (the prefix `!` is used to invoke a system call outside python):"
   ]
  },
  {
   "cell_type": "code",
   "execution_count": null,
   "metadata": {},
   "outputs": [],
   "source": [
    "!nrnivmodl  mechanisms"
   ]
  },
  {
   "cell_type": "markdown",
   "metadata": {},
   "source": [
    "## nrnivmodl: Verify successful compilation\n",
    "\n",
    "The output above indicates `nrnivmodl` completed successfully.  If error messages are generated, then something maybe wrong in your `.mod` file program.  Double-check your .mod file, and try again. "
   ]
  },
  {
   "cell_type": "markdown",
   "metadata": {},
   "source": [
    "## Trying out your new synapse model\n",
    "\n",
    "If your .mod files are compiled before you import neuron, NEURON will load your compiled models automatically if they are in your local directory."
   ]
  },
  {
   "cell_type": "code",
   "execution_count": null,
   "metadata": {},
   "outputs": [],
   "source": [
    "import neuron\n",
    "from neuron import h\n",
    "import numpy\n",
    "import matplotlib.pyplot as plt\n",
    "# Load external files & initialize\n",
    "neuron.h.load_file(\"stdrun.hoc\");\n",
    "neuron.h.stdinit();"
   ]
  },
  {
   "cell_type": "markdown",
   "metadata": {},
   "source": [
    "If you forgot to compile your .mod files before importing neuron, you can trigger NEURON to load them as follows.  Note, this command can only be executed once for a given directory of .mod files.  Executing it a second time will crash your jupyter kernel.  "
   ]
  },
  {
   "cell_type": "code",
   "execution_count": null,
   "metadata": {},
   "outputs": [],
   "source": [
    "#neuron.load_mechanisms(\".\")"
   ]
  },
  {
   "cell_type": "markdown",
   "metadata": {},
   "source": [
    "## A neuron to host your synapse\n",
    "\n",
    "Following previous exercises, we will create a single compartment soma neuron to host the synapse."
   ]
  },
  {
   "cell_type": "code",
   "execution_count": null,
   "metadata": {},
   "outputs": [],
   "source": [
    "soma = neuron.h.Section()\n",
    "soma.L = 40\n",
    "soma.diam = 40\n",
    "soma.insert('pas')"
   ]
  },
  {
   "cell_type": "code",
   "execution_count": null,
   "metadata": {},
   "outputs": [],
   "source": [
    "# Configure the passive biophysics\n",
    "for sec in h.allsec():\n",
    "    sec.Ra = 100\n",
    "    sec.cm = 1"
   ]
  },
  {
   "cell_type": "markdown",
   "metadata": {},
   "source": [
    "Create the synapse at the center of the soma compartment"
   ]
  },
  {
   "cell_type": "code",
   "execution_count": null,
   "metadata": {},
   "outputs": [],
   "source": [
    "synapse = h.TsodyksMarkram_AMPA_NMDA(soma(0.5))"
   ]
  },
  {
   "cell_type": "markdown",
   "metadata": {},
   "source": [
    "Define the stimulus: 8 spikes at 20Hz + 1 spike 500 ms later"
   ]
  },
  {
   "cell_type": "code",
   "execution_count": null,
   "metadata": {},
   "outputs": [],
   "source": [
    "stimulator = h.VecStim()\n",
    "spike_times = [100.0, 150.0, 200.0, 250.0, 300.0, 350.0, 400.0, 450.0, 950.0]\n",
    "spikes_vector = h.Vector(spike_times)\n",
    "stimulator.play(spikes_vector)\n",
    "\n",
    "connection = h.NetCon(stimulator, synapse)\n",
    "connection.weight[0] = 1.0        # In units of [nS] due to the gmax scaling factor in our .mod file"
   ]
  },
  {
   "cell_type": "markdown",
   "metadata": {},
   "source": [
    "Create a recorder for the synaptic conductance, current, the soma voltage, the time intervals, and Use and R"
   ]
  },
  {
   "cell_type": "code",
   "execution_count": null,
   "metadata": {},
   "outputs": [],
   "source": [
    "g_syn = h.Vector()\n",
    "g_syn.record(synapse._ref_g)\n",
    "i_syn = h.Vector()\n",
    "i_syn.record(synapse._ref_i)\n",
    "v_soma = h.Vector()\n",
    "v_soma.record(soma(0.5)._ref_v)\n",
    "time = h.Vector()\n",
    "time.record(neuron.h._ref_t)\n",
    "R_syn = h.Vector()\n",
    "R_syn.record(synapse._ref_R)\n",
    "Use_syn = h.Vector()\n",
    "Use_syn.record(synapse._ref_Use)"
   ]
  },
  {
   "cell_type": "markdown",
   "metadata": {},
   "source": [
    "Let's configure biologically plausible values for the AMPA and NMDA model parameters"
   ]
  },
  {
   "cell_type": "code",
   "execution_count": null,
   "metadata": {
    "scrolled": true
   },
   "outputs": [],
   "source": [
    "synapse.gmax_AMPA = 0.002 # uS\n",
    "synapse.gmax_NMDA = 0.7 * 0.002 # uS - 0.7 is a biologically typical ratio of NMDA to AMPA conductance\n",
    "synapse.mg = 1.0 # mM"
   ]
  },
  {
   "cell_type": "markdown",
   "metadata": {},
   "source": [
    "Now let's configure parameters for pseudo linear synapse dynamics (E3), and simulate"
   ]
  },
  {
   "cell_type": "code",
   "execution_count": null,
   "metadata": {},
   "outputs": [],
   "source": [
    "synapse.U1 = 0.2 # Baseline release probability\n",
    "synapse.tau_rec = 200 # ms - recovery from depression\n",
    "synapse.tau_facil = 200 # ms - relaxation from facilitation\n",
    "\n",
    "h.tstop = 1000.0 # ms\n",
    "neuron.h.run()"
   ]
  },
  {
   "cell_type": "code",
   "execution_count": null,
   "metadata": {},
   "outputs": [],
   "source": [
    "# TODO: matplotlib notebook with error so replace it with inline?\n",
    "# This command gives us fancy interactive inline plots\n",
    "# %matplotlib notebook\n",
    "%matplotlib inline\n",
    "\n",
    "def plot_timecourse(time_array, dependent_var, newfigure=True, label=None, ylabel='Membrane voltage (mV)', constants=[]):\n",
    "    \"\"\"Convenience function to plot time courses of dependent variables\"\"\"\n",
    "    if newfigure:\n",
    "        plt.figure()\n",
    "    plt.plot(time_array, dependent_var, label=label)\n",
    "    for constant in constants:\n",
    "        plt.plot(time_array, constant*numpy.ones(len(time_array)))\n",
    "    plt.xlabel('Time (ms)')\n",
    "    plt.ylabel(ylabel)\n",
    "    return plt\n",
    "        \n",
    "plot_timecourse(time, v_soma)\n",
    "plt.axis([0, 1000, -70, -69.5]);"
   ]
  },
  {
   "cell_type": "code",
   "execution_count": null,
   "metadata": {},
   "outputs": [],
   "source": [
    "plot_timecourse(time, R_syn, ylabel=\"\", label=\"$R$ - frac. of pool avail.\")\n",
    "plot_timecourse(time, Use_syn, ylabel=\"\", label=\"$U_{SE}$ - running rel. prob.\", newfigure=False)\n",
    "plt.legend()\n",
    "plt.axis([0,1000,0,1.5])\n",
    "plot_timecourse(time, g_syn, ylabel=\"Conductance (uS)\", label=\"$g_{syn}$\")\n",
    "plt.legend()"
   ]
  },
  {
   "cell_type": "markdown",
   "metadata": {},
   "source": [
    "Now, let's configure a depressing synapse (E2).  Such synapses have a higher baseline release probability, a longer recovery time from depression, and a very short relaxation time of facilitation. "
   ]
  },
  {
   "cell_type": "code",
   "execution_count": null,
   "metadata": {},
   "outputs": [],
   "source": [
    "synapse.U1 = 0.5 # Baseline release probability\n",
    "synapse.tau_rec = 700 # ms - recovery from depression\n",
    "synapse.tau_facil = 10 # ms - relaxation from facilitation\n",
    "\n",
    "neuron.h.run()"
   ]
  },
  {
   "cell_type": "code",
   "execution_count": null,
   "metadata": {},
   "outputs": [],
   "source": [
    "plot_timecourse(time, R_syn, ylabel=\"\", label=\"$R$ - frac. of pool avail.\")\n",
    "plot_timecourse(time, Use_syn, ylabel=\"\", label=\"$U_{SE}$ - running rel. prob.\", newfigure=False)\n",
    "plt.legend()\n",
    "plt.axis([0,1000,0,1.5])\n",
    "plot_timecourse(time, g_syn, ylabel=\"Conductance (uS)\", label=\"$g_{syn}$\")\n",
    "plt.legend()"
   ]
  },
  {
   "cell_type": "code",
   "execution_count": null,
   "metadata": {},
   "outputs": [],
   "source": []
  }
 ],
 "metadata": {
  "kernelspec": {
   "display_name": "Python 3",
   "language": "python",
   "name": "python3"
  },
  "language_info": {
   "codemirror_mode": {
    "name": "ipython",
    "version": 3
   },
   "file_extension": ".py",
   "mimetype": "text/x-python",
   "name": "python",
   "nbconvert_exporter": "python",
   "pygments_lexer": "ipython3",
   "version": "3.8.5"
  }
 },
 "nbformat": 4,
 "nbformat_minor": 4
}
