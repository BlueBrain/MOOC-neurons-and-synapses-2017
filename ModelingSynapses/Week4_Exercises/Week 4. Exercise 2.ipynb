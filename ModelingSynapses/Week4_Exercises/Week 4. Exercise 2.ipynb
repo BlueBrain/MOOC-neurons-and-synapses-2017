{
 "cells": [
  {
   "cell_type": "markdown",
   "metadata": {},
   "source": [
    "# NEURON Exercise: The AMPA-NMDA Synapse Model\n",
    "\n",
    "Blue Brain Project / EPFL ©2005-2021. This notebook is under a [LGPLv3](https://raw.githubusercontent.com/BlueBrain/MOOC-neurons-and-synapses-2017/master/LICENSE.txt) license.\n",
    "\n",
    "## Introduction\n",
    "\n",
    "In this exercise, we will work more in-depth with the AMPA-NMDA synapse model constructed in the NMODL language tutorial, and explore some of its properties using simulation.\n",
    "\n",
    "**Important**: Ensure you have downloaded the MOD files, and compiled them with NMODL in Week 4 Exercise 1.  It is only necessary to do this once for all Week 4 exercises. "
   ]
  },
  {
   "cell_type": "markdown",
   "metadata": {},
   "source": [
    "## Initialize NEURON"
   ]
  },
  {
   "cell_type": "code",
   "execution_count": null,
   "metadata": {
    "collapsed": true
   },
   "outputs": [],
   "source": [
    "import neuron\n",
    "from neuron import h\n",
    "import numpy\n",
    "import matplotlib.pyplot as plt\n",
    "# Load external files & initialize\n",
    "neuron.h.load_file(\"stdrun.hoc\");\n",
    "neuron.h.stdinit();"
   ]
  },
  {
   "cell_type": "markdown",
   "metadata": {},
   "source": [
    "## A neuron to host your synapse\n",
    "\n",
    "Following previous exercises, we will create a single compartment soma neuron to host the synapse."
   ]
  },
  {
   "cell_type": "code",
   "execution_count": null,
   "metadata": {
    "collapsed": true
   },
   "outputs": [],
   "source": [
    "soma = neuron.h.Section()\n",
    "soma.L = 40\n",
    "soma.diam = 40\n",
    "soma.insert('pas')"
   ]
  },
  {
   "cell_type": "code",
   "execution_count": null,
   "metadata": {
    "collapsed": true
   },
   "outputs": [],
   "source": [
    "# Configure the passive biophysics\n",
    "for sec in h.allsec():\n",
    "    sec.Ra = 100\n",
    "    sec.cm = 1"
   ]
  },
  {
   "cell_type": "markdown",
   "metadata": {},
   "source": [
    "Create the synapse at the center of the soma compartment"
   ]
  },
  {
   "cell_type": "code",
   "execution_count": null,
   "metadata": {
    "collapsed": true
   },
   "outputs": [],
   "source": [
    "synapse = h.SimpleAMPA_NMDA(soma(0.5))"
   ]
  },
  {
   "cell_type": "markdown",
   "metadata": {},
   "source": [
    "Define the stimulus: 8 spikes at 20Hz + 1 spike 500 ms later"
   ]
  },
  {
   "cell_type": "code",
   "execution_count": null,
   "metadata": {
    "collapsed": true
   },
   "outputs": [],
   "source": [
    "stimulator = h.VecStim()\n",
    "spike_times = [100.0, 150.0, 200.0, 250.0, 300.0, 350.0, 400.0, 450.0, 950.0]\n",
    "spikes_vector = h.Vector(spike_times)\n",
    "stimulator.play(spikes_vector)\n",
    "\n",
    "connection = h.NetCon(stimulator, synapse)\n",
    "connection.weight[0] = 1.0        # In units of [nS] due to the gmax scaling factor in our .mod file"
   ]
  },
  {
   "cell_type": "markdown",
   "metadata": {},
   "source": [
    "Create a recorder for the synaptic conductance, current, the soma voltage, and the time intervals"
   ]
  },
  {
   "cell_type": "code",
   "execution_count": null,
   "metadata": {
    "collapsed": true
   },
   "outputs": [],
   "source": [
    "g_syn = h.Vector()\n",
    "g_syn.record(synapse._ref_g)\n",
    "i_syn = h.Vector()\n",
    "i_syn.record(synapse._ref_i)\n",
    "v_soma = h.Vector()\n",
    "v_soma.record(soma(0.5)._ref_v)\n",
    "time = h.Vector()\n",
    "time.record(neuron.h._ref_t)"
   ]
  },
  {
   "cell_type": "markdown",
   "metadata": {},
   "source": [
    "First, let's zero the NMDA conductance, and validate that the AMPA conductance is behaving as we expect\n",
    "First we simulate, then we plot the voltage, and the conductance trajectories."
   ]
  },
  {
   "cell_type": "code",
   "execution_count": null,
   "metadata": {
    "collapsed": true,
    "scrolled": true
   },
   "outputs": [],
   "source": [
    "h.tstop = 1000.0 # ms\n",
    "synapse.gmax_NMDA = 0.0\n",
    "synapse.gmax_AMPA = 0.001 # uS\n",
    "neuron.h.run()"
   ]
  },
  {
   "cell_type": "code",
   "execution_count": null,
   "metadata": {
    "collapsed": true
   },
   "outputs": [],
   "source": [
    "# This command gives us fancy interactive inline plots\n",
    "%matplotlib notebook\n",
    "\n",
    "def plot_timecourse(time_array, dependent_var, newfigure=True, show=True, label=None, ylabel='Membrane voltage (mV)', constants=[]):\n",
    "    \"\"\"Convenience function to plot time courses of dependent variables\"\"\"\n",
    "    if newfigure:\n",
    "        plt.figure()\n",
    "    plt.plot(time_array, dependent_var, label=label)\n",
    "    for constant in constants:\n",
    "        plt.plot(time_array, constant*numpy.ones(len(time_array)))\n",
    "    plt.xlabel('Time (ms)')\n",
    "    plt.ylabel(ylabel)\n",
    "    if show:\n",
    "        plt.show()\n",
    "        \n",
    "plot_timecourse(time, v_soma)"
   ]
  },
  {
   "cell_type": "markdown",
   "metadata": {},
   "source": [
    "The dual exponential model for the conductance time course has a closed form for the response due to a single pulse.\n",
    "Below we validate our .mod file implementation running in NEURON against this closed form solution. "
   ]
  },
  {
   "cell_type": "code",
   "execution_count": null,
   "metadata": {
    "collapsed": true
   },
   "outputs": [],
   "source": [
    "plot_timecourse(time, g_syn, ylabel=\"Conductance (uS)\", label=\"NEURON\")\n",
    "\n",
    "def dual_exp(t, tau_r, tau_d, t_start):\n",
    "    \"\"\"Compute the dual exponential time course using the closed form expression.\"\"\"\n",
    "    t = numpy.array(t)\n",
    "    time_to_peak = (tau_r*tau_d)/(tau_d-tau_r)*numpy.log(tau_d/tau_r)\n",
    "    factor = -numpy.exp(-time_to_peak/tau_r)+numpy.exp(-time_to_peak/tau_d)\n",
    "    f_dual_exp = lambda t: (numpy.exp(-t/tau_d) - numpy.exp(-t/tau_r))/factor\n",
    "    dual_exp = numpy.zeros_like(t)\n",
    "    dual_exp[t>=t_start] = f_dual_exp(t[t>=t_start]-t_start)\n",
    "    return dual_exp\n",
    "    \n",
    "plt.plot(time, 0.001*connection.weight[0]*dual_exp(time, synapse.tau_r_AMPA, synapse.tau_d_AMPA, \n",
    "                                                   t_start=100.0+connection.delay), 'r--', lw=2, label=\"math. expr.\")\n",
    "plt.legend()"
   ]
  },
  {
   "cell_type": "markdown",
   "metadata": {},
   "source": [
    "Now, let's also validate the trajectory for the NMDA receptor alone\n",
    "Here, we have to remove the Magnesium block by zeroing the Mg2+ concentration"
   ]
  },
  {
   "cell_type": "code",
   "execution_count": null,
   "metadata": {
    "collapsed": true
   },
   "outputs": [],
   "source": [
    "synapse.gmax_NMDA = 0.001 # uS\n",
    "synapse.mg = 0.0 # mM\n",
    "synapse.gmax_AMPA = 0 # uS\n",
    "neuron.h.run()"
   ]
  },
  {
   "cell_type": "code",
   "execution_count": null,
   "metadata": {
    "collapsed": true
   },
   "outputs": [],
   "source": [
    "plot_timecourse(time, g_syn, ylabel=\"Conductance (uS)\", label=\"NEURON\")\n",
    "plt.plot(time, 0.001*connection.weight[0]*dual_exp(time, synapse.tau_r_NMDA, synapse.tau_d_NMDA, \n",
    "                                                   t_start=100.0+connection.delay), 'r--', lw=2, label=\"math. expr.\")\n",
    "plt.legend()"
   ]
  },
  {
   "cell_type": "markdown",
   "metadata": {},
   "source": [
    "Finally, let's configure the synapse to realistic biological ranges for the AMPA and NMDA conductances, and the Mg2+ concentration.  We'll record both the NMDA and AMPA conductances serperately to visualize their contributions to the total conductance trajectory."
   ]
  },
  {
   "cell_type": "code",
   "execution_count": null,
   "metadata": {
    "collapsed": true
   },
   "outputs": [],
   "source": [
    "synapse.gmax_AMPA = 0.001 # uS\n",
    "synapse.gmax_NMDA = 0.7 * 0.001 # uS - 0.7 is a biologically typical ratio of NMDA to AMPA conductance\n",
    "synapse.mg = 1.0 # mM\n",
    "g_NMDA = h.Vector()\n",
    "g_NMDA.record(synapse._ref_g_NMDA)\n",
    "g_AMPA = h.Vector()\n",
    "g_AMPA.record(synapse._ref_g_AMPA)\n",
    "neuron.h.run()"
   ]
  },
  {
   "cell_type": "code",
   "execution_count": null,
   "metadata": {
    "collapsed": true
   },
   "outputs": [],
   "source": [
    "plot_timecourse(time, g_syn, ylabel=\"Conductance (uS)\", label=\"NEURON - g\")\n",
    "plot_timecourse(time, g_NMDA, ylabel=\"Conductance (uS)\", label=\"NEURON - g_NMDA\", newfigure=False)\n",
    "plot_timecourse(time, g_AMPA, ylabel=\"Conductance (uS)\", label=\"NEURON - g_AMPA\", newfigure=False)\n",
    "plt.axis([80.0, 150.0, 0.0, 0.0011])\n",
    "plt.legend()"
   ]
  },
  {
   "cell_type": "markdown",
   "metadata": {},
   "source": [
    "Finally, let's plot the dependence of the NMDA conductance on the Mg2+ concentration."
   ]
  },
  {
   "cell_type": "code",
   "execution_count": null,
   "metadata": {
    "collapsed": true
   },
   "outputs": [],
   "source": [
    "g_NMDA_1mM = numpy.zeros_like(g_NMDA)\n",
    "g_NMDA_1mM[:] = g_NMDA"
   ]
  },
  {
   "cell_type": "code",
   "execution_count": null,
   "metadata": {
    "collapsed": true,
    "scrolled": true
   },
   "outputs": [],
   "source": [
    "plot_timecourse(time, g_NMDA_1mM, ylabel=\"Conductance (uS)\", label=\"[Mg2+] = 1mM\")\n",
    "mgs = [0.5, 0.25, 0.1, 0.0]\n",
    "for mg in mgs:\n",
    "    synapse.mg = mg\n",
    "    neuron.h.run()\n",
    "    plot_timecourse(time, g_NMDA, ylabel=\"Conductance (uS)\", label=\"[Mg2+] = %fmM\" % mg, newfigure=False)\n",
    "plt.axis([80.0, 150.0, 0.0, 0.0011])\n",
    "plt.legend()\n"
   ]
  },
  {
   "cell_type": "markdown",
   "metadata": {},
   "source": [
    "The plot shows a marked increase in g_NMDA as [Mg2+] decreases, indicating the NMDA receptor requires the presence of Mg2+ for the voltage block to be effective."
   ]
  },
  {
   "cell_type": "markdown",
   "metadata": {},
   "source": [
    "Now, let's assess the voltage block curve of NMDA for [Mg2+]=1.0 in an _in silico_ reproduction the seminal experiment in Jahr and Stevens, 1990.\n",
    "\n",
    "To do this, we need to:\n",
    "1) Block the AMPA component of the conductance\n",
    "2) Voltage clamp the soma at a given holding voltage\n",
    "3) Run the stimulation simulation and extract the peak synaptic conductance\n",
    "4) Repeat for different holding voltages\n",
    "5) Fit the dependence of peak conductance on holding voltage to a sigmoid, plot.\n",
    "\n",
    "We'll go through (1)-(3) below, and leave (4) and (5) to you the student as the exercise."
   ]
  },
  {
   "cell_type": "code",
   "execution_count": null,
   "metadata": {
    "collapsed": true
   },
   "outputs": [],
   "source": [
    "# 1) Block the AMPA component of the conductance\n",
    "synapse.mg = 1.0 # [mM]\n",
    "synapse.gmax_AMPA = 0.0 # Apply an \"in silico AMPA blocker\"\n",
    "                        # Some things are easy in simulation ... "
   ]
  },
  {
   "cell_type": "code",
   "execution_count": null,
   "metadata": {
    "collapsed": true
   },
   "outputs": [],
   "source": [
    "# 2) Voltage clamp the soma at a given holding voltage\n",
    "voltage_clamp = h.VClamp(0.5, sec=soma) # Create a voltage clamp electrode object and place it in the soma\n",
    "voltage_clamp.amp[0] = -80.0 # Assign a clamping voltage\n",
    "voltage_clamp.dur[0] = h.tstop # Clamp for the whole simulation duration"
   ]
  },
  {
   "cell_type": "code",
   "execution_count": null,
   "metadata": {
    "collapsed": true
   },
   "outputs": [],
   "source": [
    "# 3) Run the stimulation simulation and extract the peak synaptic conductance\n",
    "def extract_peaks(time, trace, event_times, window=10):\n",
    "    \"\"\"\n",
    "    Computes the peak between event_times and returns the times of occurence and the maximums\n",
    "    Useful for finding PSP or conductance peaks due to synaptic events.\n",
    "    kwarg 'window' defines the time in ms after the event to consider when searching for the peak\n",
    "    \"\"\"\n",
    "    \n",
    "    peaks_list = []\n",
    "    peaks_times_list = []\n",
    "    for event_time in event_times:\n",
    "        i_start = time.searchsorted(event_time)\n",
    "        i_end = time.searchsorted(event_time+window)\n",
    "        # find the index where the max occurs\n",
    "        i_max = numpy.argmax(trace[i_start:i_end])\n",
    "        # append the time and value at the max to the respective lists\n",
    "        peaks_times_list.append(time[i_start:i_end][i_max])\n",
    "        peaks_list.append(trace[i_start:i_end][i_max])\n",
    "        \n",
    "    return numpy.array(peaks_times_list), numpy.array(peaks_list)"
   ]
  },
  {
   "cell_type": "code",
   "execution_count": null,
   "metadata": {
    "collapsed": true
   },
   "outputs": [],
   "source": [
    "def gNMDApeak_for_vclamp(v_clamp, eventNth=0):\n",
    "    \"\"\"returns the peak g_NMDA of the \"eventNth\" synaptic event for a given holding voltage\"\"\"\n",
    "    voltage_clamp.amp[0] = v_clamp # Assign the clamping voltage\n",
    "    neuron.h.run() # Simulate!\n",
    "    g_NMDA = numpy.array(g_syn) # Get the resulting conductance as a numpy array (its only NMDA: AMPA is blocked) \n",
    "    time_arr = numpy.array(time) # Convert time h.Vector to a numpy array for subsequent operations\n",
    "    peak_times, peaks = extract_peaks(time_arr, numpy.array(g_NMDA), spike_times) # extract the peaks and times\n",
    "    peak_times_idx = time_arr.searchsorted(peak_times) # find array index of peak times \n",
    "    return peaks[eventNth] # return the peak conductance of the eventNth peak"
   ]
  },
  {
   "cell_type": "code",
   "execution_count": null,
   "metadata": {
    "collapsed": true
   },
   "outputs": [],
   "source": [
    "gNMDApeak_for_vclamp(-80.0)"
   ]
  },
  {
   "cell_type": "markdown",
   "metadata": {},
   "source": [
    "## Exercise\n",
    "\n",
    "To submit answers to these questions and get feedback, please return to the edX platform.\n",
    "\n",
    "**Question 1**\n",
    "\n",
    "4) Determine, as above, the g_NMDA peak for different holding voltages.\n",
    "Hint: Use the above function, and loop, or use list comprehension.\n",
    "Plot it. How does it look?\n",
    "\n"
   ]
  },
  {
   "cell_type": "code",
   "execution_count": null,
   "metadata": {
    "collapsed": true
   },
   "outputs": [],
   "source": [
    "# The range over which to assess the g_NMDA peak conductance\n",
    "v_range = numpy.linspace(-80.0, 60.0, 10)"
   ]
  },
  {
   "cell_type": "code",
   "execution_count": null,
   "metadata": {
    "collapsed": true
   },
   "outputs": [],
   "source": []
  },
  {
   "cell_type": "markdown",
   "metadata": {},
   "source": [
    "**Question 2**\n",
    "\n",
    "5) Fit a sigmoid to the g_NMDA peak conductance dependence on holding voltage, and plot.\n",
    "Hint: Use the fit function, and [curve_fit](https://docs.scipy.org/doc/scipy-0.19.0/reference/generated/scipy.optimize.curve_fit.html) (part of scipy) provided below.\n",
    "\n",
    "Plot the simulation data and fit on the same axes.  Did *curve_fit* converge to a good fit?\n",
    "How do the resulting fit parameters a & b compare to what was presented in the lecture, as determined by Jahr and Stevens, 1990 ?"
   ]
  },
  {
   "cell_type": "code",
   "execution_count": null,
   "metadata": {
    "collapsed": true
   },
   "outputs": [],
   "source": [
    "fit_func = lambda x, a, b: synapse.gmax_NMDA/(1.0 + a*numpy.exp(-x/b))"
   ]
  },
  {
   "cell_type": "code",
   "execution_count": null,
   "metadata": {
    "collapsed": true
   },
   "outputs": [],
   "source": [
    "# The curve fitter to use\n",
    "from scipy.optimize import curve_fit"
   ]
  },
  {
   "cell_type": "code",
   "execution_count": null,
   "metadata": {
    "collapsed": true
   },
   "outputs": [],
   "source": []
  }
 ],
 "metadata": {
  "kernelspec": {
   "display_name": "Python 2",
   "language": "python",
   "name": "python2"
  },
  "language_info": {
   "codemirror_mode": {
    "name": "ipython",
    "version": 2
   },
   "file_extension": ".py",
   "mimetype": "text/x-python",
   "name": "python",
   "nbconvert_exporter": "python",
   "pygments_lexer": "ipython2",
   "version": "2.7.12"
  }
 },
 "nbformat": 4,
 "nbformat_minor": 2
}
