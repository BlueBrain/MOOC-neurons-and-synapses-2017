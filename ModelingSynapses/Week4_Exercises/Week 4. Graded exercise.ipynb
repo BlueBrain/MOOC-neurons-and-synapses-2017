{
 "cells": [
  {
   "cell_type": "markdown",
   "metadata": {},
   "source": [
    "# NEURON Tutorial: Stochastic synapse dynamics\n",
    "\n",
    "## Introduction\n",
    "\n",
    "In this graded exercise we will get an in-depth view of the stochastic Tsodyks-Markram Model for synaptic transmission, implement a multi-synapse connection and quantify advanced aspects of its _simulated_ electrophysiology. \n",
    "\n",
    "**Important**: Ensure you have downloaded the MOD files, and compiled them with NMODL in Week 4 Exercise 1.  It is only necessary to do this once for all Week 4 exercises. \n",
    " "
   ]
  },
  {
   "cell_type": "markdown",
   "metadata": {},
   "source": [
    "## Initialize NEURON"
   ]
  },
  {
   "cell_type": "code",
   "execution_count": null,
   "metadata": {
    "collapsed": true
   },
   "outputs": [],
   "source": [
    "import neuron\n",
    "from neuron import h\n",
    "import numpy\n",
    "import matplotlib.pyplot as plt\n",
    "# Load external files & initialize\n",
    "neuron.h.load_file(\"stdrun.hoc\");\n",
    "neuron.h.stdinit();"
   ]
  },
  {
   "cell_type": "markdown",
   "metadata": {},
   "source": [
    "## A neuron to host your synapse\n",
    "\n",
    "Following previous exercises, we will create a single compartment soma neuron to host the synapses."
   ]
  },
  {
   "cell_type": "code",
   "execution_count": null,
   "metadata": {
    "collapsed": true
   },
   "outputs": [],
   "source": [
    "soma = neuron.h.Section()\n",
    "soma.L = 40\n",
    "soma.diam = 40\n",
    "soma.insert('pas')"
   ]
  },
  {
   "cell_type": "code",
   "execution_count": null,
   "metadata": {
    "collapsed": true
   },
   "outputs": [],
   "source": [
    "# Configure the passive biophysics\n",
    "for sec in h.allsec():\n",
    "    sec.Ra = 100\n",
    "    sec.cm = 1"
   ]
  },
  {
   "cell_type": "markdown",
   "metadata": {},
   "source": [
    "Create 10 synapses at the center of the soma compartment"
   ]
  },
  {
   "cell_type": "code",
   "execution_count": null,
   "metadata": {
    "collapsed": true
   },
   "outputs": [],
   "source": [
    "synapse_list = []\n",
    "rng_list = []\n",
    "num_synapses = 10\n",
    "for i in range(num_synapses):\n",
    "    synapse = h.StochasticTsodyksMarkram_AMPA_NMDA(soma(0.5))\n",
    "    rng = h.Random()                                                          \n",
    "    rng.MCellRan4(1)  # configure the random number generator (rng) type, and the \"seed\" (more on that below)                     \n",
    "    rng.uniform(0,1)  # configure the rng to emit uniformly distributed random numbers between 0 and 1\n",
    "                      # as required by the synapse MOD file.\n",
    "    synapse.setRNG(rng)\n",
    "    synapse_list.append(synapse)\n",
    "    rng_list.append(rng)"
   ]
  },
  {
   "cell_type": "markdown",
   "metadata": {},
   "source": [
    "Define the stimulus: 8 spikes at 20Hz + 1 spike 500 ms later"
   ]
  },
  {
   "cell_type": "code",
   "execution_count": null,
   "metadata": {
    "collapsed": true
   },
   "outputs": [],
   "source": [
    "conn_list = []\n",
    "stimulator = h.VecStim()\n",
    "spike_times = [100.0, 150.0, 200.0, 250.0, 300.0, 350.0, 400.0, 450.0, 950.0]\n",
    "spikes_vector = h.Vector(spike_times)\n",
    "stimulator.play(spikes_vector)\n",
    "\n",
    "for synapse in synapse_list:\n",
    "    connection = h.NetCon(stimulator, synapse)\n",
    "    connection.weight[0] = 1.0        # In units of [nS] due to the gmax scaling factor in our .mod file\n",
    "    conn_list.append(connection)"
   ]
  },
  {
   "cell_type": "markdown",
   "metadata": {},
   "source": [
    "Create a recorder for the synaptic conductance, current, the soma voltage, the time intervals, and Use and R"
   ]
  },
  {
   "cell_type": "code",
   "execution_count": null,
   "metadata": {
    "collapsed": true
   },
   "outputs": [],
   "source": [
    "g_syn_list = []\n",
    "for synapse in synapse_list:\n",
    "    g_syn = h.Vector()\n",
    "    g_syn.record(synapse._ref_g)\n",
    "    g_syn_list.append(g_syn)\n",
    "v_soma = h.Vector()\n",
    "v_soma.record(soma(0.5)._ref_v)\n",
    "time = h.Vector()\n",
    "time.record(neuron.h._ref_t)"
   ]
  },
  {
   "cell_type": "markdown",
   "metadata": {},
   "source": [
    "Let's configure biologically plausible parameters for the AMPA and NMDA receptors, and parameters for depressing synapse (E2) dynamics."
   ]
  },
  {
   "cell_type": "code",
   "execution_count": null,
   "metadata": {
    "collapsed": true,
    "scrolled": true
   },
   "outputs": [],
   "source": [
    "for synapse in synapse_list:\n",
    "    synapse.gmax_AMPA = 0.001 # uS\n",
    "    synapse.gmax_NMDA = 0.7 * 0.001 # uS - 0.7 is a biologically typical ratio of NMDA to AMPA conductance\n",
    "    synapse.mg = 1.0 # mM\n",
    "    synapse.U1 = 0.5 # Baseline release probability\n",
    "    synapse.tau_rec = 700 # ms - recovery from depression\n",
    "    synapse.tau_facil = 10 # ms - relaxation from facilitation"
   ]
  },
  {
   "cell_type": "markdown",
   "metadata": {},
   "source": [
    "Now let's simulate"
   ]
  },
  {
   "cell_type": "code",
   "execution_count": null,
   "metadata": {
    "collapsed": true
   },
   "outputs": [],
   "source": [
    "h.tstop = 1000.0 # ms\n",
    "neuron.h.run()"
   ]
  },
  {
   "cell_type": "code",
   "execution_count": null,
   "metadata": {
    "collapsed": true
   },
   "outputs": [],
   "source": [
    "# This command gives us fancy interactive inline plots\n",
    "%matplotlib notebook\n",
    "\n",
    "def plot_timecourse(time_array, dependent_var, newfigure=True, show=True, label=None, ylabel='Membrane voltage (mV)', constants=[]):\n",
    "    \"\"\"Convenience function to plot time courses of dependent variables\"\"\"\n",
    "    if newfigure:\n",
    "        plt.figure()\n",
    "    plt.plot(time_array, dependent_var, label=label)\n",
    "    for constant in constants:\n",
    "        plt.plot(time_array, constant*numpy.ones(len(time_array)))\n",
    "    plt.xlabel('Time (ms)')\n",
    "    plt.ylabel(ylabel)\n",
    "    if show:\n",
    "        plt.show()\n",
    "        \n",
    "plot_timecourse(time, v_soma)\n",
    "plt.axis([0, 1000, -70, -60])"
   ]
  },
  {
   "cell_type": "markdown",
   "metadata": {},
   "source": [
    "Hmmm. Something strange is going on here!  We have only 2 of the 9 expected PSPs, they're very strong and there's no depression!  Let's look closer at the conductance trace of each synapse, to see if it provides a clue.  Let's use a 3d plot to get a better view of each trace.  "
   ]
  },
  {
   "cell_type": "code",
   "execution_count": null,
   "metadata": {
    "collapsed": true
   },
   "outputs": [],
   "source": [
    "def plot_synapse_traces():\n",
    "    from mpl_toolkits.mplot3d import Axes3D\n",
    "    from matplotlib.collections import PolyCollection\n",
    "    \n",
    "    fig = plt.figure()\n",
    "    ax = fig.gca(projection='3d')\n",
    "\n",
    "    # use the hsv colormap (https://matplotlib.org/users/colormaps.html)\n",
    "    colormap = plt.get_cmap(\"hsv\")\n",
    "\n",
    "    verts = []\n",
    "    for i, g_syn in enumerate(g_syn_list):\n",
    "        verts.append(list(zip(time, 1000.*numpy.array(g_syn))))\n",
    "\n",
    "    # produce 10 different colors with 60% transparency (alpha) using\n",
    "    # list comprehension (https://docs.python.org/2/tutorial/datastructures.html#list-comprehensions)\n",
    "    facecolors = [colormap(x, alpha=0.6) for x in numpy.linspace(0,1,10)]\n",
    "    poly = PolyCollection(verts, facecolors=facecolors, edgecolors=facecolors)\n",
    "    poly.set_alpha(0.7)\n",
    "    ax.add_collection3d(poly, zs=range(num_synapses), zdir='y')\n",
    "\n",
    "    ax.set_xlabel('time [ms]')\n",
    "    ax.set_xlim3d(0, 1000)\n",
    "    ax.set_zlabel('conductance [nS]')\n",
    "    ax.set_zlim3d(0, 1.)\n",
    "    ax.set_ylabel('synapse #')\n",
    "    ax.set_ylim3d(0, num_synapses)\n",
    "    ax.view_init(30, -80)\n",
    "\n",
    "plot_synapse_traces()"
   ]
  },
  {
   "cell_type": "markdown",
   "metadata": {},
   "source": [
    "The synapses are intended to be stochastic, but each synapse is doing the exact same thing!  We made an important conceptual error above when configuring our random number generators.  Can you spot it?  Random number generators generate pseudo-random streams of numbers which are reproducible for a given **seed**. We initialized the rngs for each of our ten synapses with the _same_ seed.  Let's give the rng associated with each synapse a different seed, so that each synapse will receive an independent rng stream. "
   ]
  },
  {
   "cell_type": "code",
   "execution_count": null,
   "metadata": {
    "collapsed": true
   },
   "outputs": [],
   "source": [
    "for i in range(len(rng_list)):\n",
    "    rng_list[i].MCellRan4(i) # seed each rng with its index in the rng_list"
   ]
  },
  {
   "cell_type": "code",
   "execution_count": null,
   "metadata": {
    "collapsed": true
   },
   "outputs": [],
   "source": [
    "h.tstop = 1000.0 # ms\n",
    "neuron.h.run()"
   ]
  },
  {
   "cell_type": "code",
   "execution_count": null,
   "metadata": {
    "collapsed": true
   },
   "outputs": [],
   "source": [
    "plot_synapse_traces()"
   ]
  },
  {
   "cell_type": "markdown",
   "metadata": {},
   "source": [
    "Now that looks better!  Each synapse is doing its own thing.  Note that the peak conductance is always the same, but that synapses fail, i.e. they don't always respond to a pre-synaptic spike.  So then, how is this synapse expressing depression?  Let's look at the average g_syn and voltage trace ..."
   ]
  },
  {
   "cell_type": "code",
   "execution_count": null,
   "metadata": {
    "collapsed": true
   },
   "outputs": [],
   "source": [
    "plot_timecourse(time, numpy.mean(g_syn_list, axis=0), ylabel=\"conductance [us]\")\n",
    "plt.axis([0, 1000, 0, 0.001])\n",
    "plot_timecourse(time, v_soma)\n",
    "plt.axis([0, 1000, -70, -60])"
   ]
  },
  {
   "cell_type": "markdown",
   "metadata": {},
   "source": [
    "Indeed, the response appears to depress.  Let's run 20 simulations ... "
   ]
  },
  {
   "cell_type": "code",
   "execution_count": null,
   "metadata": {
    "collapsed": true
   },
   "outputs": [],
   "source": [
    "mean_gsyn_list = []\n",
    "v_list = []\n",
    "num_trials = 50\n",
    "for i in range(num_trials):\n",
    "    neuron.h.run()\n",
    "    v_list.append(numpy.array(v_soma))\n",
    "    mean_gsyn_list.append(numpy.mean(g_syn_list, axis=0))\n"
   ]
  },
  {
   "cell_type": "markdown",
   "metadata": {},
   "source": [
    " ... and plot the mean and variability across _trials_.  "
   ]
  },
  {
   "cell_type": "code",
   "execution_count": null,
   "metadata": {
    "collapsed": true
   },
   "outputs": [],
   "source": [
    "plt.figure()\n",
    "for v in v_list:\n",
    "    plt.plot(time, v, '-', color='0.7')\n",
    "plt.plot(time, numpy.mean(v_list, axis=0), 'b-', lw=2)\n",
    "plt.axis([50, 1000, -70, -60])\n",
    "plt.ylabel(\"voltage [mV]\")\n",
    "plt.xlabel(\"time [ms]\")"
   ]
  },
  {
   "cell_type": "code",
   "execution_count": null,
   "metadata": {
    "collapsed": true,
    "scrolled": true
   },
   "outputs": [],
   "source": [
    "def extract_peaks(time, trace, event_times, window=10):\n",
    "    \"\"\"\n",
    "    Computes the peak between event_times and returns the times of occurence and the maximums\n",
    "    Useful for finding PSP or conductance peaks due to synaptic events.\n",
    "    kwarg 'window' defines the time in ms after the event to consider when searching for the peak\n",
    "    \"\"\"\n",
    "    \n",
    "    peaks_list = []\n",
    "    peaks_times_list = []\n",
    "    for event_time in event_times:\n",
    "        i_start = time.searchsorted(event_time)\n",
    "        i_end = time.searchsorted(event_time+window)\n",
    "        # find the index where the max occurs\n",
    "        i_max = numpy.argmax(trace[i_start:i_end])\n",
    "        # append the time and value at the max to the respective lists\n",
    "        peaks_times_list.append(time[i_start:i_end][i_max])\n",
    "        peaks_list.append(trace[i_start:i_end][i_max])\n",
    "        \n",
    "    return numpy.array(peaks_times_list), numpy.array(peaks_list)"
   ]
  },
  {
   "cell_type": "code",
   "execution_count": null,
   "metadata": {
    "collapsed": true
   },
   "outputs": [],
   "source": [
    "peak_times, peaks = extract_peaks(numpy.array(time), numpy.mean(v_list, axis=0), spike_times)"
   ]
  },
  {
   "cell_type": "code",
   "execution_count": null,
   "metadata": {
    "collapsed": true
   },
   "outputs": [],
   "source": [
    "plt.figure()\n",
    "for v in v_list:\n",
    "    plt.plot(time, v, '-', color='0.7')\n",
    "plt.plot(time, numpy.mean(v_list, axis=0), 'b-', lw=2)\n",
    "plt.plot(peak_times, peaks, 'r.', ms=5)\n",
    "plt.axis([50, 1000, -70, -60])\n",
    "plt.ylabel(\"voltage [mV]\")\n",
    "plt.xlabel(\"time [ms]\")"
   ]
  },
  {
   "cell_type": "markdown",
   "metadata": {},
   "source": [
    "Let's plot the PSP distribution _across_ _trials_ of the 1st and 8th spikes"
   ]
  },
  {
   "cell_type": "code",
   "execution_count": null,
   "metadata": {
    "collapsed": true
   },
   "outputs": [],
   "source": [
    "psps = []\n",
    "for v in v_list:\n",
    "    peak_times, peaks = extract_peaks(numpy.array(time), v, spike_times)\n",
    "    psps.append(peaks)\n",
    "# turn it into an array so we can take column slices, to compute the histograms\n",
    "psps = numpy.vstack(psps) - numpy.min(v)\n",
    "plt.figure()\n",
    "bins = numpy.linspace(0., 10., 50)\n",
    "plt.hist(psps[:,0], bins=bins, facecolor='blue', alpha=0.5, label=\"PSP dist of $1^\\mathrm{st}$ spike\")  # 1st spike is the 0th column\n",
    "plt.hist(psps[:,7], bins=bins, facecolor='red', alpha=0.5, label=\"PSP dist of $8^\\mathrm{th}$ spike\")  # 1st spike is the 0th column"
   ]
  },
  {
   "cell_type": "markdown",
   "metadata": {},
   "source": [
    "As can be seen by the lack of intermingling PSP amplitudes in the histogram, PSP amplitudes are quantized to 10 distinct non-zero values (equal to the number of synapses), and an eleventh bin around zero represents total failure of all synapses in this multi-synapse connection."
   ]
  },
  {
   "cell_type": "markdown",
   "metadata": {},
   "source": [
    "## Exercise Question 1\n",
    "\n",
    "What is the coefficient of variation ([defined](https://en.wikipedia.org/wiki/Coefficient_of_variation) as the standard deviation / mean) of the 1st PSP in the train (across trials).  \n",
    "Use numpy.mean, and numpy.std to compute the quantity.  Submit your answer below."
   ]
  },
  {
   "cell_type": "code",
   "execution_count": null,
   "metadata": {
    "collapsed": true
   },
   "outputs": [],
   "source": [
    "!pip -q install --upgrade --pre -i https://bbpteam.epfl.ch/repository/devpi/simple/ single-cell-mooc-client  > /dev/null 2>&1   \n",
    "import single_cell_mooc_client as sc_mc\n",
    "submission_widget = sc_mc.Submission()"
   ]
  },
  {
   "cell_type": "markdown",
   "metadata": {},
   "source": [
    "## Exercise Question 2\n",
    "\n",
    "What is the failure rate of the 8th PSP in the train.  The failure rate is the fraction of trials for which no PSP is generated.  A good way to compute this might be to use numpy.histogram.  Submit your answer below."
   ]
  },
  {
   "cell_type": "code",
   "execution_count": null,
   "metadata": {
    "collapsed": true,
    "scrolled": true
   },
   "outputs": [],
   "source": [
    "!pip -q install --upgrade --pre -i https://bbpteam.epfl.ch/repository/devpi/simple/ single-cell-mooc-client  > /dev/null 2>&1   \n",
    "import single_cell_mooc_client as sc_mc\n",
    "submission_widget = sc_mc.Submission()"
   ]
  }
 ],
 "metadata": {
  "kernelspec": {
   "display_name": "Python 2",
   "language": "python",
   "name": "python2"
  },
  "language_info": {
   "codemirror_mode": {
    "name": "ipython",
    "version": 2
   },
   "file_extension": ".py",
   "mimetype": "text/x-python",
   "name": "python",
   "nbconvert_exporter": "python",
   "pygments_lexer": "ipython2",
   "version": "2.7.12"
  }
 },
 "nbformat": 4,
 "nbformat_minor": 2
}
