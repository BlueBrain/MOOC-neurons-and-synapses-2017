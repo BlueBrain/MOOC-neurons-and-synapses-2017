{
 "cells": [
  {
   "cell_type": "markdown",
   "metadata": {},
   "source": [
    "# NEURON Exercise: Inhibitory and Excitatory Synapses\n",
    "\n",
    "\n",
    "## Introduction\n",
    "\n",
    "In this exercise, we will work the Exp2Syn synapse model included in NEURON, an implementation of a double exponential syanptic conductance profile, and explore some of its properties using simulation.\n",
    "\n",
    "You will:\n",
    "* Learn how to stimulate a synapse with a list of pre-synaptic spike times\n",
    "* Review the difference between inhibitory and excitatory synapses"
   ]
  },
  {
   "cell_type": "markdown",
   "metadata": {},
   "source": [
    "## Getting the NEURON simulator extensions (MOD files)\n",
    "\n",
    "The week 4 exercises require user extensions to the NEURON simulator.  The NMODL language is a domain specific language of the NEURON simulator for the user to define such extensions, such as ion channels, synapse models, or stimulators.  To use NMODL, the user writes .mod files adhering to the NMODL language syntax (which can include verbatim C code).  These are programs external to python, and so must be editing using an external editor.\n",
    "\n",
    "Here, we will fetch the .mod files required for the week 4 exercises from a public repository on github.\n",
    "For editing your own .mod files, we suggest creating your own github account and repository, editing them locally on your computer, committing them to your github repository, and then fetching them as below.\n",
    "This workflow has the important benefit that your .mod files are in a revision control system (git)."
   ]
  },
  {
   "cell_type": "code",
   "execution_count": null,
   "metadata": {
    "collapsed": true
   },
   "outputs": [],
   "source": [
    "!git clone https://github.com/BlueBrain/MOOC-neurons-and-synapses-2017"
   ]
  },
  {
   "cell_type": "markdown",
   "metadata": {},
   "source": [
    "## Compiling MOD files\n",
    "\n",
    "MOD files need to be compiled before they can be used with NEURON.  \n",
    "NEURON provides a tool called \"nrnivmodl\", which has the syntax:\n",
    "```bash\n",
    "$ nrnivmodl <directory>\n",
    "```\n",
    "Invocation will compile all `.mod` files found in `<directory>`, if specified, otherwise the current directory.\n",
    "\n",
    "Our `.mod` files are located in \"`./MOOC-neurons-and-synapses-2017/ModelingSynapses/mechanisms`\", so we compile them as follows (the prefix `!` is used to invoke a system call outside python):"
   ]
  },
  {
   "cell_type": "code",
   "execution_count": null,
   "metadata": {
    "collapsed": true
   },
   "outputs": [],
   "source": [
    "!nrnivmodl ./MOOC-neurons-and-synapses-2017/ModelingSynapses/mechanisms"
   ]
  },
  {
   "cell_type": "markdown",
   "metadata": {},
   "source": [
    "## nrnivmodl: Verify successful compilation\n",
    "\n",
    "The output above indicates `nrnivmodl` completed successfully.  If error messages are generated, then something maybe wrong with `.mod` files you downloaded.  Double-check your .mod files, and try again. "
   ]
  },
  {
   "cell_type": "markdown",
   "metadata": {},
   "source": [
    "## Initialize NEURON"
   ]
  },
  {
   "cell_type": "code",
   "execution_count": null,
   "metadata": {
    "collapsed": true
   },
   "outputs": [],
   "source": [
    "import neuron\n",
    "from neuron import h\n",
    "import numpy\n",
    "import matplotlib.pyplot as plt\n",
    "# Load external files & initialize\n",
    "neuron.h.load_file(\"stdrun.hoc\");\n",
    "neuron.h.stdinit();"
   ]
  },
  {
   "cell_type": "markdown",
   "metadata": {},
   "source": [
    "## A neuron to host your synapse\n",
    "\n",
    "Following previous exercises, we will create a single compartment soma neuron to host the synapse."
   ]
  },
  {
   "cell_type": "code",
   "execution_count": null,
   "metadata": {
    "collapsed": true
   },
   "outputs": [],
   "source": [
    "soma = neuron.h.Section()\n",
    "soma.L = 40\n",
    "soma.diam = 40\n",
    "soma.insert('pas')"
   ]
  },
  {
   "cell_type": "code",
   "execution_count": null,
   "metadata": {
    "collapsed": true
   },
   "outputs": [],
   "source": [
    "# Configure the passive biophysics\n",
    "for sec in h.allsec():\n",
    "    sec.Ra = 100\n",
    "    sec.cm = 1"
   ]
  },
  {
   "cell_type": "markdown",
   "metadata": {},
   "source": [
    "Create a NEURON double exponential synapse at the center of the soma compartment (see [NEURON documentation](https://www.neuron.yale.edu/neuron/static/docs/help/neuron/neuron/mech.html#Exp2Syn) for more details).\n",
    "This model has a rise time constant tau1 and a decay time constant tau2, and a reversal potential.  "
   ]
  },
  {
   "cell_type": "code",
   "execution_count": null,
   "metadata": {
    "collapsed": true
   },
   "outputs": [],
   "source": [
    "synapse = h.Exp2Syn(soma(0.5))\n",
    "synapse.tau1 = 0.5 # [ms]\n",
    "synapse.tau2 = 10.0 # [ms]\n",
    "synapse.e = -80.0 "
   ]
  },
  {
   "cell_type": "markdown",
   "metadata": {},
   "source": [
    "Define the stimulus: 8 spikes at 20Hz + 1 spike 500 ms later"
   ]
  },
  {
   "cell_type": "code",
   "execution_count": null,
   "metadata": {
    "collapsed": true
   },
   "outputs": [],
   "source": [
    "stimulator = h.VecStim()\n",
    "spike_times = [100.0, 150.0, 200.0, 250.0, 300.0, 350.0, 400.0, 450.0, 950.0]\n",
    "spikes_vector = h.Vector(spike_times)\n",
    "stimulator.play(spikes_vector)\n",
    "\n",
    "connection = h.NetCon(stimulator, synapse)\n",
    "connection.weight[0] = 0.001        # [uS]"
   ]
  },
  {
   "cell_type": "markdown",
   "metadata": {},
   "source": [
    "Create a recorder for the synaptic conductance, current, the soma voltage, and the time intervals"
   ]
  },
  {
   "cell_type": "code",
   "execution_count": null,
   "metadata": {
    "collapsed": true
   },
   "outputs": [],
   "source": [
    "g_syn = h.Vector()\n",
    "g_syn.record(synapse._ref_g)\n",
    "i_syn = h.Vector()\n",
    "i_syn.record(synapse._ref_i)\n",
    "v_soma = h.Vector()\n",
    "v_soma.record(soma(0.5)._ref_v)\n",
    "time = h.Vector()\n",
    "time.record(neuron.h._ref_t)"
   ]
  },
  {
   "cell_type": "markdown",
   "metadata": {},
   "source": [
    "Now let's simulate, then we plot the conductance trajectories, and voltage trajectories."
   ]
  },
  {
   "cell_type": "code",
   "execution_count": null,
   "metadata": {
    "collapsed": true,
    "scrolled": true
   },
   "outputs": [],
   "source": [
    "h.tstop = 1000.0 # ms\n",
    "neuron.h.run()"
   ]
  },
  {
   "cell_type": "markdown",
   "metadata": {},
   "source": [
    "For convenience, lets define a plotting helper function"
   ]
  },
  {
   "cell_type": "code",
   "execution_count": null,
   "metadata": {
    "collapsed": true
   },
   "outputs": [],
   "source": [
    "# This command gives us fancy interactive inline plots\n",
    "%matplotlib notebook\n",
    "\n",
    "def plot_timecourse(time_array, dependent_var, newfigure=True, show=True, label=None, ylabel='Membrane voltage (mV)', constants=[]):\n",
    "    \"\"\"Convenience function to plot time courses of dependent variables\"\"\"\n",
    "    if newfigure:\n",
    "        plt.figure()\n",
    "    plt.plot(time_array, dependent_var, label=label)\n",
    "    for constant in constants:\n",
    "        plt.plot(time_array, constant*numpy.ones(len(time_array)))\n",
    "    plt.xlabel('Time (ms)')\n",
    "    plt.ylabel(ylabel)\n",
    "    if show:\n",
    "        plt.show()\n"
   ]
  },
  {
   "cell_type": "markdown",
   "metadata": {},
   "source": [
    "The dual exponential model for the conductance time course has a closed form for the response due to a single pulse.\n",
    "Below we validate the implementation running in NEURON against this closed form solution. "
   ]
  },
  {
   "cell_type": "code",
   "execution_count": null,
   "metadata": {
    "collapsed": true
   },
   "outputs": [],
   "source": [
    "\n",
    "def dual_exp(t, tau_r, tau_d, t_start):\n",
    "    \"\"\"Compute the dual exponential time course using the closed form expression.\"\"\"\n",
    "    t = numpy.array(t)\n",
    "    time_to_peak = (tau_r*tau_d)/(tau_d-tau_r)*numpy.log(tau_d/tau_r)\n",
    "    factor = -numpy.exp(-time_to_peak/tau_r)+numpy.exp(-time_to_peak/tau_d)\n",
    "    f_dual_exp = lambda t: (numpy.exp(-t/tau_d) - numpy.exp(-t/tau_r))/factor\n",
    "    dual_exp = numpy.zeros_like(t)\n",
    "    dual_exp[t>=t_start] = f_dual_exp(t[t>=t_start]-t_start)\n",
    "    return dual_exp\n",
    "\n",
    "\n",
    "plot_timecourse(time, g_syn, ylabel=\"Conductance (uS)\", label=\"NEURON\")\n",
    "\n",
    "plt.plot(time, connection.weight[0]*dual_exp(time, synapse.tau1, synapse.tau2, \n",
    "                                                   t_start=100.0+connection.delay), 'r--', lw=2, label=\"math. expr.\")\n",
    "plt.legend()"
   ]
  },
  {
   "cell_type": "markdown",
   "metadata": {},
   "source": [
    "Now let's plot the voltage for these synaptic conductance events."
   ]
  },
  {
   "cell_type": "code",
   "execution_count": null,
   "metadata": {
    "collapsed": true,
    "scrolled": true
   },
   "outputs": [],
   "source": [
    "plot_timecourse(time, v_soma)"
   ]
  },
  {
   "cell_type": "markdown",
   "metadata": {},
   "source": [
    "## Exercise\n",
    "\n",
    "**Question 1**: Are you surprised??!  This is not an **excitatory** synapse (e.g. glutamatergic), but rather an **inhibitory** synapse (e.g. GABAergic).  Why is the soma voltage deflecting downwards for every synaptic pulse, rather than upwards?\n",
    "\n",
    "**Question 2**: By changing only one parameter of the synapse, how can you make this an **excitatory** synapse? Convince yourself by re-running the simulation above."
   ]
  },
  {
   "cell_type": "code",
   "execution_count": null,
   "metadata": {
    "collapsed": true
   },
   "outputs": [],
   "source": []
  }
 ],
 "metadata": {
  "kernelspec": {
   "display_name": "Python 2",
   "language": "python",
   "name": "python2"
  },
  "language_info": {
   "codemirror_mode": {
    "name": "ipython",
    "version": 2
   },
   "file_extension": ".py",
   "mimetype": "text/x-python",
   "name": "python",
   "nbconvert_exporter": "python",
   "pygments_lexer": "ipython2",
   "version": "2.7.12"
  }
 },
 "nbformat": 4,
 "nbformat_minor": 2
}
