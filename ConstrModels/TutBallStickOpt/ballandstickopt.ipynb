{
 "cells": [
  {
   "cell_type": "markdown",
   "metadata": {},
   "source": [
    "# Optimizing the parameters of a ball-and-stick model"
   ]
  },
  {
   "cell_type": "markdown",
   "metadata": {},
   "source": [
    "In this tutorial you will learn how to:\n",
    "- **Create** the cell model in BluePyOpt\n",
    "- Create a **cell evaluator**\n",
    "- Run a **parameter optimization**\n",
    "- **Analyze** the results of the optimization"
   ]
  },
  {
   "cell_type": "markdown",
   "metadata": {},
   "source": [
    "Let's load matplotlib (plotting library) first:"
   ]
  },
  {
   "cell_type": "code",
   "execution_count": 1,
   "metadata": {
    "collapsed": true
   },
   "outputs": [],
   "source": [
    "%matplotlib inline\n",
    "import matplotlib.pyplot as plt\n",
    "%load_ext autoreload\n",
    "%autoreload"
   ]
  },
  {
   "cell_type": "markdown",
   "metadata": {},
   "source": [
    "We **import BluePyOpt** and the submodule that contains all the functionality to create biophysically detailed electrical cell models"
   ]
  },
  {
   "cell_type": "code",
   "execution_count": 2,
   "metadata": {
    "collapsed": true
   },
   "outputs": [],
   "source": [
    "import bluepyopt as bpop\n",
    "import bluepyopt.ephys as ephys"
   ]
  },
  {
   "cell_type": "markdown",
   "metadata": {},
   "source": [
    "Setting up the cell model\n",
    "-------------------------\n",
    "First a template that will describe the cell has to be defined. A template consists of:\n",
    "* the shape of the cell (**morphology**)\n",
    "* the description (equations) of the **ion channels** on the membrane (mechanisms)\n",
    "* the **parameters** of the model"
   ]
  },
  {
   "cell_type": "markdown",
   "metadata": {},
   "source": [
    "### Adding a morphology\n",
    "The shape of a neuron is loaded from a file (SWC or ASC format). The description of the SWC format can be found [here](http://www.neuronland.org/NLMorphologyConverter/MorphologyFormats/SWC/Spec.html).\n",
    "\n",
    "Below you can see an SWC description of a morphology with a soma with a radius of 10 micron, and a single dendritic section with a length of 100 micron and a radius of 2 micron.\n",
    "\n",
    "Let's write this to a file so that we can load it in [BluePyOpt](https://github.com/BlueBrain/BluePyOpt)."
   ]
  },
  {
   "cell_type": "code",
   "execution_count": 3,
   "metadata": {
    "collapsed": true
   },
   "outputs": [],
   "source": [
    "morph_swc_string = \"\"\"\n",
    "1 1 0.0 0.0 -10.0 10.0 -1                                                        \n",
    "2 1 0.0 0.0 0.0 10.0 1                                                           \n",
    "3 1 0.0 0.0 10.0 10.0 2                                                          \n",
    "4 3 0.0 10.0 0.0 2.0 2                                                           \n",
    "5 3 0.0 110.0 0.0 2.0 4\n",
    "\"\"\"\n",
    "with open('ballandstick.swc', 'w') as swc_file:\n",
    "    swc_file.write(morph_swc_string)"
   ]
  },
  {
   "cell_type": "markdown",
   "metadata": {},
   "source": [
    "We can plot this morphology using the Neuronal Morphology Analysis Tool ([NeuroM](https://github.com/BlueBrain/NeuroM))"
   ]
  },
  {
   "cell_type": "code",
   "execution_count": 4,
   "metadata": {},
   "outputs": [
    {
     "data": {
      "image/png": "[encoded data removed]",
      "text/plain": [
       "<matplotlib.figure.Figure at 0x108d00b90>"
      ]
     },
     "metadata": {},
     "output_type": "display_data"
    }
   ],
   "source": [
    "import neurom\n",
    "import neurom.viewer\n",
    "fig, ax = neurom.viewer.draw(neurom.load_neuron('ballandstick.swc'))"
   ]
  },
  {
   "cell_type": "markdown",
   "metadata": {},
   "source": [
    "To use this morphology in BluePyOpt we create a NrnFileMorphology object"
   ]
  },
  {
   "cell_type": "code",
   "execution_count": 5,
   "metadata": {
    "collapsed": true
   },
   "outputs": [],
   "source": [
    "morph = ephys.morphologies.NrnFileMorphology('ballandstick.swc')"
   ]
  },
  {
   "cell_type": "markdown",
   "metadata": {},
   "source": [
    "By default a Neuron morphology has the following section lists: somatic, axonal, apical and basal. Let's create Location objects that point to the somatic and basal sectionlist. This object will be used later to specify where mechanisms have to be added etc."
   ]
  },
  {
   "cell_type": "code",
   "execution_count": 6,
   "metadata": {
    "collapsed": true
   },
   "outputs": [],
   "source": [
    "somatic_loc = ephys.locations.NrnSeclistLocation('somatic', seclist_name='somatic')\n",
    "dend_loc = ephys.locations.NrnSeclistLocation('basal', seclist_name='basal')"
   ]
  },
  {
   "cell_type": "markdown",
   "metadata": {
    "collapsed": true
   },
   "source": [
    "### Creating a mechanism\n",
    "\n",
    "Now we need to specify which ion channels are present on the membrane of this morphology. The NEURON simulator has a builtin implementation of the [Hodgkin-Huxley](https://en.wikipedia.org/wiki/Hodgkin–Huxley_model) Sodium (Na), Potassium (K) and leak channels. Let's add this mechanism (called 'hh') to the soma. \n",
    "\n",
    "The 'name' field can be chosen by the user, this name should be unique. The 'suffix' points to the same [field](https://www.neuron.yale.edu/neuron/static/new_doc/modelspec/programmatic/mechanisms/nmodl2.html#suffix) in the NMODL file of the channel. 'locations' specifies which sections the mechanism will be added to."
   ]
  },
  {
   "cell_type": "code",
   "execution_count": 7,
   "metadata": {
    "collapsed": true
   },
   "outputs": [],
   "source": [
    "hh_mech = ephys.mechanisms.NrnMODMechanism(\n",
    "        name='hh',\n",
    "        suffix='hh',\n",
    "        locations=[somatic_loc, dend_loc])"
   ]
  },
  {
   "cell_type": "markdown",
   "metadata": {
    "collapsed": true
   },
   "source": [
    "\n",
    "### Creating parameters\n",
    "\n",
    "Next we need to specify the parameters of the model. A parameter can be in two states: frozen and not-frozen. When a parameter is frozen it has an exact value, otherwise it only has some bounds but the exact value is not known yet.\n",
    "Let's define first a parameter that sets the specific capacitance of soma and dendrites to a frozen value. In this tutorial we'll focus on optimizing the parameters the soma. So we also fix the leakage conductance of the dendrite, and we make it passive by disabling the Na and K conductances."
   ]
  },
  {
   "cell_type": "code",
   "execution_count": 8,
   "metadata": {
    "collapsed": true
   },
   "outputs": [],
   "source": [
    "cm = ephys.parameters.NrnSectionParameter(\n",
    "        name='cm',\n",
    "        param_name='cm',\n",
    "        value=1.0, # in microfarad/cm2\n",
    "        locations=[somatic_loc, dend_loc],\n",
    "        frozen=True)\n",
    "\n",
    "# Fix leak conductance dendrite\n",
    "gl_dend = ephys.parameters.NrnSectionParameter(\n",
    "        name='gl_dend',\n",
    "        param_name='gl_hh',\n",
    "        value=1e-5,\n",
    "        locations=[dend_loc],\n",
    "        frozen=True)\n",
    "\n",
    "# Disable Na and K\n",
    "gnabar_dend = ephys.parameters.NrnSectionParameter(                                    \n",
    "        name='gnabar_hh_dend',\n",
    "        param_name='gnabar_hh',\n",
    "        locations=[dend_loc],\n",
    "        value=0,\n",
    "        frozen=True)     \n",
    "gkbar_dend = ephys.parameters.NrnSectionParameter(\n",
    "        name='gkbar_hh_dend',\n",
    "        param_name='gkbar_hh',\n",
    "        value=0,\n",
    "        locations=[dend_loc],\n",
    "        frozen=True)"
   ]
  },
  {
   "cell_type": "markdown",
   "metadata": {},
   "source": [
    "Now we set the bounds for the maximal conductances of the sodium and potassium channels in the soma. These two parameters will be optimised later."
   ]
  },
  {
   "cell_type": "code",
   "execution_count": 9,
   "metadata": {
    "collapsed": true
   },
   "outputs": [],
   "source": [
    "gnabar_soma = ephys.parameters.NrnSectionParameter(                                    \n",
    "        name='gnabar_soma',\n",
    "        param_name='gnabar_hh',\n",
    "        locations=[somatic_loc],\n",
    "        bounds=[0.0, 1.0],\n",
    "        frozen=False)     \n",
    "gkbar_soma = ephys.parameters.NrnSectionParameter(\n",
    "        name='gkbar_soma',\n",
    "        param_name='gkbar_hh',\n",
    "        bounds=[0.0, 1.0],\n",
    "        locations=[somatic_loc],\n",
    "        frozen=False)"
   ]
  },
  {
   "cell_type": "markdown",
   "metadata": {
    "collapsed": true
   },
   "source": [
    "### Creating the cell model\n",
    "\n",
    "We put all the components (morphology, mechanisms, parameters) together into a CellModel."
   ]
  },
  {
   "cell_type": "code",
   "execution_count": 10,
   "metadata": {
    "collapsed": true
   },
   "outputs": [],
   "source": [
    "ballandstick_cell = ephys.models.CellModel(\n",
    "        name='simple_cell',\n",
    "        morph=morph,\n",
    "        mechs=[hh_mech],\n",
    "        params=[cm, gnabar_dend, gkbar_dend, gl_dend, gnabar_soma, gkbar_soma])  "
   ]
  },
  {
   "cell_type": "markdown",
   "metadata": {},
   "source": [
    "We can print out a description of the neuron:"
   ]
  },
  {
   "cell_type": "code",
   "execution_count": 11,
   "metadata": {},
   "outputs": [
    {
     "name": "stdout",
     "output_type": "stream",
     "text": [
      "simple_cell:\n",
      "  morphology:\n",
      "    ballandstick.swc\n",
      "  mechanisms:\n",
      "    hh: hh at ['somatic', 'basal']\n",
      "  params:\n",
      "    cm: ['somatic', 'basal'] cm = 1.0\n",
      "    gnabar_hh_dend: ['basal'] gnabar_hh = 0\n",
      "    gkbar_hh_dend: ['basal'] gkbar_hh = 0\n",
      "    gl_dend: ['basal'] gl_hh = 1e-05\n",
      "    gnabar_soma: ['somatic'] gnabar_hh = [0.0, 1.0]\n",
      "    gkbar_soma: ['somatic'] gkbar_hh = [0.0, 1.0]\n",
      "\n"
     ]
    }
   ],
   "source": [
    "print(ballandstick_cell)"
   ]
  },
  {
   "cell_type": "markdown",
   "metadata": {
    "collapsed": true
   },
   "source": [
    "## Setting up a cell evaluator\n",
    "\n",
    "To optimize the parameters of the cell we need to create an object that will translate parameter values into fitness scores.\n",
    "\n",
    "This object will need to know which protocols to inject, which parameters to optimize, etc."
   ]
  },
  {
   "cell_type": "markdown",
   "metadata": {
    "collapsed": true
   },
   "source": [
    "### Creating the protocols\n",
    "\n",
    "A protocol consists of a set of stimuli, and a set of responses (i.e. recordings). These responses will later be used to calculate\n",
    "the score of the parameter values.\n",
    "Let's create two protocols, two square current pulses at somatic`[0]`(0.5) with different amplitudes.\n",
    "We first need to create a location object"
   ]
  },
  {
   "cell_type": "code",
   "execution_count": 12,
   "metadata": {
    "collapsed": true
   },
   "outputs": [],
   "source": [
    "soma_loc = ephys.locations.NrnSeclistCompLocation(\n",
    "        name='soma',\n",
    "        seclist_name='somatic',\n",
    "        sec_index=0,\n",
    "        comp_x=0.5)"
   ]
  },
  {
   "cell_type": "markdown",
   "metadata": {},
   "source": [
    "and then the stimuli, recordings and protocols. For each protocol we add a recording and a stimulus in the soma. The NrnSquarePulse stimulus represents a current clamp with a square current injection."
   ]
  },
  {
   "cell_type": "code",
   "execution_count": 13,
   "metadata": {
    "collapsed": true
   },
   "outputs": [],
   "source": [
    "sweep_protocols = []\n",
    "for protocol_name, amplitude in [('step1', 0.1), ('step2', 0.5)]:\n",
    "    stim = ephys.stimuli.NrnSquarePulse(\n",
    "                step_amplitude=amplitude,\n",
    "                step_delay=100,\n",
    "                step_duration=50,\n",
    "                location=soma_loc,\n",
    "                total_duration=200)\n",
    "    rec = ephys.recordings.CompRecording(\n",
    "            name='%s.soma.v' % protocol_name,\n",
    "            location=soma_loc,\n",
    "            variable='v')\n",
    "    protocol = ephys.protocols.SweepProtocol(protocol_name, [stim], [rec])\n",
    "    sweep_protocols.append(protocol)\n",
    "twostep_protocol = ephys.protocols.SequenceProtocol('twostep', protocols=sweep_protocols)"
   ]
  },
  {
   "cell_type": "markdown",
   "metadata": {
    "collapsed": true
   },
   "source": [
    "### Running a protocol on a cell\n",
    "\n",
    "Now we're at a stage where we can actually run a protocol on the cell. We first need to create a Simulator object (an abstraction of the NEURON simulator)."
   ]
  },
  {
   "cell_type": "code",
   "execution_count": 14,
   "metadata": {
    "collapsed": true
   },
   "outputs": [],
   "source": [
    "nrn = ephys.simulators.NrnSimulator()"
   ]
  },
  {
   "cell_type": "markdown",
   "metadata": {},
   "source": [
    "The run() method of a protocol accepts a cell model, a set of parameter values and a simulator"
   ]
  },
  {
   "cell_type": "code",
   "execution_count": 15,
   "metadata": {
    "collapsed": true
   },
   "outputs": [],
   "source": [
    "default_params = {'gnabar_soma': 0.25, 'gkbar_soma': 0.1}\n",
    "\n",
    "responses = twostep_protocol.run(cell_model=ballandstick_cell, param_values=default_params, sim=nrn)"
   ]
  },
  {
   "cell_type": "markdown",
   "metadata": {},
   "source": [
    "Plotting the response traces is now easy:"
   ]
  },
  {
   "cell_type": "code",
   "execution_count": 16,
   "metadata": {},
   "outputs": [
    {
     "data": {
      "image/png": "[encoded data removed]",
      "text/plain": [
       "<matplotlib.figure.Figure at 0x109260390>"
      ]
     },
     "metadata": {},
     "output_type": "display_data"
    }
   ],
   "source": [
    "def plot_responses(responses):\n",
    "    plt.subplot(2,1,1)\n",
    "    plt.plot(responses['step1.soma.v']['time'], responses['step1.soma.v']['voltage'], label='step1')\n",
    "    plt.legend()\n",
    "    plt.subplot(2,1,2)\n",
    "    plt.plot(responses['step2.soma.v']['time'], responses['step2.soma.v']['voltage'], label='step2')\n",
    "    plt.legend()\n",
    "    plt.tight_layout()\n",
    "\n",
    "plot_responses(responses)"
   ]
  },
  {
   "cell_type": "markdown",
   "metadata": {},
   "source": [
    "As you can see, when we use different parameter values, the response looks different."
   ]
  },
  {
   "cell_type": "code",
   "execution_count": 17,
   "metadata": {},
   "outputs": [
    {
     "data": {
      "image/png": "[encoded data removed]",
      "text/plain": [
       "<matplotlib.figure.Figure at 0x108d00950>"
      ]
     },
     "metadata": {},
     "output_type": "display_data"
    }
   ],
   "source": [
    "other_params = {'gnabar_soma': 0.1, 'gkbar_soma': 0.1}\n",
    "plot_responses(twostep_protocol.run(cell_model=ballandstick_cell, param_values=other_params, sim=nrn))"
   ]
  },
  {
   "cell_type": "markdown",
   "metadata": {},
   "source": [
    "### Exercise 1:\n",
    "\n",
    "Try to find a value of gnabar_soma (within bounds) that produces 3 spikes in the first trace and 5 traces in the second (Don't change gkbar_soma)."
   ]
  },
  {
   "cell_type": "markdown",
   "metadata": {},
   "source": [
    "### Defining eFeatures and objectives\n",
    "\n",
    "Instead of visually inspecting the traces, we can make use of eFEL (eFeature Extraction Library) to analyse the traces for us. This library can e.g. calculate the number of spikes in a trace, the height of these spikes, etc."
   ]
  },
  {
   "cell_type": "code",
   "execution_count": 18,
   "metadata": {},
   "outputs": [
    {
     "name": "stdout",
     "output_type": "stream",
     "text": [
      "Number of spikes in 2nd trace: [5]\n",
      "Spike widths (ms) in 2nd trace: [ 1.7  1.2  1.1  1.1  1.1]\n",
      "Spike amplitude (mV) in 2nd trace: [ 106.89107585   60.48828771   56.77928406   56.66706529   55.78846843]\n"
     ]
    },
    {
     "data": {
      "image/png": "[encoded data removed]",
      "text/plain": [
       "<matplotlib.figure.Figure at 0x109682cd0>"
      ]
     },
     "metadata": {},
     "output_type": "display_data"
    }
   ],
   "source": [
    "responses = twostep_protocol.run(cell_model=ballandstick_cell, param_values=default_params, sim=nrn)\n",
    "# show where these names come from\n",
    "step2_time = responses['step2.soma.v']['time']\n",
    "step2_voltage = responses['step2.soma.v']['voltage']\n",
    "\n",
    "# Define this dictionary\n",
    "trace = {'T': step2_time, 'V': step2_voltage, 'stim_start': [100], 'stim_end': [150]}\n",
    "\n",
    "import efel\n",
    "# Explain AP_width (from where to where is AP_amplitude...\n",
    "feature_values = efel.getFeatureValues([trace], ['Spikecount', 'AP_width', 'AP_amplitude'])[0]\n",
    "\n",
    "plot_responses(responses)\n",
    "print 'Number of spikes in 2nd trace: %s' % feature_values['Spikecount']\n",
    "print 'Spike widths (ms) in 2nd trace: %s' % feature_values['AP_width']\n",
    "print 'Spike amplitude (mV) in 2nd trace: %s' % feature_values['AP_amplitude']"
   ]
  },
  {
   "cell_type": "markdown",
   "metadata": {},
   "source": [
    "Now we will, for every response, define a set of eFeatures we will use for the fitness calculation later. Let's use the SpikeCount feature: the first trace should have 1 spike, the second trace 5.\n",
    "\n",
    "Different features can be combined together into objectives that will be used by the optimisation algorithm. In this case we will create one objective per feature."
   ]
  },
  {
   "cell_type": "markdown",
   "metadata": {},
   "source": [
    "Let's first set our goal. Let's ask for 4 spike in the first trace, and 6 spikes in the second trace:"
   ]
  },
  {
   "cell_type": "code",
   "execution_count": 19,
   "metadata": {
    "collapsed": true
   },
   "outputs": [],
   "source": [
    "efel_feature_means = {'step1': {'Spikecount': 4}, 'step2': {'Spikecount': 6}}"
   ]
  },
  {
   "cell_type": "markdown",
   "metadata": {},
   "source": [
    "And then we define the eFELFeature and Objective objects:"
   ]
  },
  {
   "cell_type": "code",
   "execution_count": 20,
   "metadata": {
    "collapsed": true
   },
   "outputs": [],
   "source": [
    "objectives = []\n",
    "features = []\n",
    "\n",
    "for protocol in sweep_protocols:\n",
    "    stim_start = protocol.stimuli[0].step_delay\n",
    "    stim_end = stim_start + protocol.stimuli[0].step_duration\n",
    "    for efel_feature_name, mean in efel_feature_means[protocol.name].items():\n",
    "        feature_name = '%s.%s' % (protocol.name, efel_feature_name)\n",
    "        feature = ephys.efeatures.eFELFeature(\n",
    "                    feature_name,\n",
    "                    efel_feature_name=efel_feature_name,\n",
    "                    recording_names={'': '%s.soma.v' % protocol.name},\n",
    "                    stim_start=stim_start,\n",
    "                    stim_end=stim_end,\n",
    "                    exp_mean=mean,\n",
    "                    exp_std=0.05 * abs(mean))\n",
    "        features.append(feature)\n",
    "        objective = ephys.objectives.SingletonObjective(\n",
    "            feature_name,\n",
    "            feature)\n",
    "        objectives.append(objective)"
   ]
  },
  {
   "cell_type": "markdown",
   "metadata": {},
   "source": [
    "### Creating the cell evaluator\n",
    "\n",
    "We will need an object that can use these objective definitions to calculate the scores from a protocol response. This is called a ScoreCalculator."
   ]
  },
  {
   "cell_type": "code",
   "execution_count": 21,
   "metadata": {
    "collapsed": true
   },
   "outputs": [],
   "source": [
    "score_calc = ephys.objectivescalculators.ObjectivesCalculator(objectives) "
   ]
  },
  {
   "cell_type": "markdown",
   "metadata": {},
   "source": [
    "Combining everything together we have a CellEvaluator. The CellEvaluator constructor has a field 'parameter_names' which contains the (ordered) list of names of the parameters that are used as input (and will be fitted later on)."
   ]
  },
  {
   "cell_type": "code",
   "execution_count": 22,
   "metadata": {
    "collapsed": true
   },
   "outputs": [],
   "source": [
    "cell_evaluator = ephys.evaluators.CellEvaluator(\n",
    "        cell_model=ballandstick_cell,\n",
    "        param_names=['gnabar_soma', 'gkbar_soma'],\n",
    "        fitness_protocols={twostep_protocol.name: twostep_protocol},\n",
    "        fitness_calculator=score_calc,\n",
    "        sim=nrn)\n"
   ]
  },
  {
   "cell_type": "markdown",
   "metadata": {},
   "source": [
    "### Evaluating the cell\n",
    "\n",
    "Now we can ask evaluator to calculate the scores for a set of parameters. (The lower the score the better the model). Let's calculate the score of the default_params set we used before, we know that this parameter set generates 1 spike in the first trace, and 5 spikes in the second, so we know that this should generate a perfect score of 0 for step1. For step2 we are searching for a solution with 6 spikes, so the score of our default_params won't be perfect for that trace:"
   ]
  },
  {
   "cell_type": "code",
   "execution_count": 23,
   "metadata": {},
   "outputs": [
    {
     "name": "stdout",
     "output_type": "stream",
     "text": [
      "Scores:\n",
      "\n",
      " {'step2.Spikecount': 3.333333333333333, 'step1.Spikecount': 15.0}\n"
     ]
    }
   ],
   "source": [
    "print 'Scores:', cell_evaluator.evaluate_with_dicts(default_params)"
   ]
  },
  {
   "cell_type": "markdown",
   "metadata": {
    "collapsed": true
   },
   "source": [
    "## Setting up and running an optimisation\n",
    "\n",
    "As you might have seen in Exercise 1, it's not always trivial to find a parameter value set that matches the objectives. Let's now use the BluePyOpt parameter optimisation algorithm to find a set of parameter values that generates a perfect score of 0 on both traces.\n",
    "\n",
    "The [evolutionary algorithm](https://en.wikipedia.org/wiki/Evolutionary_algorithm) used by BluePyOpt will sequentially generate of population of individual parameter sets (generations). In every generation a set of parents is selected from the previous population. These parents are used to generate an offspring, and a new population is created based on parents and offspring.\n",
    "\n",
    "Let us specify that we want to have an offspring size of 10 individuals. This means every population will have 20 individuals (10 parents, 10 offspring)."
   ]
  },
  {
   "cell_type": "code",
   "execution_count": 24,
   "metadata": {
    "collapsed": true
   },
   "outputs": [],
   "source": [
    "optimisation_algorithm = bpop.deapext.optimisations.IBEADEAPOptimisation(\n",
    "        evaluator=cell_evaluator,\n",
    "        offspring_size = 10)"
   ]
  },
  {
   "cell_type": "markdown",
   "metadata": {},
   "source": [
    "Now the optimisation algorithm can be run for a certain number of generations.\n",
    "\n",
    "**Executing the next cell will take some time (a couple of minutes). There will be a ['*'] shown next to line while it is running.** "
   ]
  },
  {
   "cell_type": "code",
   "execution_count": 25,
   "metadata": {
    "collapsed": true
   },
   "outputs": [],
   "source": [
    "final_pop, hall_of_fame, logs, hist = optimisation_algorithm.run(max_ngen=10)"
   ]
  },
  {
   "cell_type": "markdown",
   "metadata": {
    "collapsed": true
   },
   "source": [
    "The optimisation has return us 4 objects: final population, hall of fame, statistical logs and history. \n",
    "\n",
    "The final population contains a list of tuples, with each tuple representing the two parameters of the model"
   ]
  },
  {
   "cell_type": "code",
   "execution_count": 26,
   "metadata": {},
   "outputs": [
    {
     "name": "stdout",
     "output_type": "stream",
     "text": [
      "Hall of fame: \n",
      "gnabar_soma=0.111973, gkbar_soma=0.028347\n",
      "gnabar_soma=0.126539, gkbar_soma=0.028130\n",
      "gnabar_soma=0.126539, gkbar_soma=0.028347\n",
      "gnabar_soma=0.155147, gkbar_soma=0.028347\n",
      "gnabar_soma=0.769901, gkbar_soma=0.133438\n",
      "gnabar_soma=0.729154, gkbar_soma=0.133678\n",
      "gnabar_soma=0.768255, gkbar_soma=0.133438\n",
      "gnabar_soma=0.729154, gkbar_soma=0.133438\n",
      "gnabar_soma=0.564005, gkbar_soma=0.137345\n",
      "gnabar_soma=0.510401, gkbar_soma=0.127938\n"
     ]
    }
   ],
   "source": [
    "print('Hall of fame: ')\n",
    "for ind in hall_of_fame:\n",
    "    print 'gnabar_soma=%f, gkbar_soma=%f' % tuple(ind)"
   ]
  },
  {
   "cell_type": "markdown",
   "metadata": {},
   "source": [
    "The best individual found during the optimisation is the first individual of the hall of fame"
   ]
  },
  {
   "cell_type": "code",
   "execution_count": 27,
   "metadata": {},
   "outputs": [
    {
     "name": "stdout",
     "output_type": "stream",
     "text": [
      "('Best individual:  ', [0.11197318623454744, 0.02834747652200631])\n"
     ]
    }
   ],
   "source": [
    "best_ind = hall_of_fame[0]\n",
    "print('Best individual:  ', best_ind)"
   ]
  },
  {
   "cell_type": "markdown",
   "metadata": {},
   "source": [
    "We can evaluate this individual and make use of a convenience function of the cell evaluator to return us a dictionary of the scores."
   ]
  },
  {
   "cell_type": "code",
   "execution_count": 28,
   "metadata": {},
   "outputs": [
    {
     "name": "stdout",
     "output_type": "stream",
     "text": [
      "{'gkbar_soma': 0.02834747652200631, 'gnabar_soma': 0.11197318623454744}\n"
     ]
    }
   ],
   "source": [
    "best_ind_dict = cell_evaluator.param_dict(best_ind)\n",
    "print best_ind_dict"
   ]
  },
  {
   "cell_type": "markdown",
   "metadata": {},
   "source": [
    "As you can see the evaluation returns the same values as the fitness values provided by the optimisation output. \n",
    "We can have a look at the responses now."
   ]
  },
  {
   "cell_type": "code",
   "execution_count": 29,
   "metadata": {},
   "outputs": [
    {
     "name": "stdout",
     "output_type": "stream",
     "text": [
      "Score:  {'step2.Spikecount': 0.0, 'step1.Spikecount': 0.0}\n"
     ]
    },
    {
     "data": {
      "image/png": "[encoded data removed]",
      "text/plain": [
       "<matplotlib.figure.Figure at 0x10966c110>"
      ]
     },
     "metadata": {},
     "output_type": "display_data"
    }
   ],
   "source": [
    "responses = twostep_protocol.run(cell_model=ballandstick_cell, param_values=best_ind_dict, sim=nrn)\n",
    "print \"Score: \", score_calc.calculate_scores(responses)\n",
    "plot_responses(responses)\n",
    " "
   ]
  },
  {
   "cell_type": "markdown",
   "metadata": {},
   "source": [
    "And indeed, as requested, the algorithm found a solution with 4 spikes in step1 and 6 spikes in step2"
   ]
  },
  {
   "cell_type": "markdown",
   "metadata": {},
   "source": [
    "Let's have a look at the optimisation algorithm statistics.\n",
    "We can plot the minimal score (sum of all objective scores) found in every generation. "
   ]
  },
  {
   "cell_type": "code",
   "execution_count": 30,
   "metadata": {},
   "outputs": [
    {
     "data": {
      "text/plain": [
       "(0.0, 14.666666666666666)"
      ]
     },
     "execution_count": 30,
     "metadata": {},
     "output_type": "execute_result"
    },
    {
     "data": {
      "image/png": "[encoded data removed]",
      "text/plain": [
       "<matplotlib.figure.Figure at 0x1095e5850>"
      ]
     },
     "metadata": {},
     "output_type": "display_data"
    }
   ],
   "source": [
    "import numpy\n",
    "gen_numbers = logs.select('gen')\n",
    "min_fitness = logs.select('min')\n",
    "max_fitness = logs.select('max')\n",
    "plt.plot(gen_numbers, min_fitness, label='min fitness')\n",
    "plt.xlabel('generation #')\n",
    "plt.ylabel('score (# std)')\n",
    "plt.legend()\n",
    "plt.xlim(min(gen_numbers) - 1, max(gen_numbers) + 1) \n",
    "plt.ylim(0.9*min(min_fitness), 1.1 * max(min_fitness)) "
   ]
  },
  {
   "cell_type": "markdown",
   "metadata": {},
   "source": [
    "### Exercise 2:\n",
    "\n",
    "Below is a copy of some of the above statements. Every variable has '\\_ex' as suffix to prevent clashes with the code above.\n",
    "\n",
    "Change the code in such a way that instead of the Spikecount feature, we search for a solution with AP_width of 1.3 in step1 and AP_width of 1.6 in step2.\n",
    "\n",
    "Send us back the scores of the best individual found by the algorithm"
   ]
  },
  {
   "cell_type": "code",
   "execution_count": null,
   "metadata": {},
   "outputs": [],
   "source": [
    "efel_feature_means_ex = {'step1': {'Spikecount': 4}, 'step2': {'Spikecount': 6}}\n",
    "objectives_ex = []\n",
    "features_ex = []\n",
    "\n",
    "for protocol in sweep_protocols:\n",
    "    stim_start = protocol.stimuli[0].step_delay\n",
    "    stim_end = stim_start + protocol.stimuli[0].step_duration\n",
    "    for efel_feature_name, mean in efel_feature_means_ex[protocol.name].items():\n",
    "        feature_name = '%s.%s' % (protocol.name, efel_feature_name)\n",
    "        feature = ephys.efeatures.eFELFeature(\n",
    "                    feature_name,\n",
    "                    efel_feature_name=efel_feature_name,\n",
    "                    recording_names={'': '%s.soma.v' % protocol.name},\n",
    "                    stim_start=stim_start,\n",
    "                    stim_end=stim_end,\n",
    "                    exp_mean=mean,\n",
    "                    exp_std=0.05 * mean)\n",
    "        features_ex.append(feature)\n",
    "        objective = ephys.objectives.SingletonObjective(\n",
    "            feature_name,\n",
    "            feature)\n",
    "        objectives_ex.append(objective)\n",
    "        \n",
    "score_calc_ex = ephys.objectivescalculators.ObjectivesCalculator(objectives_ex)\n",
    "\n",
    "cell_evaluator_ex = ephys.evaluators.CellEvaluator(\n",
    "        cell_model=ballandstick_cell,\n",
    "        param_names=['gnabar_soma', 'gkbar_soma'],\n",
    "        fitness_protocols={twostep_protocol.name: twostep_protocol},\n",
    "        fitness_calculator=score_calc_ex,\n",
    "        sim=nrn)\n",
    "\n",
    "optimisation_algorithm_ex = bpop.deapext.optimisations.IBEADEAPOptimisation(\n",
    "        evaluator=cell_evaluator_ex,\n",
    "        offspring_size = 10)\n",
    "\n",
    "final_pop_ex, hall_of_fame_ex, logs_ex, hist_ex = optimisation_algorithm_ex.run(max_ngen=10)\n",
    "\n",
    "best_ind_ex = hall_of_fame_ex[0]\n",
    "print('Best individual: ', best_ind_ex)\n",
    "\n",
    "best_ind_dict_ex = cell_evaluator.param_dict(best_ind_ex)\n",
    "print(cell_evaluator_ex.evaluate_with_lists(best_ind_ex))\n",
    "\n",
    "plot_responses(twostep_protocol.run(cell_model=ballandstick_cell, param_values=best_ind_dict_ex, sim=nrn))"
   ]
  }
 ],
 "metadata": {
  "kernelspec": {
   "display_name": "Python 2",
   "language": "python",
   "name": "python2"
  },
  "language_info": {
   "codemirror_mode": {
    "name": "ipython",
    "version": 2
   },
   "file_extension": ".py",
   "mimetype": "text/x-python",
   "name": "python",
   "nbconvert_exporter": "python",
   "pygments_lexer": "ipython2",
   "version": "2.7.13"
  }
 },
 "nbformat": 4,
 "nbformat_minor": 1
}
